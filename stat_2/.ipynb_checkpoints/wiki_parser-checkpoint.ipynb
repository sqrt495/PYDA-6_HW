{
 "cells": [
  {
   "cell_type": "code",
   "execution_count": 11,
   "metadata": {},
   "outputs": [
    {
     "data": {
      "text/plain": [
       "['Africa',\n",
       " 'Antarctica',\n",
       " 'Asia',\n",
       " 'Europe',\n",
       " 'North America',\n",
       " 'South America',\n",
       " 'Oceania/Australia',\n",
       " 'References']"
      ]
     },
     "execution_count": 11,
     "metadata": {},
     "output_type": "execute_result"
    }
   ],
   "source": [
    "# scrapping wiki\n",
    "\n",
    "\n",
    "from urllib.request import urlopen\n",
    "from bs4 import BeautifulSoup\n",
    "import re\n",
    "\n",
    "html = urlopen('https://simple.wikipedia.org/wiki/List_of_countries_by_continents')\n",
    "bs = BeautifulSoup(html, \"html.parser\")\n",
    "# print(bs.ul)\n",
    "\n",
    "# take the continents\n",
    "\n",
    "continentList = bs.findAll('span', {'class': 'toctext'})\n",
    "continent_list = []\n",
    "for continent in continentList:\n",
    "    continent_list.append(continent.get_text())\n",
    "    \n",
    "continent_list"
   ]
  },
  {
   "cell_type": "code",
   "execution_count": 124,
   "metadata": {},
   "outputs": [],
   "source": [
    "uls = bs.find_all(['ul'])"
   ]
  },
  {
   "cell_type": "code",
   "execution_count": 122,
   "metadata": {},
   "outputs": [
    {
     "data": {
      "text/plain": [
       "'\\n1 Africa\\n2 Antarctica\\n3 Asia\\n4 Europe\\n5 North America\\n6 South America\\n7 Oceania/Australia\\n8 References\\n'"
      ]
     },
     "execution_count": 122,
     "metadata": {},
     "output_type": "execute_result"
    }
   ],
   "source": [
    "uls[0].get_text()"
   ]
  },
  {
   "cell_type": "code",
   "execution_count": 74,
   "metadata": {},
   "outputs": [
    {
     "data": {
      "text/plain": [
       "\"Algeria - Algiers\\nAngola - Luanda\\nBenin - Porto Novo, Cotonou\\nBotswana - Gaborone\\nBurkina Faso - Ouagadougou\\nBurundi - Gitega\\nCameroon (also spelled Cameroun) - Yaoundé\\nCape Verde - Praia\\nCentral African Republic - Bangui\\nChad (Tchad) - N'Djamena\\nComoros - Moroni\\nRepublic of the Congo - Brazzaville\\nDemocratic Republic of the Congo (Zaire) - Kinshasa\\nCôte d'Ivoire (Ivory Coast) - Yamoussoukro\\nDjibouti - Djibouti\\nEgypt (Misr) - Cairo\\nEquatorial Guinea - Malabo\\nEritrea - Asmara\\nEthiopia (Abyssinia) - Addis Ababa\\nGabon - Libreville\\nThe Gambia - Banjul\\nGhana - Accra\\nGuinea - Conakry\\nGuinea-Bissau - Bissau\\nKenya - Nairobi\\nLesotho - Maseru\\nLiberia - Monrovia\\nLibya - Tripoli\\nMadagascar - Antananarivo\\nMalawi - Lilongwe\\nMali - Bamako\\nMauritania - Nouakchott\\nMauritius - Port Louis\\nMorocco (Al Maghrib) - Rabat\\nMozambique - Maputo\\nNamibia - Windhoek\\nNiger - Niamey\\nNigeria - Abuja\\nRwanda - Kigali\\nSão Tomé and Príncipe - São Tomé\\nSenegal - Dakar\\nSeychelles - Victoria, Seychelles\\nSierra Leone - Freetown\\nSomalia - Mogadishu\\nSouth Africa -  Pretoria\\nSouth Sudan - Juba\\nSudan - Khartoum\\nSwaziland (Eswatini) - Mbabane\\nTanzania - Dodoma\\nTogo - Lome\\nTunisia - Tunis\\nUganda - Kampala\\nWestern Sahara - El Aaiún (disputed)\\nZambia - Lusaka\\nZimbabwe - Harare\""
      ]
     },
     "execution_count": 74,
     "metadata": {},
     "output_type": "execute_result"
    }
   ],
   "source": [
    "Africa = uls[1].get_text()\n",
    "Africa"
   ]
  },
  {
   "cell_type": "code",
   "execution_count": 75,
   "metadata": {},
   "outputs": [],
   "source": [
    "Africa_countries_with_capitals = re.split('[\\n]', Africa)"
   ]
  },
  {
   "cell_type": "code",
   "execution_count": 144,
   "metadata": {},
   "outputs": [
    {
     "data": {
      "text/plain": [
       "['Algeria - Algiers',\n",
       " 'Angola - Luanda',\n",
       " 'Benin - Porto Novo, Cotonou',\n",
       " 'Botswana - Gaborone',\n",
       " 'Burkina Faso - Ouagadougou',\n",
       " 'Burundi - Gitega',\n",
       " 'Cameroon (also spelled Cameroun) - Yaoundé',\n",
       " 'Cape Verde - Praia',\n",
       " 'Central African Republic - Bangui',\n",
       " \"Chad (Tchad) - N'Djamena\",\n",
       " 'Comoros - Moroni',\n",
       " 'Republic of the Congo - Brazzaville',\n",
       " 'Democratic Republic of the Congo (Zaire) - Kinshasa',\n",
       " \"Côte d'Ivoire (Ivory Coast) - Yamoussoukro\",\n",
       " 'Djibouti - Djibouti',\n",
       " 'Egypt (Misr) - Cairo',\n",
       " 'Equatorial Guinea - Malabo',\n",
       " 'Eritrea - Asmara',\n",
       " 'Ethiopia (Abyssinia) - Addis Ababa',\n",
       " 'Gabon - Libreville',\n",
       " 'The Gambia - Banjul',\n",
       " 'Ghana - Accra',\n",
       " 'Guinea - Conakry',\n",
       " 'Guinea-Bissau - Bissau',\n",
       " 'Kenya - Nairobi',\n",
       " 'Lesotho - Maseru',\n",
       " 'Liberia - Monrovia',\n",
       " 'Libya - Tripoli',\n",
       " 'Madagascar - Antananarivo',\n",
       " 'Malawi - Lilongwe',\n",
       " 'Mali - Bamako',\n",
       " 'Mauritania - Nouakchott',\n",
       " 'Mauritius - Port Louis',\n",
       " 'Morocco (Al Maghrib) - Rabat',\n",
       " 'Mozambique - Maputo',\n",
       " 'Namibia - Windhoek',\n",
       " 'Niger - Niamey',\n",
       " 'Nigeria - Abuja',\n",
       " 'Rwanda - Kigali',\n",
       " 'São Tomé and Príncipe - São Tomé',\n",
       " 'Senegal - Dakar',\n",
       " 'Seychelles - Victoria, Seychelles',\n",
       " 'Sierra Leone - Freetown',\n",
       " 'Somalia - Mogadishu',\n",
       " 'South Africa -  Pretoria',\n",
       " 'South Sudan - Juba',\n",
       " 'Sudan - Khartoum',\n",
       " 'Swaziland (Eswatini) - Mbabane',\n",
       " 'Tanzania - Dodoma',\n",
       " 'Togo - Lome',\n",
       " 'Tunisia - Tunis',\n",
       " 'Uganda - Kampala',\n",
       " 'Western Sahara - El Aaiún (disputed)',\n",
       " 'Zambia - Lusaka',\n",
       " 'Zimbabwe - Harare']"
      ]
     },
     "execution_count": 144,
     "metadata": {},
     "output_type": "execute_result"
    }
   ],
   "source": [
    "Africa_countries_with_capitals"
   ]
  },
  {
   "cell_type": "code",
   "execution_count": 170,
   "metadata": {},
   "outputs": [],
   "source": [
    "Africa_countries = []\n",
    "for i in Africa_countries_with_capitals:\n",
    "    Africa_countries.append(re.findall('[\\D]*(?= -)', i)[0])"
   ]
  },
  {
   "cell_type": "code",
   "execution_count": 171,
   "metadata": {},
   "outputs": [
    {
     "data": {
      "text/plain": [
       "['Algeria',\n",
       " 'Angola',\n",
       " 'Benin',\n",
       " 'Botswana',\n",
       " 'Burkina Faso',\n",
       " 'Burundi',\n",
       " 'Cameroon (also spelled Cameroun)',\n",
       " 'Cape Verde',\n",
       " 'Central African Republic',\n",
       " 'Chad (Tchad)',\n",
       " 'Comoros',\n",
       " 'Republic of the Congo',\n",
       " 'Democratic Republic of the Congo (Zaire)',\n",
       " \"Côte d'Ivoire (Ivory Coast)\",\n",
       " 'Djibouti',\n",
       " 'Egypt (Misr)',\n",
       " 'Equatorial Guinea',\n",
       " 'Eritrea',\n",
       " 'Ethiopia (Abyssinia)',\n",
       " 'Gabon',\n",
       " 'The Gambia',\n",
       " 'Ghana',\n",
       " 'Guinea',\n",
       " 'Guinea-Bissau',\n",
       " 'Kenya',\n",
       " 'Lesotho',\n",
       " 'Liberia',\n",
       " 'Libya',\n",
       " 'Madagascar',\n",
       " 'Malawi',\n",
       " 'Mali',\n",
       " 'Mauritania',\n",
       " 'Mauritius',\n",
       " 'Morocco (Al Maghrib)',\n",
       " 'Mozambique',\n",
       " 'Namibia',\n",
       " 'Niger',\n",
       " 'Nigeria',\n",
       " 'Rwanda',\n",
       " 'São Tomé and Príncipe',\n",
       " 'Senegal',\n",
       " 'Seychelles',\n",
       " 'Sierra Leone',\n",
       " 'Somalia',\n",
       " 'South Africa',\n",
       " 'South Sudan',\n",
       " 'Sudan',\n",
       " 'Swaziland (Eswatini)',\n",
       " 'Tanzania',\n",
       " 'Togo',\n",
       " 'Tunisia',\n",
       " 'Uganda',\n",
       " 'Western Sahara',\n",
       " 'Zambia',\n",
       " 'Zimbabwe']"
      ]
     },
     "execution_count": 171,
     "metadata": {},
     "output_type": "execute_result"
    }
   ],
   "source": [
    "Africa_countries    "
   ]
  },
  {
   "cell_type": "code",
   "execution_count": 172,
   "metadata": {},
   "outputs": [
    {
     "data": {
      "text/plain": [
       "['Afghanistan    - Kabul',\n",
       " 'Armenia        - Yerevan',\n",
       " 'Azerbaijan     - Baku',\n",
       " 'Bahrain - Manama',\n",
       " 'Bangladesh [1](বাংলাদেশ) - Dhaka (ঢাকা)',\n",
       " 'Bhutan - Thimphu',\n",
       " 'Brunei - Bandar Seri Begawan',\n",
       " 'Cambodia (Kampuchea) - Phnom Penh',\n",
       " 'China - Beijing',\n",
       " 'Cyprus - Nicosia',\n",
       " 'East Timor (Timor Leste) - Dili',\n",
       " 'Georgia - Tbilisi',\n",
       " 'Hong Kong - Hong Kong',\n",
       " 'India - New Delhi',\n",
       " 'Indonesia - Jakarta',\n",
       " 'Iran - Tehran',\n",
       " 'Iraq - Baghdad',\n",
       " 'Israel - Tel Aviv',\n",
       " 'Japan - Tokyo',\n",
       " 'Jordan (Al Urdun) - Amman',\n",
       " 'Kazakhstan - nursultan',\n",
       " 'Kuwait - Kuwait',\n",
       " 'Kyrgyzstan - Bishkek',\n",
       " 'Laos - Vientiane',\n",
       " 'Lebanon (Lubnan) - Beirut',\n",
       " 'Malaysia - Kuala Lumpur',\n",
       " 'Maldives - Malé',\n",
       " 'Mongolia - Ulaanbaatar',\n",
       " 'Myanmar (Burma) - Naypyidaw',\n",
       " 'Nepal - Kathmandu',\n",
       " 'North Korea - Pyongyang',\n",
       " 'Oman - Muscat',\n",
       " 'Pakistan - Islamabad',\n",
       " 'Palestine - Jerusalem',\n",
       " 'Philippines - Manila',\n",
       " 'Qatar - Doha',\n",
       " 'Russia - Moscow(Russia is a part of Asia geographically,but politically it is a part of Europe)',\n",
       " 'Saudi Arabia - Riyadh',\n",
       " 'Singapore - Singapore',\n",
       " 'South Korea - Seoul',\n",
       " 'Sri Lanka - Sri Jayawardenapura Kotte (administrative), Colombo (commercial)',\n",
       " 'Syria - Damascus',\n",
       " 'Taiwan (Republic of China) - Taipei',\n",
       " 'Tajikistan - Dushanbe',\n",
       " 'Thailand (Muang Thai) - Bangkok',\n",
       " 'Turkey - Ankara',\n",
       " 'Turkmenistan - Aşgabat',\n",
       " 'United Arab Emirates - Abu Dhabi',\n",
       " 'Uzbekistan - Tashkent',\n",
       " 'Vietnam - Hanoi',\n",
       " \"Yemen - Sana'a\"]"
      ]
     },
     "execution_count": 172,
     "metadata": {},
     "output_type": "execute_result"
    }
   ],
   "source": [
    "Asia = uls[2].get_text()\n",
    "Asia_countries_with_capitals = re.split('[\\n]', Asia)\n",
    "Asia_countries_with_capitals"
   ]
  },
  {
   "cell_type": "code",
   "execution_count": 176,
   "metadata": {},
   "outputs": [
    {
     "data": {
      "text/plain": [
       "['Afghanistan   ',\n",
       " 'Armenia       ',\n",
       " 'Azerbaijan    ',\n",
       " 'Bahrain',\n",
       " '](বাংলাদেশ)',\n",
       " 'Bhutan',\n",
       " 'Brunei',\n",
       " 'Cambodia (Kampuchea)',\n",
       " 'China',\n",
       " 'Cyprus',\n",
       " 'East Timor (Timor Leste)',\n",
       " 'Georgia',\n",
       " 'Hong Kong',\n",
       " 'India',\n",
       " 'Indonesia',\n",
       " 'Iran',\n",
       " 'Iraq',\n",
       " 'Israel',\n",
       " 'Japan',\n",
       " 'Jordan (Al Urdun)',\n",
       " 'Kazakhstan',\n",
       " 'Kuwait',\n",
       " 'Kyrgyzstan',\n",
       " 'Laos',\n",
       " 'Lebanon (Lubnan)',\n",
       " 'Malaysia',\n",
       " 'Maldives',\n",
       " 'Mongolia',\n",
       " 'Myanmar (Burma)',\n",
       " 'Nepal',\n",
       " 'North Korea',\n",
       " 'Oman',\n",
       " 'Pakistan',\n",
       " 'Palestine',\n",
       " 'Philippines',\n",
       " 'Qatar',\n",
       " 'Russia',\n",
       " 'Saudi Arabia',\n",
       " 'Singapore',\n",
       " 'South Korea',\n",
       " 'Sri Lanka',\n",
       " 'Syria',\n",
       " 'Taiwan (Republic of China)',\n",
       " 'Tajikistan',\n",
       " 'Thailand (Muang Thai)',\n",
       " 'Turkey',\n",
       " 'Turkmenistan',\n",
       " 'United Arab Emirates',\n",
       " 'Uzbekistan',\n",
       " 'Vietnam',\n",
       " 'Yemen']"
      ]
     },
     "execution_count": 176,
     "metadata": {},
     "output_type": "execute_result"
    }
   ],
   "source": [
    "Asia_countries = []\n",
    "for i in Asia_countries_with_capitals:\n",
    "    Asia_countries.append(re.findall('[\\D]*(?= -)', i)[0])\n",
    "# какая-то ерунда с Bangladesh\n",
    "Asia_countries"
   ]
  },
  {
   "cell_type": "code",
   "execution_count": 134,
   "metadata": {},
   "outputs": [
    {
     "data": {
      "text/plain": [
       "\"Albania (Shqipëria) - Tirana\\nAndorra - Andorra la Vella\\nAustria (Österreich) - Vienna\\nBelarus (Беларусь) - Minsk\\nBelgium (Dutch: België, French:\\xa0Belgique, German:\\xa0Belgien) - Brussels\\nBosnia and Herzegovina (Bosna i Hercegovina) - Sarajevo\\nBulgaria (България) - Sofia\\nCroatia (Hrvatska) - Zagreb\\nCzech Republic (Česko) - Prague\\nDenmark (Danmark) - Copenhagen\\nEstonia (Eesti) - Tallinn\\nFinland (Suomi) - Helsinki\\nFrance - Paris\\nGermany (Deutschland) - Berlin\\nGreece (Ελλάδα) - Athens\\nHungary (Magyarország) - Budapest\\nIceland** (Island) - Reykjavik\\nRepublic of Ireland (Éire) - Dublin\\nItaly (Italia) - Rome\\nKosovo** - Pristina\\nLatvia (Latvija) - Riga\\nLiechtenstein - Vaduz\\nLithuania (Lietuva) - Vilnius\\nLuxembourg - Luxembourg City\\nMacedonia (FYROP)  (Македонија) - Skopje\\nMalta - Valletta\\nMoldova - Chisinau\\nMonaco - Monte Carlo Quarter\\nMontenegro (Crna Gora, Црна Гора) - Podgorica\\nNetherlands (Nederland) - Amsterdam (Capital), The Hague (Government)\\nNorway (Norge) - Oslo\\nPoland (Polska) - Warsaw\\nPortugal - Lisbon\\nRomania - Bucharest\\nRussia** Moscow(Russia is part of Europe politically,but it's a part of Asia geographically)\\nSan Marino - San Marino\\nSerbia (Србија) - Belgrade\\nSlovakia (Slovensko) - Bratislava\\nSlovenia (Slovenija) - Ljubljana\\nSpain (España) - Madrid\\nSweden (Sverige) - Stockholm\\nSwitzerland (German: Schweiz, French: Suisse, Italian: Svizzera, Romansh: Svizra) - Bern\\nUkraine (Україна) - Kyiv or Kiev\\nUnited Kingdom - London\\nVatican City** (Italian: Città del Vaticano, Latin: Civitas Vaticana) - Vatican City\""
      ]
     },
     "execution_count": 134,
     "metadata": {},
     "output_type": "execute_result"
    }
   ],
   "source": [
    "Europe"
   ]
  },
  {
   "cell_type": "code",
   "execution_count": 179,
   "metadata": {},
   "outputs": [
    {
     "data": {
      "text/plain": [
       "['Albania (Shqipëria) - Tirana',\n",
       " 'Andorra - Andorra la Vella',\n",
       " 'Austria (Österreich) - Vienna',\n",
       " 'Belarus (Беларусь) - Minsk',\n",
       " 'Belgium (Dutch: België, French:\\xa0Belgique, German:\\xa0Belgien) - Brussels',\n",
       " 'Bosnia and Herzegovina (Bosna i Hercegovina) - Sarajevo',\n",
       " 'Bulgaria (България) - Sofia',\n",
       " 'Croatia (Hrvatska) - Zagreb',\n",
       " 'Czech Republic (Česko) - Prague',\n",
       " 'Denmark (Danmark) - Copenhagen',\n",
       " 'Estonia (Eesti) - Tallinn',\n",
       " 'Finland (Suomi) - Helsinki',\n",
       " 'France - Paris',\n",
       " 'Germany (Deutschland) - Berlin',\n",
       " 'Greece (Ελλάδα) - Athens',\n",
       " 'Hungary (Magyarország) - Budapest',\n",
       " 'Iceland** (Island) - Reykjavik',\n",
       " 'Republic of Ireland (Éire) - Dublin',\n",
       " 'Italy (Italia) - Rome',\n",
       " 'Kosovo** - Pristina',\n",
       " 'Latvia (Latvija) - Riga',\n",
       " 'Liechtenstein - Vaduz',\n",
       " 'Lithuania (Lietuva) - Vilnius',\n",
       " 'Luxembourg - Luxembourg City',\n",
       " 'Macedonia (FYROP)  (Македонија) - Skopje',\n",
       " 'Malta - Valletta',\n",
       " 'Moldova - Chisinau',\n",
       " 'Monaco - Monte Carlo Quarter',\n",
       " 'Montenegro (Crna Gora, Црна Гора) - Podgorica',\n",
       " 'Netherlands (Nederland) - Amsterdam (Capital), The Hague (Government)',\n",
       " 'Norway (Norge) - Oslo',\n",
       " 'Poland (Polska) - Warsaw',\n",
       " 'Portugal - Lisbon',\n",
       " 'Romania - Bucharest',\n",
       " \"Russia** Moscow(Russia is part of Europe politically,but it's a part of Asia geographically)\",\n",
       " 'San Marino - San Marino',\n",
       " 'Serbia (Србија) - Belgrade',\n",
       " 'Slovakia (Slovensko) - Bratislava',\n",
       " 'Slovenia (Slovenija) - Ljubljana',\n",
       " 'Spain (España) - Madrid',\n",
       " 'Sweden (Sverige) - Stockholm',\n",
       " 'Switzerland (German: Schweiz, French: Suisse, Italian: Svizzera, Romansh: Svizra) - Bern',\n",
       " 'Ukraine (Україна) - Kyiv or Kiev',\n",
       " 'United Kingdom - London',\n",
       " 'Vatican City** (Italian: Città del Vaticano, Latin: Civitas Vaticana) - Vatican City']"
      ]
     },
     "execution_count": 179,
     "metadata": {},
     "output_type": "execute_result"
    }
   ],
   "source": [
    "Europe = uls[3].get_text()\n",
    "Europe_countries_with_capitals = re.split('[\\n]', Europe)\n",
    "Europe_countries_with_capitals\n",
    "Europe_countries = []\n",
    "for i in Europe_countries_with_capitals:\n",
    "    Europe_countries.append(re.findall('[\\D]*', i)[0])\n",
    "    \n",
    "Europe_countries"
   ]
  },
  {
   "cell_type": "code",
   "execution_count": 118,
   "metadata": {},
   "outputs": [
    {
     "data": {
      "text/plain": [
       "\"Antigua and Barbuda - St. John's\\nAnguilla - The Valley (territory of U.K.)\\nAruba - Oranjestad (Constituent country of the Kingdom of the Netherlands)\\nThe Bahamas - Nassau\\nBarbados - Bridgetown\\nBelize - Belmopan\\nBermuda - Hamilton (territory of U.K.)\\nBonaire - part of the Netherlands\\nBritish Virgin Islands - Road Town (territory of U.K.)\\nCanada - Ottawa\\nCayman Islands - George Town (territory of U.K.)\\nClipperton Island - (territory of France)\\nCosta Rica - San José\\nCuba - Havana\\nCuraçao - Willemstad (Constituent country of the Kingdom of the Netherlands)\\nDominica - Roseau\\nDominican Republic (Republica Dominicana) - Santo Domingo\\nEl Salvador - San Salvador\\nGreenland - Nuuk (territory of Denmark)\\nGrenada - St George's\\nGuadeloupe - (territory of France)\\nGuatemala - Guatemala\\nHaiti - Port-au-Prince\\nHonduras - Tegucigalpa\\nJamaica - Kingston\\nMartinique - Fort-de-France Bay (territory of France)\\nMexico - Mexico City\\nMontserrat - Plymouth, Brades, Little Bay (territory of U.K.)\\nNavassa Island - Washington, D.C. (territory of U.S.)\\nNicaragua - Managua\\nPanama (Panamá) - Panama City\\nPuerto Rico - San Juan (territory of U.S.)\\nSaba - The Bottom  (territory of Netherlands)\\nSaint Barthelemy - Gustavia (territory of France)\\nSaint Kitts and Nevis - Basseterre\\nSaint Lucia - Castries\\nSaint Martin - Marigot (territory of France)\\nSaint Pierre and Miquelon - Saint-Pierre (territory of France)\\nSaint Vincent and the Grenadines - Kingstown\\nSint Eustatius - Oranjestad  (territory of Netherlands)\\nSint Maarten - Philipsburg (Constituent country of the Kingdom of the Netherlands)\\nTrinidad and Tobago - Port of Spain\\nTurks and Caicos - Cockburn Town (British Overseas Territory)\\nUnited States of America - Washington, District of Columbia\\nUS Virgin Islands - Charlotte Amalie (territory of U.S.)\""
      ]
     },
     "execution_count": 118,
     "metadata": {},
     "output_type": "execute_result"
    }
   ],
   "source": [
    "uls[4].get_text()"
   ]
  },
  {
   "cell_type": "code",
   "execution_count": 119,
   "metadata": {},
   "outputs": [
    {
     "data": {
      "text/plain": [
       "'Argentina - Buenos Aires\\nBolivia - Sucré\\nBrazil (Brasil) - Brasília\\nChile - Santiago\\nColombia - Bogotá\\nEcuador - Quito\\nFrench Guiana - Cayenne (territory of France)\\nGuyana - Georgetown\\nParaguay - Asunción\\nPeru - Lima\\nSouth Georgia and the South Sandwich Islands - (territory of U.K.)\\nSuriname - Paramaribo\\nUruguay - Montevideo\\nVenezuela - Caracas'"
      ]
     },
     "execution_count": 119,
     "metadata": {},
     "output_type": "execute_result"
    }
   ],
   "source": [
    "uls[5].get_text()"
   ]
  },
  {
   "cell_type": "code",
   "execution_count": 120,
   "metadata": {},
   "outputs": [
    {
     "data": {
      "text/plain": [
       "\"Australia - Canberra\\nFederated States of Micronesia - Palikir\\nFiji - suva\\nKiribati - South Tarawa\\nMarshall Islands - Majuro\\nNauru - no capital; biggest city is Yaren\\nNew Zealand - Wellington\\nPalau - Melekeok\\nPapua New Guinea - Port Moresby\\nSamoa - Apia\\nSolomon Islands - Honiara\\nTonga - Nuku'alofa\\nTuvalu - Funafuti\\nVanuatu - Port Vila\""
      ]
     },
     "execution_count": 120,
     "metadata": {},
     "output_type": "execute_result"
    }
   ],
   "source": [
    "uls[6].get_text()"
   ]
  },
  {
   "cell_type": "code",
   "execution_count": 162,
   "metadata": {},
   "outputs": [],
   "source": [
    "# scrapping wiki\n",
    "\n",
    "import re\n",
    "from urllib.request import urlopen\n",
    "from bs4 import BeautifulSoup\n",
    "\n",
    "html = urlopen('https://simple.wikipedia.org/wiki/List_of_countries_by_continents')\n",
    "bs = BeautifulSoup(html, \"html.parser\")"
   ]
  },
  {
   "cell_type": "code",
   "execution_count": 163,
   "metadata": {},
   "outputs": [
    {
     "data": {
      "text/plain": [
       "['Africa',\n",
       " 'Antarctica',\n",
       " 'Asia',\n",
       " 'Europe',\n",
       " 'North America',\n",
       " 'South America',\n",
       " 'Oceania/Australia',\n",
       " 'References']"
      ]
     },
     "execution_count": 163,
     "metadata": {},
     "output_type": "execute_result"
    }
   ],
   "source": [
    "continentList = bs.findAll('span', {'class': 'toctext'})\n",
    "continent_list = []\n",
    "for continent in continentList:\n",
    "    continent_list.append(continent.get_text())\n",
    "    \n",
    "continent_list"
   ]
  },
  {
   "cell_type": "code",
   "execution_count": 164,
   "metadata": {},
   "outputs": [
    {
     "data": {
      "text/plain": [
       "['Africa',\n",
       " 'Asia',\n",
       " 'Europe',\n",
       " 'North America',\n",
       " 'South America',\n",
       " 'Oceania/Australia']"
      ]
     },
     "execution_count": 164,
     "metadata": {},
     "output_type": "execute_result"
    }
   ],
   "source": [
    "continent_list =  continent_list[:-1]\n",
    "continent_list.remove('Antarctica')\n",
    "continent_list"
   ]
  },
  {
   "cell_type": "code",
   "execution_count": 165,
   "metadata": {},
   "outputs": [],
   "source": [
    "# take all <ul>-tags\n",
    "uls = bs.find_all(['ul'])\n",
    "uls_content = []\n",
    "for i in uls:\n",
    "    uls_content.append(re.split('[\\n]', i.get_text()))"
   ]
  },
  {
   "cell_type": "code",
   "execution_count": 181,
   "metadata": {},
   "outputs": [],
   "source": [
    "# страны хранятся в списке:\n",
    "countries_with_capitals = uls_content[1:7]\n",
    "\n",
    "# # напишем функцию которая оставит только названия стран в списках\n",
    "def make_country_list(continent_list, countries_with_capitals):\n",
    "    globus = {}\n",
    "    clear_list = []\n",
    "    for a in range(0,6):\n",
    "         globus[continent_list[a]]=countries_with_capitals[a]\n",
    "    return globus\n",
    "    \n",
    "globus = make_country_list(continent_list, countries_with_capitals)"
   ]
  },
  {
   "cell_type": "code",
   "execution_count": 185,
   "metadata": {},
   "outputs": [
    {
     "data": {
      "text/plain": [
       "['Albania (Shqipëria) - Tirana',\n",
       " 'Andorra - Andorra la Vella',\n",
       " 'Austria (Österreich) - Vienna',\n",
       " 'Belarus (Беларусь) - Minsk',\n",
       " 'Belgium (Dutch: België, French:\\xa0Belgique, German:\\xa0Belgien) - Brussels',\n",
       " 'Bosnia and Herzegovina (Bosna i Hercegovina) - Sarajevo',\n",
       " 'Bulgaria (България) - Sofia',\n",
       " 'Croatia (Hrvatska) - Zagreb',\n",
       " 'Czech Republic (Česko) - Prague',\n",
       " 'Denmark (Danmark) - Copenhagen',\n",
       " 'Estonia (Eesti) - Tallinn',\n",
       " 'Finland (Suomi) - Helsinki',\n",
       " 'France - Paris',\n",
       " 'Germany (Deutschland) - Berlin',\n",
       " 'Greece (Ελλάδα) - Athens',\n",
       " 'Hungary (Magyarország) - Budapest',\n",
       " 'Iceland** (Island) - Reykjavik',\n",
       " 'Republic of Ireland (Éire) - Dublin',\n",
       " 'Italy (Italia) - Rome',\n",
       " 'Kosovo** - Pristina',\n",
       " 'Latvia (Latvija) - Riga',\n",
       " 'Liechtenstein - Vaduz',\n",
       " 'Lithuania (Lietuva) - Vilnius',\n",
       " 'Luxembourg - Luxembourg City',\n",
       " 'Macedonia (FYROP)  (Македонија) - Skopje',\n",
       " 'Malta - Valletta',\n",
       " 'Moldova - Chisinau',\n",
       " 'Monaco - Monte Carlo Quarter',\n",
       " 'Montenegro (Crna Gora, Црна Гора) - Podgorica',\n",
       " 'Netherlands (Nederland) - Amsterdam (Capital), The Hague (Government)',\n",
       " 'Norway (Norge) - Oslo',\n",
       " 'Poland (Polska) - Warsaw',\n",
       " 'Portugal - Lisbon',\n",
       " 'Romania - Bucharest',\n",
       " \"Russia** Moscow(Russia is part of Europe politically,but it's a part of Asia geographically)\",\n",
       " 'San Marino - San Marino',\n",
       " 'Serbia (Србија) - Belgrade',\n",
       " 'Slovakia (Slovensko) - Bratislava',\n",
       " 'Slovenia (Slovenija) - Ljubljana',\n",
       " 'Spain (España) - Madrid',\n",
       " 'Sweden (Sverige) - Stockholm',\n",
       " 'Switzerland (German: Schweiz, French: Suisse, Italian: Svizzera, Romansh: Svizra) - Bern',\n",
       " 'Ukraine (Україна) - Kyiv or Kiev',\n",
       " 'United Kingdom - London',\n",
       " 'Vatican City** (Italian: Città del Vaticano, Latin: Civitas Vaticana) - Vatican City']"
      ]
     },
     "execution_count": 185,
     "metadata": {},
     "output_type": "execute_result"
    }
   ],
   "source": [
    "globus['Europe']"
   ]
  },
  {
   "cell_type": "code",
   "execution_count": null,
   "metadata": {},
   "outputs": [],
   "source": []
  }
 ],
 "metadata": {
  "kernelspec": {
   "display_name": "Python 3",
   "language": "python",
   "name": "python3"
  },
  "language_info": {
   "codemirror_mode": {
    "name": "ipython",
    "version": 3
   },
   "file_extension": ".py",
   "mimetype": "text/x-python",
   "name": "python",
   "nbconvert_exporter": "python",
   "pygments_lexer": "ipython3",
   "version": "3.7.3"
  }
 },
 "nbformat": 4,
 "nbformat_minor": 2
}
