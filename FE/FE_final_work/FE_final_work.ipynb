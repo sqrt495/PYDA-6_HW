{
 "cells": [
  {
   "cell_type": "markdown",
   "metadata": {},
   "source": [
    "## Навигация: <a class=\"anchor\" id=\"contents\"></a>\n",
    "\n",
    "### 1. [Первичная оценка](#intro)\n",
    "### 2. [Изучение признаков](#features)\n",
    "### 3. [Графики](#plots)\n",
    "### 4. [Предобработка признаков](#fe)\n",
    "### 5. [Модели](#rnf)\n",
    "#### 5.1. [RandomForestClassifier](#rnf)\n",
    "#### 5.2. [LogisticRegression](#lr)\n",
    "#### 5.3. [kNN (K-Nearest Neighbors)](#knn)"
   ]
  },
  {
   "cell_type": "code",
   "execution_count": 37,
   "metadata": {},
   "outputs": [],
   "source": [
    "import pandas as pd\n",
    "import matplotlib.pyplot as plt\n",
    "import seaborn as sns\n",
    "import numpy as np"
   ]
  },
  {
   "cell_type": "code",
   "execution_count": 161,
   "metadata": {},
   "outputs": [],
   "source": [
    "df = pd.read_csv('taxi.csv') "
   ]
  },
  {
   "cell_type": "markdown",
   "metadata": {},
   "source": [
    "### Небольшой датасет с 2-мя строковыми признаками:  <a class=\"anchor\" id=\"intro\"></a>"
   ]
  },
  {
   "cell_type": "code",
   "execution_count": 162,
   "metadata": {},
   "outputs": [
    {
     "data": {
      "text/html": [
       "<div>\n",
       "<style scoped>\n",
       "    .dataframe tbody tr th:only-of-type {\n",
       "        vertical-align: middle;\n",
       "    }\n",
       "\n",
       "    .dataframe tbody tr th {\n",
       "        vertical-align: top;\n",
       "    }\n",
       "\n",
       "    .dataframe thead th {\n",
       "        text-align: right;\n",
       "    }\n",
       "</style>\n",
       "<table border=\"1\" class=\"dataframe\">\n",
       "  <thead>\n",
       "    <tr style=\"text-align: right;\">\n",
       "      <th></th>\n",
       "      <th>offer_gk</th>\n",
       "      <th>weekday_key</th>\n",
       "      <th>hour_key</th>\n",
       "      <th>driver_gk</th>\n",
       "      <th>order_gk</th>\n",
       "      <th>driver_latitude</th>\n",
       "      <th>driver_longitude</th>\n",
       "      <th>origin_order_latitude</th>\n",
       "      <th>origin_order_longitude</th>\n",
       "      <th>distance_km</th>\n",
       "      <th>duration_min</th>\n",
       "      <th>offer_class_group</th>\n",
       "      <th>ride_type_desc</th>\n",
       "      <th>driver_response</th>\n",
       "    </tr>\n",
       "  </thead>\n",
       "  <tbody>\n",
       "    <tr>\n",
       "      <th>0</th>\n",
       "      <td>1105373</td>\n",
       "      <td>5</td>\n",
       "      <td>20</td>\n",
       "      <td>6080</td>\n",
       "      <td>174182</td>\n",
       "      <td>55.818842</td>\n",
       "      <td>37.334562</td>\n",
       "      <td>55.814567</td>\n",
       "      <td>37.355010</td>\n",
       "      <td>-1.000</td>\n",
       "      <td>-1.000</td>\n",
       "      <td>Economy</td>\n",
       "      <td>private</td>\n",
       "      <td>0</td>\n",
       "    </tr>\n",
       "    <tr>\n",
       "      <th>1</th>\n",
       "      <td>759733</td>\n",
       "      <td>5</td>\n",
       "      <td>14</td>\n",
       "      <td>6080</td>\n",
       "      <td>358774</td>\n",
       "      <td>55.805342</td>\n",
       "      <td>37.515023</td>\n",
       "      <td>55.819329</td>\n",
       "      <td>37.466398</td>\n",
       "      <td>18.802</td>\n",
       "      <td>25.217</td>\n",
       "      <td>Standard</td>\n",
       "      <td>private</td>\n",
       "      <td>1</td>\n",
       "    </tr>\n",
       "  </tbody>\n",
       "</table>\n",
       "</div>"
      ],
      "text/plain": [
       "   offer_gk  weekday_key  hour_key  driver_gk  order_gk  driver_latitude  \\\n",
       "0   1105373            5        20       6080    174182        55.818842   \n",
       "1    759733            5        14       6080    358774        55.805342   \n",
       "\n",
       "   driver_longitude  origin_order_latitude  origin_order_longitude  \\\n",
       "0         37.334562              55.814567               37.355010   \n",
       "1         37.515023              55.819329               37.466398   \n",
       "\n",
       "   distance_km  duration_min offer_class_group ride_type_desc  driver_response  \n",
       "0       -1.000        -1.000           Economy        private                0  \n",
       "1       18.802        25.217          Standard        private                1  "
      ]
     },
     "execution_count": 162,
     "metadata": {},
     "output_type": "execute_result"
    }
   ],
   "source": [
    "df.head(2)"
   ]
  },
  {
   "cell_type": "code",
   "execution_count": 163,
   "metadata": {},
   "outputs": [
    {
     "name": "stdout",
     "output_type": "stream",
     "text": [
      "<class 'pandas.core.frame.DataFrame'>\n",
      "RangeIndex: 100000 entries, 0 to 99999\n",
      "Data columns (total 14 columns):\n",
      "offer_gk                  100000 non-null int64\n",
      "weekday_key               100000 non-null int64\n",
      "hour_key                  100000 non-null int64\n",
      "driver_gk                 100000 non-null int64\n",
      "order_gk                  100000 non-null int64\n",
      "driver_latitude           100000 non-null float64\n",
      "driver_longitude          100000 non-null float64\n",
      "origin_order_latitude     100000 non-null float64\n",
      "origin_order_longitude    100000 non-null float64\n",
      "distance_km               100000 non-null float64\n",
      "duration_min              100000 non-null float64\n",
      "offer_class_group         100000 non-null object\n",
      "ride_type_desc            100000 non-null object\n",
      "driver_response           100000 non-null int64\n",
      "dtypes: float64(6), int64(6), object(2)\n",
      "memory usage: 10.7+ MB\n"
     ]
    }
   ],
   "source": [
    "df.info()"
   ]
  },
  {
   "cell_type": "code",
   "execution_count": 164,
   "metadata": {},
   "outputs": [
    {
     "data": {
      "text/html": [
       "<div>\n",
       "<style scoped>\n",
       "    .dataframe tbody tr th:only-of-type {\n",
       "        vertical-align: middle;\n",
       "    }\n",
       "\n",
       "    .dataframe tbody tr th {\n",
       "        vertical-align: top;\n",
       "    }\n",
       "\n",
       "    .dataframe thead th {\n",
       "        text-align: right;\n",
       "    }\n",
       "</style>\n",
       "<table border=\"1\" class=\"dataframe\">\n",
       "  <thead>\n",
       "    <tr style=\"text-align: right;\">\n",
       "      <th></th>\n",
       "      <th>count</th>\n",
       "      <th>unique</th>\n",
       "      <th>top</th>\n",
       "      <th>freq</th>\n",
       "      <th>mean</th>\n",
       "      <th>std</th>\n",
       "      <th>min</th>\n",
       "      <th>25%</th>\n",
       "      <th>50%</th>\n",
       "      <th>75%</th>\n",
       "      <th>max</th>\n",
       "    </tr>\n",
       "  </thead>\n",
       "  <tbody>\n",
       "    <tr>\n",
       "      <th>offer_gk</th>\n",
       "      <td>100000</td>\n",
       "      <td>NaN</td>\n",
       "      <td>NaN</td>\n",
       "      <td>NaN</td>\n",
       "      <td>566219</td>\n",
       "      <td>325936</td>\n",
       "      <td>4</td>\n",
       "      <td>285555</td>\n",
       "      <td>565672</td>\n",
       "      <td>848720</td>\n",
       "      <td>1.13036e+06</td>\n",
       "    </tr>\n",
       "    <tr>\n",
       "      <th>weekday_key</th>\n",
       "      <td>100000</td>\n",
       "      <td>NaN</td>\n",
       "      <td>NaN</td>\n",
       "      <td>NaN</td>\n",
       "      <td>3.15986</td>\n",
       "      <td>2.05422</td>\n",
       "      <td>0</td>\n",
       "      <td>1</td>\n",
       "      <td>3</td>\n",
       "      <td>5</td>\n",
       "      <td>6</td>\n",
       "    </tr>\n",
       "    <tr>\n",
       "      <th>hour_key</th>\n",
       "      <td>100000</td>\n",
       "      <td>NaN</td>\n",
       "      <td>NaN</td>\n",
       "      <td>NaN</td>\n",
       "      <td>13.8278</td>\n",
       "      <td>7.3065</td>\n",
       "      <td>0</td>\n",
       "      <td>8</td>\n",
       "      <td>16</td>\n",
       "      <td>20</td>\n",
       "      <td>23</td>\n",
       "    </tr>\n",
       "    <tr>\n",
       "      <th>driver_gk</th>\n",
       "      <td>100000</td>\n",
       "      <td>NaN</td>\n",
       "      <td>NaN</td>\n",
       "      <td>NaN</td>\n",
       "      <td>3446.38</td>\n",
       "      <td>2038.74</td>\n",
       "      <td>14</td>\n",
       "      <td>1421</td>\n",
       "      <td>3506.5</td>\n",
       "      <td>5242</td>\n",
       "      <td>6806</td>\n",
       "    </tr>\n",
       "    <tr>\n",
       "      <th>order_gk</th>\n",
       "      <td>100000</td>\n",
       "      <td>NaN</td>\n",
       "      <td>NaN</td>\n",
       "      <td>NaN</td>\n",
       "      <td>460867</td>\n",
       "      <td>266065</td>\n",
       "      <td>18</td>\n",
       "      <td>229178</td>\n",
       "      <td>462420</td>\n",
       "      <td>690894</td>\n",
       "      <td>920344</td>\n",
       "    </tr>\n",
       "    <tr>\n",
       "      <th>driver_latitude</th>\n",
       "      <td>100000</td>\n",
       "      <td>NaN</td>\n",
       "      <td>NaN</td>\n",
       "      <td>NaN</td>\n",
       "      <td>55.7008</td>\n",
       "      <td>2.1359</td>\n",
       "      <td>-1</td>\n",
       "      <td>55.7087</td>\n",
       "      <td>55.7729</td>\n",
       "      <td>55.9607</td>\n",
       "      <td>56.1741</td>\n",
       "    </tr>\n",
       "    <tr>\n",
       "      <th>driver_longitude</th>\n",
       "      <td>100000</td>\n",
       "      <td>NaN</td>\n",
       "      <td>NaN</td>\n",
       "      <td>NaN</td>\n",
       "      <td>37.4923</td>\n",
       "      <td>1.45464</td>\n",
       "      <td>-1</td>\n",
       "      <td>37.4135</td>\n",
       "      <td>37.5337</td>\n",
       "      <td>37.6241</td>\n",
       "      <td>38.2805</td>\n",
       "    </tr>\n",
       "    <tr>\n",
       "      <th>origin_order_latitude</th>\n",
       "      <td>100000</td>\n",
       "      <td>NaN</td>\n",
       "      <td>NaN</td>\n",
       "      <td>NaN</td>\n",
       "      <td>55.7724</td>\n",
       "      <td>0.665985</td>\n",
       "      <td>-1</td>\n",
       "      <td>55.708</td>\n",
       "      <td>55.7726</td>\n",
       "      <td>55.962</td>\n",
       "      <td>56.3111</td>\n",
       "    </tr>\n",
       "    <tr>\n",
       "      <th>origin_order_longitude</th>\n",
       "      <td>100000</td>\n",
       "      <td>NaN</td>\n",
       "      <td>NaN</td>\n",
       "      <td>NaN</td>\n",
       "      <td>37.5416</td>\n",
       "      <td>0.467758</td>\n",
       "      <td>-1</td>\n",
       "      <td>37.4071</td>\n",
       "      <td>37.5325</td>\n",
       "      <td>37.6244</td>\n",
       "      <td>38.2436</td>\n",
       "    </tr>\n",
       "    <tr>\n",
       "      <th>distance_km</th>\n",
       "      <td>100000</td>\n",
       "      <td>NaN</td>\n",
       "      <td>NaN</td>\n",
       "      <td>NaN</td>\n",
       "      <td>18.3935</td>\n",
       "      <td>41.1293</td>\n",
       "      <td>-1</td>\n",
       "      <td>-1</td>\n",
       "      <td>10.4115</td>\n",
       "      <td>30.6653</td>\n",
       "      <td>5234.28</td>\n",
       "    </tr>\n",
       "    <tr>\n",
       "      <th>duration_min</th>\n",
       "      <td>100000</td>\n",
       "      <td>NaN</td>\n",
       "      <td>NaN</td>\n",
       "      <td>NaN</td>\n",
       "      <td>23.1348</td>\n",
       "      <td>33.8901</td>\n",
       "      <td>-1</td>\n",
       "      <td>-1</td>\n",
       "      <td>19.7</td>\n",
       "      <td>37.867</td>\n",
       "      <td>3958.28</td>\n",
       "    </tr>\n",
       "    <tr>\n",
       "      <th>offer_class_group</th>\n",
       "      <td>100000</td>\n",
       "      <td>9</td>\n",
       "      <td>Economy</td>\n",
       "      <td>48335</td>\n",
       "      <td>NaN</td>\n",
       "      <td>NaN</td>\n",
       "      <td>NaN</td>\n",
       "      <td>NaN</td>\n",
       "      <td>NaN</td>\n",
       "      <td>NaN</td>\n",
       "      <td>NaN</td>\n",
       "    </tr>\n",
       "    <tr>\n",
       "      <th>ride_type_desc</th>\n",
       "      <td>100000</td>\n",
       "      <td>4</td>\n",
       "      <td>private</td>\n",
       "      <td>91207</td>\n",
       "      <td>NaN</td>\n",
       "      <td>NaN</td>\n",
       "      <td>NaN</td>\n",
       "      <td>NaN</td>\n",
       "      <td>NaN</td>\n",
       "      <td>NaN</td>\n",
       "      <td>NaN</td>\n",
       "    </tr>\n",
       "    <tr>\n",
       "      <th>driver_response</th>\n",
       "      <td>100000</td>\n",
       "      <td>NaN</td>\n",
       "      <td>NaN</td>\n",
       "      <td>NaN</td>\n",
       "      <td>0.49248</td>\n",
       "      <td>0.499946</td>\n",
       "      <td>0</td>\n",
       "      <td>0</td>\n",
       "      <td>0</td>\n",
       "      <td>1</td>\n",
       "      <td>1</td>\n",
       "    </tr>\n",
       "  </tbody>\n",
       "</table>\n",
       "</div>"
      ],
      "text/plain": [
       "                         count unique      top   freq     mean       std  min  \\\n",
       "offer_gk                100000    NaN      NaN    NaN   566219    325936    4   \n",
       "weekday_key             100000    NaN      NaN    NaN  3.15986   2.05422    0   \n",
       "hour_key                100000    NaN      NaN    NaN  13.8278    7.3065    0   \n",
       "driver_gk               100000    NaN      NaN    NaN  3446.38   2038.74   14   \n",
       "order_gk                100000    NaN      NaN    NaN   460867    266065   18   \n",
       "driver_latitude         100000    NaN      NaN    NaN  55.7008    2.1359   -1   \n",
       "driver_longitude        100000    NaN      NaN    NaN  37.4923   1.45464   -1   \n",
       "origin_order_latitude   100000    NaN      NaN    NaN  55.7724  0.665985   -1   \n",
       "origin_order_longitude  100000    NaN      NaN    NaN  37.5416  0.467758   -1   \n",
       "distance_km             100000    NaN      NaN    NaN  18.3935   41.1293   -1   \n",
       "duration_min            100000    NaN      NaN    NaN  23.1348   33.8901   -1   \n",
       "offer_class_group       100000      9  Economy  48335      NaN       NaN  NaN   \n",
       "ride_type_desc          100000      4  private  91207      NaN       NaN  NaN   \n",
       "driver_response         100000    NaN      NaN    NaN  0.49248  0.499946    0   \n",
       "\n",
       "                            25%      50%      75%          max  \n",
       "offer_gk                 285555   565672   848720  1.13036e+06  \n",
       "weekday_key                   1        3        5            6  \n",
       "hour_key                      8       16       20           23  \n",
       "driver_gk                  1421   3506.5     5242         6806  \n",
       "order_gk                 229178   462420   690894       920344  \n",
       "driver_latitude         55.7087  55.7729  55.9607      56.1741  \n",
       "driver_longitude        37.4135  37.5337  37.6241      38.2805  \n",
       "origin_order_latitude    55.708  55.7726   55.962      56.3111  \n",
       "origin_order_longitude  37.4071  37.5325  37.6244      38.2436  \n",
       "distance_km                  -1  10.4115  30.6653      5234.28  \n",
       "duration_min                 -1     19.7   37.867      3958.28  \n",
       "offer_class_group           NaN      NaN      NaN          NaN  \n",
       "ride_type_desc              NaN      NaN      NaN          NaN  \n",
       "driver_response               0        0        1            1  "
      ]
     },
     "execution_count": 164,
     "metadata": {},
     "output_type": "execute_result"
    }
   ],
   "source": [
    "df.describe(include='all').T"
   ]
  },
  {
   "cell_type": "markdown",
   "metadata": {},
   "source": [
    "### Видим из `describe`:\n",
    "\n",
    "1. Водитель берет заказ в 49% случаев.\n",
    "2. `offer_class_group` имеет 9 уникальных значений, самый популярный `Economy` встречатеся в 48% случаев.\n",
    "3. `ride_type_desc` имеет 4 уникальных значений, самый популярный `private` встречатеся в 91% случаев.\n",
    "4. Отрицательные значения расстояния и времени нуждаются в доп. наблюдении.\n",
    "5. Отмечаем наличие выбросов по признакам `distance_km` и `duration_min`.\n",
    "\n",
    "[нашел подробное описание данных](https://www.crowdanalytix.com/contests/mckinsey-big-data-hackathon)"
   ]
  },
  {
   "cell_type": "markdown",
   "metadata": {},
   "source": [
    "## Рассмотрю подробнее каждый признак в отдельности.<a class=\"anchor\" id=\"features\"></a> \n",
    "[к навигации](#contents)"
   ]
  },
  {
   "cell_type": "code",
   "execution_count": 165,
   "metadata": {},
   "outputs": [
    {
     "name": "stdout",
     "output_type": "stream",
     "text": [
      "offer_gk have unique: 100000 \n",
      "\n",
      "weekday_key have unique: 7 \n",
      "\n",
      "hour_key have unique: 24 \n",
      "\n",
      "driver_gk have unique: 439 \n",
      "\n",
      "order_gk have unique: 81435 \n",
      "\n",
      "driver_latitude have unique: 57259 \n",
      "\n",
      "driver_longitude have unique: 59906 \n",
      "\n",
      "origin_order_latitude have unique: 32925 \n",
      "\n",
      "origin_order_longitude have unique: 33646 \n",
      "\n",
      "distance_km have unique: 31297 \n",
      "\n",
      "duration_min have unique: 4728 \n",
      "\n"
     ]
    }
   ],
   "source": [
    "cols = df.columns.to_list()\n",
    "\n",
    "for f in cols[:-3]:\n",
    "    print(f, 'have unique:', len(df[f].unique()),'\\n')"
   ]
  },
  {
   "cell_type": "markdown",
   "metadata": {},
   "source": [
    "### Переназначу индексы, тк `offer_gk` соответствует количеству строк"
   ]
  },
  {
   "cell_type": "code",
   "execution_count": 166,
   "metadata": {},
   "outputs": [],
   "source": [
    "df=df.set_index('offer_gk')"
   ]
  },
  {
   "cell_type": "markdown",
   "metadata": {},
   "source": [
    "#### Изучаю строковые признаки"
   ]
  },
  {
   "cell_type": "code",
   "execution_count": 167,
   "metadata": {},
   "outputs": [
    {
     "name": "stdout",
     "output_type": "stream",
     "text": [
      "offer_class_group: ['Economy' 'Standard' 'XL' 'Kids' 'Delivery' 'Test' 'Premium' 'VIP' 'VIP+'] \n",
      "\n",
      " ride_type_desc: ['private' 'business' 'affiliate' 'SMB']\n"
     ]
    }
   ],
   "source": [
    "print('offer_class_group:', df.offer_class_group.unique(), '\\n\\n','ride_type_desc:', df.ride_type_desc.unique())"
   ]
  },
  {
   "cell_type": "code",
   "execution_count": 168,
   "metadata": {},
   "outputs": [
    {
     "data": {
      "text/plain": [
       "offer_class_group\n",
       "Delivery     1290\n",
       "Economy     48335\n",
       "Kids          588\n",
       "Premium      1773\n",
       "Standard    47288\n",
       "Test            8\n",
       "VIP           225\n",
       "VIP+           29\n",
       "XL            464\n",
       "Name: hour_key, dtype: int64"
      ]
     },
     "execution_count": 168,
     "metadata": {},
     "output_type": "execute_result"
    }
   ],
   "source": [
    "df.groupby(by='offer_class_group').count().iloc[:,1]"
   ]
  },
  {
   "cell_type": "markdown",
   "metadata": {},
   "source": [
    "#### Избавлюсь от `test` записей"
   ]
  },
  {
   "cell_type": "code",
   "execution_count": 169,
   "metadata": {},
   "outputs": [],
   "source": [
    "df = df[df['offer_class_group'] != 'Test']"
   ]
  },
  {
   "cell_type": "code",
   "execution_count": 170,
   "metadata": {},
   "outputs": [
    {
     "data": {
      "text/plain": [
       "ride_type_desc\n",
       "SMB             28\n",
       "affiliate      224\n",
       "business      8533\n",
       "private      91207\n",
       "Name: hour_key, dtype: int64"
      ]
     },
     "execution_count": 170,
     "metadata": {},
     "output_type": "execute_result"
    }
   ],
   "source": [
    "df.groupby(by='ride_type_desc').count().iloc[:,1]"
   ]
  },
  {
   "cell_type": "markdown",
   "metadata": {},
   "source": [
    "#### Любопытно, что всего 16 из 28 заказов по `SMB`  были с уникальных адресов."
   ]
  },
  {
   "cell_type": "code",
   "execution_count": 171,
   "metadata": {},
   "outputs": [
    {
     "data": {
      "text/plain": [
       "(16,)"
      ]
     },
     "execution_count": 171,
     "metadata": {},
     "output_type": "execute_result"
    }
   ],
   "source": [
    "df[df['ride_type_desc'] == 'SMB']['origin_order_longitude'].unique().shape"
   ]
  },
  {
   "cell_type": "code",
   "execution_count": 172,
   "metadata": {},
   "outputs": [
    {
     "data": {
      "text/html": [
       "<div>\n",
       "<style scoped>\n",
       "    .dataframe tbody tr th:only-of-type {\n",
       "        vertical-align: middle;\n",
       "    }\n",
       "\n",
       "    .dataframe tbody tr th {\n",
       "        vertical-align: top;\n",
       "    }\n",
       "\n",
       "    .dataframe thead th {\n",
       "        text-align: right;\n",
       "    }\n",
       "</style>\n",
       "<table border=\"1\" class=\"dataframe\">\n",
       "  <thead>\n",
       "    <tr style=\"text-align: right;\">\n",
       "      <th></th>\n",
       "      <th>weekday_key</th>\n",
       "      <th>hour_key</th>\n",
       "      <th>driver_gk</th>\n",
       "      <th>order_gk</th>\n",
       "      <th>driver_latitude</th>\n",
       "      <th>driver_longitude</th>\n",
       "      <th>origin_order_latitude</th>\n",
       "      <th>origin_order_longitude</th>\n",
       "      <th>distance_km</th>\n",
       "      <th>duration_min</th>\n",
       "      <th>offer_class_group</th>\n",
       "      <th>ride_type_desc</th>\n",
       "      <th>driver_response</th>\n",
       "    </tr>\n",
       "    <tr>\n",
       "      <th>offer_gk</th>\n",
       "      <th></th>\n",
       "      <th></th>\n",
       "      <th></th>\n",
       "      <th></th>\n",
       "      <th></th>\n",
       "      <th></th>\n",
       "      <th></th>\n",
       "      <th></th>\n",
       "      <th></th>\n",
       "      <th></th>\n",
       "      <th></th>\n",
       "      <th></th>\n",
       "      <th></th>\n",
       "    </tr>\n",
       "  </thead>\n",
       "  <tbody>\n",
       "    <tr>\n",
       "      <th>495538</th>\n",
       "      <td>3</td>\n",
       "      <td>22</td>\n",
       "      <td>2221</td>\n",
       "      <td>671093</td>\n",
       "      <td>55.544830</td>\n",
       "      <td>37.563338</td>\n",
       "      <td>55.548082</td>\n",
       "      <td>37.534335</td>\n",
       "      <td>23.995</td>\n",
       "      <td>36.467</td>\n",
       "      <td>Economy</td>\n",
       "      <td>SMB</td>\n",
       "      <td>1</td>\n",
       "    </tr>\n",
       "    <tr>\n",
       "      <th>601997</th>\n",
       "      <td>2</td>\n",
       "      <td>11</td>\n",
       "      <td>366</td>\n",
       "      <td>578212</td>\n",
       "      <td>55.611472</td>\n",
       "      <td>37.603327</td>\n",
       "      <td>55.600402</td>\n",
       "      <td>37.600737</td>\n",
       "      <td>-1.000</td>\n",
       "      <td>-1.000</td>\n",
       "      <td>Economy</td>\n",
       "      <td>SMB</td>\n",
       "      <td>1</td>\n",
       "    </tr>\n",
       "    <tr>\n",
       "      <th>319994</th>\n",
       "      <td>2</td>\n",
       "      <td>9</td>\n",
       "      <td>2381</td>\n",
       "      <td>611588</td>\n",
       "      <td>55.605225</td>\n",
       "      <td>37.286079</td>\n",
       "      <td>55.603777</td>\n",
       "      <td>37.290713</td>\n",
       "      <td>-1.000</td>\n",
       "      <td>-1.000</td>\n",
       "      <td>Economy</td>\n",
       "      <td>SMB</td>\n",
       "      <td>0</td>\n",
       "    </tr>\n",
       "    <tr>\n",
       "      <th>575946</th>\n",
       "      <td>6</td>\n",
       "      <td>1</td>\n",
       "      <td>2939</td>\n",
       "      <td>887084</td>\n",
       "      <td>55.666110</td>\n",
       "      <td>37.484688</td>\n",
       "      <td>55.661958</td>\n",
       "      <td>37.476465</td>\n",
       "      <td>15.449</td>\n",
       "      <td>21.600</td>\n",
       "      <td>Economy</td>\n",
       "      <td>SMB</td>\n",
       "      <td>1</td>\n",
       "    </tr>\n",
       "    <tr>\n",
       "      <th>102542</th>\n",
       "      <td>3</td>\n",
       "      <td>9</td>\n",
       "      <td>6450</td>\n",
       "      <td>532434</td>\n",
       "      <td>55.686647</td>\n",
       "      <td>37.572028</td>\n",
       "      <td>55.676650</td>\n",
       "      <td>37.559384</td>\n",
       "      <td>12.060</td>\n",
       "      <td>25.783</td>\n",
       "      <td>Economy</td>\n",
       "      <td>SMB</td>\n",
       "      <td>1</td>\n",
       "    </tr>\n",
       "    <tr>\n",
       "      <th>46063</th>\n",
       "      <td>5</td>\n",
       "      <td>13</td>\n",
       "      <td>5578</td>\n",
       "      <td>488670</td>\n",
       "      <td>55.678126</td>\n",
       "      <td>37.574338</td>\n",
       "      <td>55.681456</td>\n",
       "      <td>37.560491</td>\n",
       "      <td>5.267</td>\n",
       "      <td>16.983</td>\n",
       "      <td>Economy</td>\n",
       "      <td>SMB</td>\n",
       "      <td>1</td>\n",
       "    </tr>\n",
       "    <tr>\n",
       "      <th>336773</th>\n",
       "      <td>3</td>\n",
       "      <td>13</td>\n",
       "      <td>5420</td>\n",
       "      <td>649263</td>\n",
       "      <td>55.677257</td>\n",
       "      <td>37.549133</td>\n",
       "      <td>55.681456</td>\n",
       "      <td>37.560491</td>\n",
       "      <td>5.593</td>\n",
       "      <td>17.700</td>\n",
       "      <td>Economy</td>\n",
       "      <td>SMB</td>\n",
       "      <td>1</td>\n",
       "    </tr>\n",
       "    <tr>\n",
       "      <th>515011</th>\n",
       "      <td>4</td>\n",
       "      <td>14</td>\n",
       "      <td>1514</td>\n",
       "      <td>573660</td>\n",
       "      <td>55.679113</td>\n",
       "      <td>37.563873</td>\n",
       "      <td>55.681456</td>\n",
       "      <td>37.560491</td>\n",
       "      <td>5.593</td>\n",
       "      <td>17.517</td>\n",
       "      <td>Economy</td>\n",
       "      <td>SMB</td>\n",
       "      <td>1</td>\n",
       "    </tr>\n",
       "    <tr>\n",
       "      <th>1115050</th>\n",
       "      <td>5</td>\n",
       "      <td>13</td>\n",
       "      <td>4014</td>\n",
       "      <td>134774</td>\n",
       "      <td>55.678207</td>\n",
       "      <td>37.580621</td>\n",
       "      <td>55.681456</td>\n",
       "      <td>37.560491</td>\n",
       "      <td>5.300</td>\n",
       "      <td>17.033</td>\n",
       "      <td>Economy</td>\n",
       "      <td>SMB</td>\n",
       "      <td>1</td>\n",
       "    </tr>\n",
       "    <tr>\n",
       "      <th>1091155</th>\n",
       "      <td>3</td>\n",
       "      <td>20</td>\n",
       "      <td>259</td>\n",
       "      <td>353513</td>\n",
       "      <td>55.717653</td>\n",
       "      <td>37.571924</td>\n",
       "      <td>55.717955</td>\n",
       "      <td>37.579622</td>\n",
       "      <td>-1.000</td>\n",
       "      <td>-1.000</td>\n",
       "      <td>Economy</td>\n",
       "      <td>SMB</td>\n",
       "      <td>1</td>\n",
       "    </tr>\n",
       "    <tr>\n",
       "      <th>546209</th>\n",
       "      <td>5</td>\n",
       "      <td>17</td>\n",
       "      <td>3416</td>\n",
       "      <td>406948</td>\n",
       "      <td>55.728046</td>\n",
       "      <td>37.567731</td>\n",
       "      <td>55.718679</td>\n",
       "      <td>37.576853</td>\n",
       "      <td>-1.000</td>\n",
       "      <td>-1.000</td>\n",
       "      <td>Economy</td>\n",
       "      <td>SMB</td>\n",
       "      <td>1</td>\n",
       "    </tr>\n",
       "    <tr>\n",
       "      <th>670825</th>\n",
       "      <td>5</td>\n",
       "      <td>17</td>\n",
       "      <td>3416</td>\n",
       "      <td>321263</td>\n",
       "      <td>55.726554</td>\n",
       "      <td>37.560940</td>\n",
       "      <td>55.718679</td>\n",
       "      <td>37.576853</td>\n",
       "      <td>-1.000</td>\n",
       "      <td>-1.000</td>\n",
       "      <td>Economy</td>\n",
       "      <td>SMB</td>\n",
       "      <td>0</td>\n",
       "    </tr>\n",
       "    <tr>\n",
       "      <th>784000</th>\n",
       "      <td>4</td>\n",
       "      <td>14</td>\n",
       "      <td>1472</td>\n",
       "      <td>510417</td>\n",
       "      <td>55.725107</td>\n",
       "      <td>37.571387</td>\n",
       "      <td>55.718679</td>\n",
       "      <td>37.576853</td>\n",
       "      <td>9.622</td>\n",
       "      <td>17.483</td>\n",
       "      <td>Economy</td>\n",
       "      <td>SMB</td>\n",
       "      <td>1</td>\n",
       "    </tr>\n",
       "    <tr>\n",
       "      <th>627493</th>\n",
       "      <td>3</td>\n",
       "      <td>16</td>\n",
       "      <td>3292</td>\n",
       "      <td>450654</td>\n",
       "      <td>55.764815</td>\n",
       "      <td>37.617396</td>\n",
       "      <td>55.758634</td>\n",
       "      <td>37.623505</td>\n",
       "      <td>-1.000</td>\n",
       "      <td>-1.000</td>\n",
       "      <td>Economy</td>\n",
       "      <td>SMB</td>\n",
       "      <td>1</td>\n",
       "    </tr>\n",
       "    <tr>\n",
       "      <th>474973</th>\n",
       "      <td>4</td>\n",
       "      <td>0</td>\n",
       "      <td>6302</td>\n",
       "      <td>665088</td>\n",
       "      <td>55.773701</td>\n",
       "      <td>37.591178</td>\n",
       "      <td>55.773730</td>\n",
       "      <td>37.591352</td>\n",
       "      <td>8.173</td>\n",
       "      <td>15.183</td>\n",
       "      <td>Economy</td>\n",
       "      <td>SMB</td>\n",
       "      <td>0</td>\n",
       "    </tr>\n",
       "    <tr>\n",
       "      <th>455304</th>\n",
       "      <td>3</td>\n",
       "      <td>17</td>\n",
       "      <td>3303</td>\n",
       "      <td>360015</td>\n",
       "      <td>55.781449</td>\n",
       "      <td>37.697605</td>\n",
       "      <td>55.777739</td>\n",
       "      <td>37.698990</td>\n",
       "      <td>-1.000</td>\n",
       "      <td>-1.000</td>\n",
       "      <td>Economy</td>\n",
       "      <td>SMB</td>\n",
       "      <td>1</td>\n",
       "    </tr>\n",
       "    <tr>\n",
       "      <th>837653</th>\n",
       "      <td>4</td>\n",
       "      <td>16</td>\n",
       "      <td>3719</td>\n",
       "      <td>567672</td>\n",
       "      <td>55.775663</td>\n",
       "      <td>37.697228</td>\n",
       "      <td>55.778897</td>\n",
       "      <td>37.690437</td>\n",
       "      <td>16.118</td>\n",
       "      <td>24.367</td>\n",
       "      <td>Economy</td>\n",
       "      <td>SMB</td>\n",
       "      <td>1</td>\n",
       "    </tr>\n",
       "    <tr>\n",
       "      <th>979548</th>\n",
       "      <td>1</td>\n",
       "      <td>16</td>\n",
       "      <td>1472</td>\n",
       "      <td>337372</td>\n",
       "      <td>55.821148</td>\n",
       "      <td>37.649114</td>\n",
       "      <td>55.807437</td>\n",
       "      <td>37.628056</td>\n",
       "      <td>-1.000</td>\n",
       "      <td>-1.000</td>\n",
       "      <td>Delivery</td>\n",
       "      <td>SMB</td>\n",
       "      <td>1</td>\n",
       "    </tr>\n",
       "    <tr>\n",
       "      <th>740895</th>\n",
       "      <td>4</td>\n",
       "      <td>18</td>\n",
       "      <td>1186</td>\n",
       "      <td>216586</td>\n",
       "      <td>55.828397</td>\n",
       "      <td>37.763599</td>\n",
       "      <td>55.839510</td>\n",
       "      <td>37.746035</td>\n",
       "      <td>23.270</td>\n",
       "      <td>44.667</td>\n",
       "      <td>Economy</td>\n",
       "      <td>SMB</td>\n",
       "      <td>1</td>\n",
       "    </tr>\n",
       "    <tr>\n",
       "      <th>386998</th>\n",
       "      <td>3</td>\n",
       "      <td>23</td>\n",
       "      <td>4100</td>\n",
       "      <td>126932</td>\n",
       "      <td>55.961238</td>\n",
       "      <td>37.413188</td>\n",
       "      <td>55.962322</td>\n",
       "      <td>37.407117</td>\n",
       "      <td>51.891</td>\n",
       "      <td>53.517</td>\n",
       "      <td>Economy</td>\n",
       "      <td>SMB</td>\n",
       "      <td>0</td>\n",
       "    </tr>\n",
       "    <tr>\n",
       "      <th>292488</th>\n",
       "      <td>4</td>\n",
       "      <td>22</td>\n",
       "      <td>1126</td>\n",
       "      <td>579479</td>\n",
       "      <td>55.952110</td>\n",
       "      <td>37.415805</td>\n",
       "      <td>55.962322</td>\n",
       "      <td>37.407117</td>\n",
       "      <td>43.201</td>\n",
       "      <td>50.683</td>\n",
       "      <td>Economy</td>\n",
       "      <td>SMB</td>\n",
       "      <td>0</td>\n",
       "    </tr>\n",
       "    <tr>\n",
       "      <th>1033539</th>\n",
       "      <td>4</td>\n",
       "      <td>22</td>\n",
       "      <td>1358</td>\n",
       "      <td>579479</td>\n",
       "      <td>55.964893</td>\n",
       "      <td>37.413543</td>\n",
       "      <td>55.962322</td>\n",
       "      <td>37.407117</td>\n",
       "      <td>43.201</td>\n",
       "      <td>50.683</td>\n",
       "      <td>Economy</td>\n",
       "      <td>SMB</td>\n",
       "      <td>0</td>\n",
       "    </tr>\n",
       "    <tr>\n",
       "      <th>268316</th>\n",
       "      <td>3</td>\n",
       "      <td>23</td>\n",
       "      <td>1358</td>\n",
       "      <td>126932</td>\n",
       "      <td>55.964893</td>\n",
       "      <td>37.413543</td>\n",
       "      <td>55.962322</td>\n",
       "      <td>37.407117</td>\n",
       "      <td>51.891</td>\n",
       "      <td>53.517</td>\n",
       "      <td>Economy</td>\n",
       "      <td>SMB</td>\n",
       "      <td>0</td>\n",
       "    </tr>\n",
       "    <tr>\n",
       "      <th>536997</th>\n",
       "      <td>4</td>\n",
       "      <td>21</td>\n",
       "      <td>1126</td>\n",
       "      <td>555497</td>\n",
       "      <td>55.962987</td>\n",
       "      <td>37.413468</td>\n",
       "      <td>55.962322</td>\n",
       "      <td>37.407117</td>\n",
       "      <td>-1.000</td>\n",
       "      <td>-1.000</td>\n",
       "      <td>Standard</td>\n",
       "      <td>SMB</td>\n",
       "      <td>1</td>\n",
       "    </tr>\n",
       "    <tr>\n",
       "      <th>755014</th>\n",
       "      <td>3</td>\n",
       "      <td>23</td>\n",
       "      <td>1793</td>\n",
       "      <td>126932</td>\n",
       "      <td>55.962122</td>\n",
       "      <td>37.409464</td>\n",
       "      <td>55.962322</td>\n",
       "      <td>37.407117</td>\n",
       "      <td>51.891</td>\n",
       "      <td>53.517</td>\n",
       "      <td>Economy</td>\n",
       "      <td>SMB</td>\n",
       "      <td>0</td>\n",
       "    </tr>\n",
       "    <tr>\n",
       "      <th>846558</th>\n",
       "      <td>5</td>\n",
       "      <td>21</td>\n",
       "      <td>1537</td>\n",
       "      <td>895244</td>\n",
       "      <td>55.966309</td>\n",
       "      <td>37.415646</td>\n",
       "      <td>55.964892</td>\n",
       "      <td>37.413543</td>\n",
       "      <td>26.330</td>\n",
       "      <td>26.433</td>\n",
       "      <td>Economy</td>\n",
       "      <td>SMB</td>\n",
       "      <td>0</td>\n",
       "    </tr>\n",
       "    <tr>\n",
       "      <th>157028</th>\n",
       "      <td>4</td>\n",
       "      <td>6</td>\n",
       "      <td>1944</td>\n",
       "      <td>378548</td>\n",
       "      <td>55.961722</td>\n",
       "      <td>37.405452</td>\n",
       "      <td>55.964892</td>\n",
       "      <td>37.413543</td>\n",
       "      <td>37.631</td>\n",
       "      <td>47.017</td>\n",
       "      <td>Economy</td>\n",
       "      <td>SMB</td>\n",
       "      <td>0</td>\n",
       "    </tr>\n",
       "    <tr>\n",
       "      <th>1103602</th>\n",
       "      <td>5</td>\n",
       "      <td>21</td>\n",
       "      <td>1126</td>\n",
       "      <td>895244</td>\n",
       "      <td>55.962987</td>\n",
       "      <td>37.413467</td>\n",
       "      <td>55.964892</td>\n",
       "      <td>37.413543</td>\n",
       "      <td>26.330</td>\n",
       "      <td>26.433</td>\n",
       "      <td>Economy</td>\n",
       "      <td>SMB</td>\n",
       "      <td>0</td>\n",
       "    </tr>\n",
       "  </tbody>\n",
       "</table>\n",
       "</div>"
      ],
      "text/plain": [
       "          weekday_key  hour_key  driver_gk  order_gk  driver_latitude  \\\n",
       "offer_gk                                                                \n",
       "495538              3        22       2221    671093        55.544830   \n",
       "601997              2        11        366    578212        55.611472   \n",
       "319994              2         9       2381    611588        55.605225   \n",
       "575946              6         1       2939    887084        55.666110   \n",
       "102542              3         9       6450    532434        55.686647   \n",
       "46063               5        13       5578    488670        55.678126   \n",
       "336773              3        13       5420    649263        55.677257   \n",
       "515011              4        14       1514    573660        55.679113   \n",
       "1115050             5        13       4014    134774        55.678207   \n",
       "1091155             3        20        259    353513        55.717653   \n",
       "546209              5        17       3416    406948        55.728046   \n",
       "670825              5        17       3416    321263        55.726554   \n",
       "784000              4        14       1472    510417        55.725107   \n",
       "627493              3        16       3292    450654        55.764815   \n",
       "474973              4         0       6302    665088        55.773701   \n",
       "455304              3        17       3303    360015        55.781449   \n",
       "837653              4        16       3719    567672        55.775663   \n",
       "979548              1        16       1472    337372        55.821148   \n",
       "740895              4        18       1186    216586        55.828397   \n",
       "386998              3        23       4100    126932        55.961238   \n",
       "292488              4        22       1126    579479        55.952110   \n",
       "1033539             4        22       1358    579479        55.964893   \n",
       "268316              3        23       1358    126932        55.964893   \n",
       "536997              4        21       1126    555497        55.962987   \n",
       "755014              3        23       1793    126932        55.962122   \n",
       "846558              5        21       1537    895244        55.966309   \n",
       "157028              4         6       1944    378548        55.961722   \n",
       "1103602             5        21       1126    895244        55.962987   \n",
       "\n",
       "          driver_longitude  origin_order_latitude  origin_order_longitude  \\\n",
       "offer_gk                                                                    \n",
       "495538           37.563338              55.548082               37.534335   \n",
       "601997           37.603327              55.600402               37.600737   \n",
       "319994           37.286079              55.603777               37.290713   \n",
       "575946           37.484688              55.661958               37.476465   \n",
       "102542           37.572028              55.676650               37.559384   \n",
       "46063            37.574338              55.681456               37.560491   \n",
       "336773           37.549133              55.681456               37.560491   \n",
       "515011           37.563873              55.681456               37.560491   \n",
       "1115050          37.580621              55.681456               37.560491   \n",
       "1091155          37.571924              55.717955               37.579622   \n",
       "546209           37.567731              55.718679               37.576853   \n",
       "670825           37.560940              55.718679               37.576853   \n",
       "784000           37.571387              55.718679               37.576853   \n",
       "627493           37.617396              55.758634               37.623505   \n",
       "474973           37.591178              55.773730               37.591352   \n",
       "455304           37.697605              55.777739               37.698990   \n",
       "837653           37.697228              55.778897               37.690437   \n",
       "979548           37.649114              55.807437               37.628056   \n",
       "740895           37.763599              55.839510               37.746035   \n",
       "386998           37.413188              55.962322               37.407117   \n",
       "292488           37.415805              55.962322               37.407117   \n",
       "1033539          37.413543              55.962322               37.407117   \n",
       "268316           37.413543              55.962322               37.407117   \n",
       "536997           37.413468              55.962322               37.407117   \n",
       "755014           37.409464              55.962322               37.407117   \n",
       "846558           37.415646              55.964892               37.413543   \n",
       "157028           37.405452              55.964892               37.413543   \n",
       "1103602          37.413467              55.964892               37.413543   \n",
       "\n",
       "          distance_km  duration_min offer_class_group ride_type_desc  \\\n",
       "offer_gk                                                               \n",
       "495538         23.995        36.467           Economy            SMB   \n",
       "601997         -1.000        -1.000           Economy            SMB   \n",
       "319994         -1.000        -1.000           Economy            SMB   \n",
       "575946         15.449        21.600           Economy            SMB   \n",
       "102542         12.060        25.783           Economy            SMB   \n",
       "46063           5.267        16.983           Economy            SMB   \n",
       "336773          5.593        17.700           Economy            SMB   \n",
       "515011          5.593        17.517           Economy            SMB   \n",
       "1115050         5.300        17.033           Economy            SMB   \n",
       "1091155        -1.000        -1.000           Economy            SMB   \n",
       "546209         -1.000        -1.000           Economy            SMB   \n",
       "670825         -1.000        -1.000           Economy            SMB   \n",
       "784000          9.622        17.483           Economy            SMB   \n",
       "627493         -1.000        -1.000           Economy            SMB   \n",
       "474973          8.173        15.183           Economy            SMB   \n",
       "455304         -1.000        -1.000           Economy            SMB   \n",
       "837653         16.118        24.367           Economy            SMB   \n",
       "979548         -1.000        -1.000          Delivery            SMB   \n",
       "740895         23.270        44.667           Economy            SMB   \n",
       "386998         51.891        53.517           Economy            SMB   \n",
       "292488         43.201        50.683           Economy            SMB   \n",
       "1033539        43.201        50.683           Economy            SMB   \n",
       "268316         51.891        53.517           Economy            SMB   \n",
       "536997         -1.000        -1.000          Standard            SMB   \n",
       "755014         51.891        53.517           Economy            SMB   \n",
       "846558         26.330        26.433           Economy            SMB   \n",
       "157028         37.631        47.017           Economy            SMB   \n",
       "1103602        26.330        26.433           Economy            SMB   \n",
       "\n",
       "          driver_response  \n",
       "offer_gk                   \n",
       "495538                  1  \n",
       "601997                  1  \n",
       "319994                  0  \n",
       "575946                  1  \n",
       "102542                  1  \n",
       "46063                   1  \n",
       "336773                  1  \n",
       "515011                  1  \n",
       "1115050                 1  \n",
       "1091155                 1  \n",
       "546209                  1  \n",
       "670825                  0  \n",
       "784000                  1  \n",
       "627493                  1  \n",
       "474973                  0  \n",
       "455304                  1  \n",
       "837653                  1  \n",
       "979548                  1  \n",
       "740895                  1  \n",
       "386998                  0  \n",
       "292488                  0  \n",
       "1033539                 0  \n",
       "268316                  0  \n",
       "536997                  1  \n",
       "755014                  0  \n",
       "846558                  0  \n",
       "157028                  0  \n",
       "1103602                 0  "
      ]
     },
     "execution_count": 172,
     "metadata": {},
     "output_type": "execute_result"
    }
   ],
   "source": [
    "df[df['ride_type_desc'] == 'SMB'].sort_values(by='origin_order_latitude')"
   ]
  },
  {
   "cell_type": "markdown",
   "metadata": {},
   "source": [
    "#### Насколько понял это пол-грузовой автомобиль. Странного в данных мало, можно предположить что его заказывают для переездов или перевозки большого количества вещей."
   ]
  },
  {
   "cell_type": "markdown",
   "metadata": {},
   "source": [
    "#### Изучем влияние отрицательных значений на целевой признак:"
   ]
  },
  {
   "cell_type": "code",
   "execution_count": 14,
   "metadata": {},
   "outputs": [
    {
     "name": "stdout",
     "output_type": "stream",
     "text": [
      "водитель берет заказ в  55% случаев\n"
     ]
    },
    {
     "data": {
      "text/html": [
       "<div>\n",
       "<style scoped>\n",
       "    .dataframe tbody tr th:only-of-type {\n",
       "        vertical-align: middle;\n",
       "    }\n",
       "\n",
       "    .dataframe tbody tr th {\n",
       "        vertical-align: top;\n",
       "    }\n",
       "\n",
       "    .dataframe thead th {\n",
       "        text-align: right;\n",
       "    }\n",
       "</style>\n",
       "<table border=\"1\" class=\"dataframe\">\n",
       "  <thead>\n",
       "    <tr style=\"text-align: right;\">\n",
       "      <th></th>\n",
       "      <th>count</th>\n",
       "      <th>unique</th>\n",
       "      <th>top</th>\n",
       "      <th>freq</th>\n",
       "      <th>mean</th>\n",
       "      <th>std</th>\n",
       "      <th>min</th>\n",
       "      <th>25%</th>\n",
       "      <th>50%</th>\n",
       "      <th>75%</th>\n",
       "      <th>max</th>\n",
       "    </tr>\n",
       "  </thead>\n",
       "  <tbody>\n",
       "    <tr>\n",
       "      <th>weekday_key</th>\n",
       "      <td>26199</td>\n",
       "      <td>NaN</td>\n",
       "      <td>NaN</td>\n",
       "      <td>NaN</td>\n",
       "      <td>3.18707</td>\n",
       "      <td>1.98494</td>\n",
       "      <td>0</td>\n",
       "      <td>1</td>\n",
       "      <td>3</td>\n",
       "      <td>5</td>\n",
       "      <td>6</td>\n",
       "    </tr>\n",
       "    <tr>\n",
       "      <th>hour_key</th>\n",
       "      <td>26199</td>\n",
       "      <td>NaN</td>\n",
       "      <td>NaN</td>\n",
       "      <td>NaN</td>\n",
       "      <td>13.9011</td>\n",
       "      <td>7.28034</td>\n",
       "      <td>0</td>\n",
       "      <td>9</td>\n",
       "      <td>16</td>\n",
       "      <td>20</td>\n",
       "      <td>23</td>\n",
       "    </tr>\n",
       "    <tr>\n",
       "      <th>driver_gk</th>\n",
       "      <td>26199</td>\n",
       "      <td>NaN</td>\n",
       "      <td>NaN</td>\n",
       "      <td>NaN</td>\n",
       "      <td>3403.57</td>\n",
       "      <td>2037.14</td>\n",
       "      <td>14</td>\n",
       "      <td>1421</td>\n",
       "      <td>3416</td>\n",
       "      <td>5222</td>\n",
       "      <td>6806</td>\n",
       "    </tr>\n",
       "    <tr>\n",
       "      <th>order_gk</th>\n",
       "      <td>26199</td>\n",
       "      <td>NaN</td>\n",
       "      <td>NaN</td>\n",
       "      <td>NaN</td>\n",
       "      <td>457941</td>\n",
       "      <td>265960</td>\n",
       "      <td>18</td>\n",
       "      <td>225610</td>\n",
       "      <td>460415</td>\n",
       "      <td>686572</td>\n",
       "      <td>920301</td>\n",
       "    </tr>\n",
       "    <tr>\n",
       "      <th>driver_latitude</th>\n",
       "      <td>26199</td>\n",
       "      <td>NaN</td>\n",
       "      <td>NaN</td>\n",
       "      <td>NaN</td>\n",
       "      <td>55.5167</td>\n",
       "      <td>3.86843</td>\n",
       "      <td>-1</td>\n",
       "      <td>55.7162</td>\n",
       "      <td>55.7676</td>\n",
       "      <td>55.9273</td>\n",
       "      <td>56.1741</td>\n",
       "    </tr>\n",
       "    <tr>\n",
       "      <th>driver_longitude</th>\n",
       "      <td>26199</td>\n",
       "      <td>NaN</td>\n",
       "      <td>NaN</td>\n",
       "      <td>NaN</td>\n",
       "      <td>37.3675</td>\n",
       "      <td>2.62848</td>\n",
       "      <td>-1</td>\n",
       "      <td>37.4135</td>\n",
       "      <td>37.5415</td>\n",
       "      <td>37.621</td>\n",
       "      <td>38.2805</td>\n",
       "    </tr>\n",
       "    <tr>\n",
       "      <th>origin_order_latitude</th>\n",
       "      <td>26199</td>\n",
       "      <td>NaN</td>\n",
       "      <td>NaN</td>\n",
       "      <td>NaN</td>\n",
       "      <td>55.7747</td>\n",
       "      <td>0.517457</td>\n",
       "      <td>-1</td>\n",
       "      <td>55.7166</td>\n",
       "      <td>55.767</td>\n",
       "      <td>55.9332</td>\n",
       "      <td>56.3111</td>\n",
       "    </tr>\n",
       "    <tr>\n",
       "      <th>origin_order_longitude</th>\n",
       "      <td>26199</td>\n",
       "      <td>NaN</td>\n",
       "      <td>NaN</td>\n",
       "      <td>NaN</td>\n",
       "      <td>37.5449</td>\n",
       "      <td>0.369381</td>\n",
       "      <td>-1</td>\n",
       "      <td>37.4089</td>\n",
       "      <td>37.5405</td>\n",
       "      <td>37.6219</td>\n",
       "      <td>38.2436</td>\n",
       "    </tr>\n",
       "    <tr>\n",
       "      <th>distance_km</th>\n",
       "      <td>26199</td>\n",
       "      <td>NaN</td>\n",
       "      <td>NaN</td>\n",
       "      <td>NaN</td>\n",
       "      <td>-1</td>\n",
       "      <td>0</td>\n",
       "      <td>-1</td>\n",
       "      <td>-1</td>\n",
       "      <td>-1</td>\n",
       "      <td>-1</td>\n",
       "      <td>-1</td>\n",
       "    </tr>\n",
       "    <tr>\n",
       "      <th>duration_min</th>\n",
       "      <td>26199</td>\n",
       "      <td>NaN</td>\n",
       "      <td>NaN</td>\n",
       "      <td>NaN</td>\n",
       "      <td>-1</td>\n",
       "      <td>0</td>\n",
       "      <td>-1</td>\n",
       "      <td>-1</td>\n",
       "      <td>-1</td>\n",
       "      <td>-1</td>\n",
       "      <td>-1</td>\n",
       "    </tr>\n",
       "    <tr>\n",
       "      <th>offer_class_group</th>\n",
       "      <td>26199</td>\n",
       "      <td>8</td>\n",
       "      <td>Standard</td>\n",
       "      <td>17359</td>\n",
       "      <td>NaN</td>\n",
       "      <td>NaN</td>\n",
       "      <td>NaN</td>\n",
       "      <td>NaN</td>\n",
       "      <td>NaN</td>\n",
       "      <td>NaN</td>\n",
       "      <td>NaN</td>\n",
       "    </tr>\n",
       "    <tr>\n",
       "      <th>ride_type_desc</th>\n",
       "      <td>26199</td>\n",
       "      <td>4</td>\n",
       "      <td>private</td>\n",
       "      <td>17595</td>\n",
       "      <td>NaN</td>\n",
       "      <td>NaN</td>\n",
       "      <td>NaN</td>\n",
       "      <td>NaN</td>\n",
       "      <td>NaN</td>\n",
       "      <td>NaN</td>\n",
       "      <td>NaN</td>\n",
       "    </tr>\n",
       "    <tr>\n",
       "      <th>driver_response</th>\n",
       "      <td>26199</td>\n",
       "      <td>NaN</td>\n",
       "      <td>NaN</td>\n",
       "      <td>NaN</td>\n",
       "      <td>0.550708</td>\n",
       "      <td>0.497432</td>\n",
       "      <td>0</td>\n",
       "      <td>0</td>\n",
       "      <td>1</td>\n",
       "      <td>1</td>\n",
       "      <td>1</td>\n",
       "    </tr>\n",
       "  </tbody>\n",
       "</table>\n",
       "</div>"
      ],
      "text/plain": [
       "                        count unique       top   freq      mean       std  \\\n",
       "weekday_key             26199    NaN       NaN    NaN   3.18707   1.98494   \n",
       "hour_key                26199    NaN       NaN    NaN   13.9011   7.28034   \n",
       "driver_gk               26199    NaN       NaN    NaN   3403.57   2037.14   \n",
       "order_gk                26199    NaN       NaN    NaN    457941    265960   \n",
       "driver_latitude         26199    NaN       NaN    NaN   55.5167   3.86843   \n",
       "driver_longitude        26199    NaN       NaN    NaN   37.3675   2.62848   \n",
       "origin_order_latitude   26199    NaN       NaN    NaN   55.7747  0.517457   \n",
       "origin_order_longitude  26199    NaN       NaN    NaN   37.5449  0.369381   \n",
       "distance_km             26199    NaN       NaN    NaN        -1         0   \n",
       "duration_min            26199    NaN       NaN    NaN        -1         0   \n",
       "offer_class_group       26199      8  Standard  17359       NaN       NaN   \n",
       "ride_type_desc          26199      4   private  17595       NaN       NaN   \n",
       "driver_response         26199    NaN       NaN    NaN  0.550708  0.497432   \n",
       "\n",
       "                        min      25%      50%      75%      max  \n",
       "weekday_key               0        1        3        5        6  \n",
       "hour_key                  0        9       16       20       23  \n",
       "driver_gk                14     1421     3416     5222     6806  \n",
       "order_gk                 18   225610   460415   686572   920301  \n",
       "driver_latitude          -1  55.7162  55.7676  55.9273  56.1741  \n",
       "driver_longitude         -1  37.4135  37.5415   37.621  38.2805  \n",
       "origin_order_latitude    -1  55.7166   55.767  55.9332  56.3111  \n",
       "origin_order_longitude   -1  37.4089  37.5405  37.6219  38.2436  \n",
       "distance_km              -1       -1       -1       -1       -1  \n",
       "duration_min             -1       -1       -1       -1       -1  \n",
       "offer_class_group       NaN      NaN      NaN      NaN      NaN  \n",
       "ride_type_desc          NaN      NaN      NaN      NaN      NaN  \n",
       "driver_response           0        0        1        1        1  "
      ]
     },
     "execution_count": 14,
     "metadata": {},
     "output_type": "execute_result"
    }
   ],
   "source": [
    "selected_data = df[df['distance_km'] < 0]\n",
    "print('водитель берет заказ в ',\n",
    "      '{0:.0%}'.format(selected_data.driver_response.sum() / selected_data.shape[0]),     \n",
    "      'случаев')\n",
    "selected_data.describe(include='all').T"
   ]
  },
  {
   "cell_type": "markdown",
   "metadata": {},
   "source": [
    "#### Ничего криминального, водители берут заказ с близкой к стандартной частотой. Что если неизвестна позиция водителя:"
   ]
  },
  {
   "cell_type": "code",
   "execution_count": 15,
   "metadata": {},
   "outputs": [
    {
     "name": "stdout",
     "output_type": "stream",
     "text": [
      "водитель берет заказ в  100% случаев\n"
     ]
    },
    {
     "data": {
      "text/html": [
       "<div>\n",
       "<style scoped>\n",
       "    .dataframe tbody tr th:only-of-type {\n",
       "        vertical-align: middle;\n",
       "    }\n",
       "\n",
       "    .dataframe tbody tr th {\n",
       "        vertical-align: top;\n",
       "    }\n",
       "\n",
       "    .dataframe thead th {\n",
       "        text-align: right;\n",
       "    }\n",
       "</style>\n",
       "<table border=\"1\" class=\"dataframe\">\n",
       "  <thead>\n",
       "    <tr style=\"text-align: right;\">\n",
       "      <th></th>\n",
       "      <th>count</th>\n",
       "      <th>unique</th>\n",
       "      <th>top</th>\n",
       "      <th>freq</th>\n",
       "      <th>mean</th>\n",
       "      <th>std</th>\n",
       "      <th>min</th>\n",
       "      <th>25%</th>\n",
       "      <th>50%</th>\n",
       "      <th>75%</th>\n",
       "      <th>max</th>\n",
       "    </tr>\n",
       "  </thead>\n",
       "  <tbody>\n",
       "    <tr>\n",
       "      <th>weekday_key</th>\n",
       "      <td>140</td>\n",
       "      <td>NaN</td>\n",
       "      <td>NaN</td>\n",
       "      <td>NaN</td>\n",
       "      <td>3.01429</td>\n",
       "      <td>1.87749</td>\n",
       "      <td>0</td>\n",
       "      <td>1</td>\n",
       "      <td>3</td>\n",
       "      <td>5</td>\n",
       "      <td>6</td>\n",
       "    </tr>\n",
       "    <tr>\n",
       "      <th>hour_key</th>\n",
       "      <td>140</td>\n",
       "      <td>NaN</td>\n",
       "      <td>NaN</td>\n",
       "      <td>NaN</td>\n",
       "      <td>14.4429</td>\n",
       "      <td>6.035</td>\n",
       "      <td>0</td>\n",
       "      <td>11</td>\n",
       "      <td>14.5</td>\n",
       "      <td>19</td>\n",
       "      <td>23</td>\n",
       "    </tr>\n",
       "    <tr>\n",
       "      <th>driver_gk</th>\n",
       "      <td>140</td>\n",
       "      <td>NaN</td>\n",
       "      <td>NaN</td>\n",
       "      <td>NaN</td>\n",
       "      <td>4375.29</td>\n",
       "      <td>1943.23</td>\n",
       "      <td>14</td>\n",
       "      <td>3399</td>\n",
       "      <td>4567</td>\n",
       "      <td>6166</td>\n",
       "      <td>6792</td>\n",
       "    </tr>\n",
       "    <tr>\n",
       "      <th>order_gk</th>\n",
       "      <td>140</td>\n",
       "      <td>NaN</td>\n",
       "      <td>NaN</td>\n",
       "      <td>NaN</td>\n",
       "      <td>433850</td>\n",
       "      <td>279849</td>\n",
       "      <td>6975</td>\n",
       "      <td>202384</td>\n",
       "      <td>385691</td>\n",
       "      <td>676863</td>\n",
       "      <td>917874</td>\n",
       "    </tr>\n",
       "    <tr>\n",
       "      <th>driver_latitude</th>\n",
       "      <td>140</td>\n",
       "      <td>NaN</td>\n",
       "      <td>NaN</td>\n",
       "      <td>NaN</td>\n",
       "      <td>-1</td>\n",
       "      <td>0</td>\n",
       "      <td>-1</td>\n",
       "      <td>-1</td>\n",
       "      <td>-1</td>\n",
       "      <td>-1</td>\n",
       "      <td>-1</td>\n",
       "    </tr>\n",
       "    <tr>\n",
       "      <th>driver_longitude</th>\n",
       "      <td>140</td>\n",
       "      <td>NaN</td>\n",
       "      <td>NaN</td>\n",
       "      <td>NaN</td>\n",
       "      <td>-1</td>\n",
       "      <td>0</td>\n",
       "      <td>-1</td>\n",
       "      <td>-1</td>\n",
       "      <td>-1</td>\n",
       "      <td>-1</td>\n",
       "      <td>-1</td>\n",
       "    </tr>\n",
       "    <tr>\n",
       "      <th>origin_order_latitude</th>\n",
       "      <td>140</td>\n",
       "      <td>NaN</td>\n",
       "      <td>NaN</td>\n",
       "      <td>NaN</td>\n",
       "      <td>55.5164</td>\n",
       "      <td>0.175498</td>\n",
       "      <td>55.3362</td>\n",
       "      <td>55.4154</td>\n",
       "      <td>55.4154</td>\n",
       "      <td>55.6073</td>\n",
       "      <td>56.3111</td>\n",
       "    </tr>\n",
       "    <tr>\n",
       "      <th>origin_order_longitude</th>\n",
       "      <td>140</td>\n",
       "      <td>NaN</td>\n",
       "      <td>NaN</td>\n",
       "      <td>NaN</td>\n",
       "      <td>37.7847</td>\n",
       "      <td>0.200718</td>\n",
       "      <td>37.1689</td>\n",
       "      <td>37.6614</td>\n",
       "      <td>37.8989</td>\n",
       "      <td>37.8989</td>\n",
       "      <td>38.1326</td>\n",
       "    </tr>\n",
       "    <tr>\n",
       "      <th>distance_km</th>\n",
       "      <td>140</td>\n",
       "      <td>NaN</td>\n",
       "      <td>NaN</td>\n",
       "      <td>NaN</td>\n",
       "      <td>5.89409</td>\n",
       "      <td>20.3737</td>\n",
       "      <td>-1</td>\n",
       "      <td>-1</td>\n",
       "      <td>-1</td>\n",
       "      <td>-1</td>\n",
       "      <td>105.126</td>\n",
       "    </tr>\n",
       "    <tr>\n",
       "      <th>duration_min</th>\n",
       "      <td>140</td>\n",
       "      <td>NaN</td>\n",
       "      <td>NaN</td>\n",
       "      <td>NaN</td>\n",
       "      <td>6.19715</td>\n",
       "      <td>20.3018</td>\n",
       "      <td>-1</td>\n",
       "      <td>-1</td>\n",
       "      <td>-1</td>\n",
       "      <td>-1</td>\n",
       "      <td>92.55</td>\n",
       "    </tr>\n",
       "    <tr>\n",
       "      <th>offer_class_group</th>\n",
       "      <td>140</td>\n",
       "      <td>4</td>\n",
       "      <td>Standard</td>\n",
       "      <td>124</td>\n",
       "      <td>NaN</td>\n",
       "      <td>NaN</td>\n",
       "      <td>NaN</td>\n",
       "      <td>NaN</td>\n",
       "      <td>NaN</td>\n",
       "      <td>NaN</td>\n",
       "      <td>NaN</td>\n",
       "    </tr>\n",
       "    <tr>\n",
       "      <th>ride_type_desc</th>\n",
       "      <td>140</td>\n",
       "      <td>2</td>\n",
       "      <td>business</td>\n",
       "      <td>130</td>\n",
       "      <td>NaN</td>\n",
       "      <td>NaN</td>\n",
       "      <td>NaN</td>\n",
       "      <td>NaN</td>\n",
       "      <td>NaN</td>\n",
       "      <td>NaN</td>\n",
       "      <td>NaN</td>\n",
       "    </tr>\n",
       "    <tr>\n",
       "      <th>driver_response</th>\n",
       "      <td>140</td>\n",
       "      <td>NaN</td>\n",
       "      <td>NaN</td>\n",
       "      <td>NaN</td>\n",
       "      <td>1</td>\n",
       "      <td>0</td>\n",
       "      <td>1</td>\n",
       "      <td>1</td>\n",
       "      <td>1</td>\n",
       "      <td>1</td>\n",
       "      <td>1</td>\n",
       "    </tr>\n",
       "  </tbody>\n",
       "</table>\n",
       "</div>"
      ],
      "text/plain": [
       "                       count unique       top freq     mean       std  \\\n",
       "weekday_key              140    NaN       NaN  NaN  3.01429   1.87749   \n",
       "hour_key                 140    NaN       NaN  NaN  14.4429     6.035   \n",
       "driver_gk                140    NaN       NaN  NaN  4375.29   1943.23   \n",
       "order_gk                 140    NaN       NaN  NaN   433850    279849   \n",
       "driver_latitude          140    NaN       NaN  NaN       -1         0   \n",
       "driver_longitude         140    NaN       NaN  NaN       -1         0   \n",
       "origin_order_latitude    140    NaN       NaN  NaN  55.5164  0.175498   \n",
       "origin_order_longitude   140    NaN       NaN  NaN  37.7847  0.200718   \n",
       "distance_km              140    NaN       NaN  NaN  5.89409   20.3737   \n",
       "duration_min             140    NaN       NaN  NaN  6.19715   20.3018   \n",
       "offer_class_group        140      4  Standard  124      NaN       NaN   \n",
       "ride_type_desc           140      2  business  130      NaN       NaN   \n",
       "driver_response          140    NaN       NaN  NaN        1         0   \n",
       "\n",
       "                            min      25%      50%      75%      max  \n",
       "weekday_key                   0        1        3        5        6  \n",
       "hour_key                      0       11     14.5       19       23  \n",
       "driver_gk                    14     3399     4567     6166     6792  \n",
       "order_gk                   6975   202384   385691   676863   917874  \n",
       "driver_latitude              -1       -1       -1       -1       -1  \n",
       "driver_longitude             -1       -1       -1       -1       -1  \n",
       "origin_order_latitude   55.3362  55.4154  55.4154  55.6073  56.3111  \n",
       "origin_order_longitude  37.1689  37.6614  37.8989  37.8989  38.1326  \n",
       "distance_km                  -1       -1       -1       -1  105.126  \n",
       "duration_min                 -1       -1       -1       -1    92.55  \n",
       "offer_class_group           NaN      NaN      NaN      NaN      NaN  \n",
       "ride_type_desc              NaN      NaN      NaN      NaN      NaN  \n",
       "driver_response               1        1        1        1        1  "
      ]
     },
     "execution_count": 15,
     "metadata": {},
     "output_type": "execute_result"
    }
   ],
   "source": [
    "selected_data = df[df['driver_latitude'] < 0]\n",
    "print('водитель берет заказ в ',\n",
    "      '{0:.0%}'.format(selected_data.driver_response.sum() / selected_data.shape[0]),     \n",
    "      'случаев')\n",
    "selected_data.describe(include='all').T"
   ]
  },
  {
   "cell_type": "markdown",
   "metadata": {},
   "source": [
    "#### Посмотрим на самые длительные поездки"
   ]
  },
  {
   "cell_type": "code",
   "execution_count": 16,
   "metadata": {},
   "outputs": [],
   "source": [
    "long_trip = df.duration_min.mean()*2\n",
    "very_long_trip = df.duration_min.mean()*5\n",
    "longest_trip = df.duration_min.mean()*10"
   ]
  },
  {
   "cell_type": "code",
   "execution_count": 17,
   "metadata": {},
   "outputs": [],
   "source": [
    "def long_trip_func(df, duration_min):\n",
    "\n",
    "    print(f'всего заказов продолжительностию {duration_min} минут:', \n",
    "          df[df['duration_min'] > duration_min].count()[0],\n",
    "         '\\nиз них взял водитель:',\n",
    "          df[((df['duration_min'] > duration_min) & (df['driver_response'] == 1))].shape[0],\n",
    "         '\\n============================')"
   ]
  },
  {
   "cell_type": "code",
   "execution_count": 18,
   "metadata": {},
   "outputs": [
    {
     "name": "stdout",
     "output_type": "stream",
     "text": [
      "всего заказов продолжительностию 115.68386165893246 минут: 92 \n",
      "из них взял водитель: 58 \n",
      "============================\n",
      "всего заказов продолжительностию 231.36772331786491 минут: 61 \n",
      "из них взял водитель: 42 \n",
      "============================\n",
      "всего заказов продолжительностию 500 минут: 34 \n",
      "из них взял водитель: 27 \n",
      "============================\n",
      "всего заказов продолжительностию 1000 минут: 11 \n",
      "из них взял водитель: 8 \n",
      "============================\n"
     ]
    },
    {
     "data": {
      "text/plain": [
       "(None, None, None, None)"
      ]
     },
     "execution_count": 18,
     "metadata": {},
     "output_type": "execute_result"
    }
   ],
   "source": [
    "long_trip_func(df, very_long_trip), long_trip_func(df, longest_trip), long_trip_func(df, 500), long_trip_func(df, 1000)"
   ]
  },
  {
   "cell_type": "code",
   "execution_count": 19,
   "metadata": {},
   "outputs": [
    {
     "data": {
      "text/html": [
       "<div>\n",
       "<style scoped>\n",
       "    .dataframe tbody tr th:only-of-type {\n",
       "        vertical-align: middle;\n",
       "    }\n",
       "\n",
       "    .dataframe tbody tr th {\n",
       "        vertical-align: top;\n",
       "    }\n",
       "\n",
       "    .dataframe thead th {\n",
       "        text-align: right;\n",
       "    }\n",
       "</style>\n",
       "<table border=\"1\" class=\"dataframe\">\n",
       "  <thead>\n",
       "    <tr style=\"text-align: right;\">\n",
       "      <th></th>\n",
       "      <th>weekday_key</th>\n",
       "      <th>hour_key</th>\n",
       "      <th>driver_gk</th>\n",
       "      <th>order_gk</th>\n",
       "      <th>driver_latitude</th>\n",
       "      <th>driver_longitude</th>\n",
       "      <th>origin_order_latitude</th>\n",
       "      <th>origin_order_longitude</th>\n",
       "      <th>distance_km</th>\n",
       "      <th>duration_min</th>\n",
       "      <th>offer_class_group</th>\n",
       "      <th>ride_type_desc</th>\n",
       "      <th>driver_response</th>\n",
       "    </tr>\n",
       "    <tr>\n",
       "      <th>offer_gk</th>\n",
       "      <th></th>\n",
       "      <th></th>\n",
       "      <th></th>\n",
       "      <th></th>\n",
       "      <th></th>\n",
       "      <th></th>\n",
       "      <th></th>\n",
       "      <th></th>\n",
       "      <th></th>\n",
       "      <th></th>\n",
       "      <th></th>\n",
       "      <th></th>\n",
       "      <th></th>\n",
       "    </tr>\n",
       "  </thead>\n",
       "  <tbody>\n",
       "    <tr>\n",
       "      <th>198416</th>\n",
       "      <td>4</td>\n",
       "      <td>17</td>\n",
       "      <td>2333</td>\n",
       "      <td>914494</td>\n",
       "      <td>55.733757</td>\n",
       "      <td>37.405701</td>\n",
       "      <td>55.734689</td>\n",
       "      <td>37.402236</td>\n",
       "      <td>1479.538</td>\n",
       "      <td>1014.283</td>\n",
       "      <td>Standard</td>\n",
       "      <td>private</td>\n",
       "      <td>0</td>\n",
       "    </tr>\n",
       "    <tr>\n",
       "      <th>873470</th>\n",
       "      <td>1</td>\n",
       "      <td>16</td>\n",
       "      <td>6580</td>\n",
       "      <td>660752</td>\n",
       "      <td>55.831685</td>\n",
       "      <td>37.453510</td>\n",
       "      <td>55.827200</td>\n",
       "      <td>37.444590</td>\n",
       "      <td>1475.580</td>\n",
       "      <td>1149.667</td>\n",
       "      <td>Standard</td>\n",
       "      <td>private</td>\n",
       "      <td>0</td>\n",
       "    </tr>\n",
       "    <tr>\n",
       "      <th>174541</th>\n",
       "      <td>1</td>\n",
       "      <td>20</td>\n",
       "      <td>5714</td>\n",
       "      <td>706021</td>\n",
       "      <td>55.808453</td>\n",
       "      <td>37.527302</td>\n",
       "      <td>55.809480</td>\n",
       "      <td>37.529113</td>\n",
       "      <td>1725.533</td>\n",
       "      <td>1254.050</td>\n",
       "      <td>Economy</td>\n",
       "      <td>private</td>\n",
       "      <td>1</td>\n",
       "    </tr>\n",
       "    <tr>\n",
       "      <th>391059</th>\n",
       "      <td>6</td>\n",
       "      <td>15</td>\n",
       "      <td>2410</td>\n",
       "      <td>633727</td>\n",
       "      <td>55.602245</td>\n",
       "      <td>37.589453</td>\n",
       "      <td>55.592491</td>\n",
       "      <td>37.609445</td>\n",
       "      <td>1474.938</td>\n",
       "      <td>1159.000</td>\n",
       "      <td>XL</td>\n",
       "      <td>private</td>\n",
       "      <td>1</td>\n",
       "    </tr>\n",
       "    <tr>\n",
       "      <th>552747</th>\n",
       "      <td>1</td>\n",
       "      <td>18</td>\n",
       "      <td>6666</td>\n",
       "      <td>219128</td>\n",
       "      <td>55.746030</td>\n",
       "      <td>37.537630</td>\n",
       "      <td>55.757527</td>\n",
       "      <td>37.549621</td>\n",
       "      <td>5215.793</td>\n",
       "      <td>3947.383</td>\n",
       "      <td>VIP</td>\n",
       "      <td>private</td>\n",
       "      <td>1</td>\n",
       "    </tr>\n",
       "    <tr>\n",
       "      <th>538141</th>\n",
       "      <td>6</td>\n",
       "      <td>18</td>\n",
       "      <td>994</td>\n",
       "      <td>463224</td>\n",
       "      <td>55.767603</td>\n",
       "      <td>37.600957</td>\n",
       "      <td>55.769065</td>\n",
       "      <td>37.604302</td>\n",
       "      <td>4177.900</td>\n",
       "      <td>3112.217</td>\n",
       "      <td>Standard</td>\n",
       "      <td>private</td>\n",
       "      <td>1</td>\n",
       "    </tr>\n",
       "    <tr>\n",
       "      <th>106985</th>\n",
       "      <td>2</td>\n",
       "      <td>12</td>\n",
       "      <td>1420</td>\n",
       "      <td>225632</td>\n",
       "      <td>55.713349</td>\n",
       "      <td>37.610444</td>\n",
       "      <td>55.712851</td>\n",
       "      <td>37.615602</td>\n",
       "      <td>1808.875</td>\n",
       "      <td>1389.567</td>\n",
       "      <td>Economy</td>\n",
       "      <td>private</td>\n",
       "      <td>1</td>\n",
       "    </tr>\n",
       "    <tr>\n",
       "      <th>168924</th>\n",
       "      <td>6</td>\n",
       "      <td>21</td>\n",
       "      <td>989</td>\n",
       "      <td>452759</td>\n",
       "      <td>55.729859</td>\n",
       "      <td>37.654583</td>\n",
       "      <td>55.736360</td>\n",
       "      <td>37.655954</td>\n",
       "      <td>1512.828</td>\n",
       "      <td>1019.000</td>\n",
       "      <td>Economy</td>\n",
       "      <td>private</td>\n",
       "      <td>1</td>\n",
       "    </tr>\n",
       "    <tr>\n",
       "      <th>158777</th>\n",
       "      <td>2</td>\n",
       "      <td>20</td>\n",
       "      <td>3309</td>\n",
       "      <td>636962</td>\n",
       "      <td>55.719059</td>\n",
       "      <td>37.628675</td>\n",
       "      <td>55.728879</td>\n",
       "      <td>37.623929</td>\n",
       "      <td>3563.968</td>\n",
       "      <td>2721.000</td>\n",
       "      <td>Standard</td>\n",
       "      <td>private</td>\n",
       "      <td>1</td>\n",
       "    </tr>\n",
       "    <tr>\n",
       "      <th>689042</th>\n",
       "      <td>5</td>\n",
       "      <td>22</td>\n",
       "      <td>2272</td>\n",
       "      <td>247073</td>\n",
       "      <td>55.718765</td>\n",
       "      <td>37.566268</td>\n",
       "      <td>55.731907</td>\n",
       "      <td>37.560635</td>\n",
       "      <td>2120.626</td>\n",
       "      <td>1680.850</td>\n",
       "      <td>Standard</td>\n",
       "      <td>private</td>\n",
       "      <td>1</td>\n",
       "    </tr>\n",
       "    <tr>\n",
       "      <th>762904</th>\n",
       "      <td>5</td>\n",
       "      <td>2</td>\n",
       "      <td>3078</td>\n",
       "      <td>660414</td>\n",
       "      <td>55.723698</td>\n",
       "      <td>37.406337</td>\n",
       "      <td>55.709790</td>\n",
       "      <td>37.419540</td>\n",
       "      <td>5234.283</td>\n",
       "      <td>3958.283</td>\n",
       "      <td>Standard</td>\n",
       "      <td>private</td>\n",
       "      <td>0</td>\n",
       "    </tr>\n",
       "  </tbody>\n",
       "</table>\n",
       "</div>"
      ],
      "text/plain": [
       "          weekday_key  hour_key  driver_gk  order_gk  driver_latitude  \\\n",
       "offer_gk                                                                \n",
       "198416              4        17       2333    914494        55.733757   \n",
       "873470              1        16       6580    660752        55.831685   \n",
       "174541              1        20       5714    706021        55.808453   \n",
       "391059              6        15       2410    633727        55.602245   \n",
       "552747              1        18       6666    219128        55.746030   \n",
       "538141              6        18        994    463224        55.767603   \n",
       "106985              2        12       1420    225632        55.713349   \n",
       "168924              6        21        989    452759        55.729859   \n",
       "158777              2        20       3309    636962        55.719059   \n",
       "689042              5        22       2272    247073        55.718765   \n",
       "762904              5         2       3078    660414        55.723698   \n",
       "\n",
       "          driver_longitude  origin_order_latitude  origin_order_longitude  \\\n",
       "offer_gk                                                                    \n",
       "198416           37.405701              55.734689               37.402236   \n",
       "873470           37.453510              55.827200               37.444590   \n",
       "174541           37.527302              55.809480               37.529113   \n",
       "391059           37.589453              55.592491               37.609445   \n",
       "552747           37.537630              55.757527               37.549621   \n",
       "538141           37.600957              55.769065               37.604302   \n",
       "106985           37.610444              55.712851               37.615602   \n",
       "168924           37.654583              55.736360               37.655954   \n",
       "158777           37.628675              55.728879               37.623929   \n",
       "689042           37.566268              55.731907               37.560635   \n",
       "762904           37.406337              55.709790               37.419540   \n",
       "\n",
       "          distance_km  duration_min offer_class_group ride_type_desc  \\\n",
       "offer_gk                                                               \n",
       "198416       1479.538      1014.283          Standard        private   \n",
       "873470       1475.580      1149.667          Standard        private   \n",
       "174541       1725.533      1254.050           Economy        private   \n",
       "391059       1474.938      1159.000                XL        private   \n",
       "552747       5215.793      3947.383               VIP        private   \n",
       "538141       4177.900      3112.217          Standard        private   \n",
       "106985       1808.875      1389.567           Economy        private   \n",
       "168924       1512.828      1019.000           Economy        private   \n",
       "158777       3563.968      2721.000          Standard        private   \n",
       "689042       2120.626      1680.850          Standard        private   \n",
       "762904       5234.283      3958.283          Standard        private   \n",
       "\n",
       "          driver_response  \n",
       "offer_gk                   \n",
       "198416                  0  \n",
       "873470                  0  \n",
       "174541                  1  \n",
       "391059                  1  \n",
       "552747                  1  \n",
       "538141                  1  \n",
       "106985                  1  \n",
       "168924                  1  \n",
       "158777                  1  \n",
       "689042                  1  \n",
       "762904                  0  "
      ]
     },
     "execution_count": 19,
     "metadata": {},
     "output_type": "execute_result"
    }
   ],
   "source": [
    "df[df['duration_min'] > 1000]"
   ]
  },
  {
   "cell_type": "markdown",
   "metadata": {},
   "source": [
    "#### Сложно назвать данные по длительным поездкам выбросами, оставим все как есть."
   ]
  },
  {
   "cell_type": "markdown",
   "metadata": {},
   "source": [
    "## Изучим корреляцию и распределение:<a class=\"anchor\" id=\"plots\"></a>\n",
    "[к навигации](#contents)"
   ]
  },
  {
   "cell_type": "code",
   "execution_count": 20,
   "metadata": {},
   "outputs": [
    {
     "data": {
      "text/plain": [
       "<matplotlib.axes._subplots.AxesSubplot at 0x26a1f06af98>"
      ]
     },
     "execution_count": 20,
     "metadata": {},
     "output_type": "execute_result"
    },
    {
     "data": {
      "image/png": "[encoded data removed]",
      "text/plain": [
       "<Figure size 1440x720 with 2 Axes>"
      ]
     },
     "metadata": {
      "needs_background": "light"
     },
     "output_type": "display_data"
    }
   ],
   "source": [
    "plt.rcParams['figure.figsize'] = (20.0, 10.0)\n",
    "sns.heatmap(df.corr(), cmap='Set2', annot=True, linewidths=0.4, annot_kws={\"size\": 18, 'color':'black'})"
   ]
  },
  {
   "cell_type": "markdown",
   "metadata": {},
   "source": [
    "#### Очивидные зависимости. Распределение по дням и часам:"
   ]
  },
  {
   "cell_type": "code",
   "execution_count": 21,
   "metadata": {},
   "outputs": [
    {
     "data": {
      "text/plain": [
       "<matplotlib.axes._subplots.AxesSubplot at 0x26a1f29e470>"
      ]
     },
     "execution_count": 21,
     "metadata": {},
     "output_type": "execute_result"
    },
    {
     "data": {
      "image/png": "[encoded data removed]",
      "text/plain": [
       "<Figure size 1440x720 with 1 Axes>"
      ]
     },
     "metadata": {
      "needs_background": "light"
     },
     "output_type": "display_data"
    }
   ],
   "source": [
    "df.weekday_key.hist(bins=7)"
   ]
  },
  {
   "cell_type": "code",
   "execution_count": 22,
   "metadata": {},
   "outputs": [
    {
     "data": {
      "text/plain": [
       "<matplotlib.axes._subplots.AxesSubplot at 0x26a1f357940>"
      ]
     },
     "execution_count": 22,
     "metadata": {},
     "output_type": "execute_result"
    },
    {
     "data": {
      "image/png": "[encoded data removed]",
      "text/plain": [
       "<Figure size 1008x432 with 1 Axes>"
      ]
     },
     "metadata": {
      "needs_background": "light"
     },
     "output_type": "display_data"
    }
   ],
   "source": [
    "plt.rcParams['figure.figsize'] = (14.0, 6.0)\n",
    "df.hour_key.hist(bins=24)"
   ]
  },
  {
   "cell_type": "markdown",
   "metadata": {},
   "source": [
    "### Предобработаем строковые данные для моделей<a class=\"anchor\" id=\"fe\"></a>\n",
    "[к навигации](#contents)"
   ]
  },
  {
   "cell_type": "code",
   "execution_count": 255,
   "metadata": {},
   "outputs": [],
   "source": [
    "X = df.iloc[:,:-1]"
   ]
  },
  {
   "cell_type": "code",
   "execution_count": 256,
   "metadata": {},
   "outputs": [
    {
     "data": {
      "text/plain": [
       "array(['Economy', 'Standard', 'XL', 'Kids', 'Delivery', 'Premium', 'VIP',\n",
       "       'VIP+'], dtype=object)"
      ]
     },
     "execution_count": 256,
     "metadata": {},
     "output_type": "execute_result"
    }
   ],
   "source": [
    "X.offer_class_group.unique()"
   ]
  },
  {
   "cell_type": "markdown",
   "metadata": {},
   "source": [
    "#### Думаю что 'XL', 'Kids', 'Delivery' больше похоже на доп. опцию — вынисем их как отдельные фичи. Остальные классы распределим по возрастанию премиальности авто."
   ]
  },
  {
   "cell_type": "code",
   "execution_count": 257,
   "metadata": {},
   "outputs": [],
   "source": [
    "X['Delivery'] = X['offer_class_group'] == 'Delivery'\n",
    "X['Kids'] = X['offer_class_group'] == 'Kids'\n",
    "X['XL'] = X['offer_class_group'] == 'XL'"
   ]
  },
  {
   "cell_type": "code",
   "execution_count": 258,
   "metadata": {},
   "outputs": [],
   "source": [
    "class_group = {\"offer_class_group\":     {'Delivery': 0,\n",
    "                                         'Kids': 0,\n",
    "                                         'XL': 0,\n",
    "                                        \"Economy\": 1,\n",
    "                                          \"Standard\": 2,\n",
    "                                         'Premium': 3,\n",
    "                                         'VIP': 4,\n",
    "                                         'VIP+': 5}}\n",
    "\n",
    "X.replace(class_group, inplace=True)"
   ]
  },
  {
   "cell_type": "code",
   "execution_count": 259,
   "metadata": {},
   "outputs": [],
   "source": [
    "X['ride_type_desc'] = X['ride_type_desc'].astype('category')\n",
    "X['ride_type_desc'] = X['ride_type_desc'].cat.codes"
   ]
  },
  {
   "cell_type": "code",
   "execution_count": 260,
   "metadata": {},
   "outputs": [],
   "source": [
    "X = X.replace([True,False],[1,0])"
   ]
  },
  {
   "cell_type": "code",
   "execution_count": 261,
   "metadata": {},
   "outputs": [
    {
     "data": {
      "text/html": [
       "<div>\n",
       "<style scoped>\n",
       "    .dataframe tbody tr th:only-of-type {\n",
       "        vertical-align: middle;\n",
       "    }\n",
       "\n",
       "    .dataframe tbody tr th {\n",
       "        vertical-align: top;\n",
       "    }\n",
       "\n",
       "    .dataframe thead th {\n",
       "        text-align: right;\n",
       "    }\n",
       "</style>\n",
       "<table border=\"1\" class=\"dataframe\">\n",
       "  <thead>\n",
       "    <tr style=\"text-align: right;\">\n",
       "      <th></th>\n",
       "      <th>weekday_key</th>\n",
       "      <th>hour_key</th>\n",
       "      <th>driver_gk</th>\n",
       "      <th>order_gk</th>\n",
       "      <th>driver_latitude</th>\n",
       "      <th>driver_longitude</th>\n",
       "      <th>origin_order_latitude</th>\n",
       "      <th>origin_order_longitude</th>\n",
       "      <th>distance_km</th>\n",
       "      <th>duration_min</th>\n",
       "      <th>offer_class_group</th>\n",
       "      <th>ride_type_desc</th>\n",
       "      <th>Delivery</th>\n",
       "      <th>Kids</th>\n",
       "      <th>XL</th>\n",
       "    </tr>\n",
       "    <tr>\n",
       "      <th>offer_gk</th>\n",
       "      <th></th>\n",
       "      <th></th>\n",
       "      <th></th>\n",
       "      <th></th>\n",
       "      <th></th>\n",
       "      <th></th>\n",
       "      <th></th>\n",
       "      <th></th>\n",
       "      <th></th>\n",
       "      <th></th>\n",
       "      <th></th>\n",
       "      <th></th>\n",
       "      <th></th>\n",
       "      <th></th>\n",
       "      <th></th>\n",
       "    </tr>\n",
       "  </thead>\n",
       "  <tbody>\n",
       "    <tr>\n",
       "      <th>1105373</th>\n",
       "      <td>5</td>\n",
       "      <td>20</td>\n",
       "      <td>6080</td>\n",
       "      <td>174182</td>\n",
       "      <td>55.818842</td>\n",
       "      <td>37.334562</td>\n",
       "      <td>55.814567</td>\n",
       "      <td>37.355010</td>\n",
       "      <td>-1.000</td>\n",
       "      <td>-1.000</td>\n",
       "      <td>1</td>\n",
       "      <td>3</td>\n",
       "      <td>0</td>\n",
       "      <td>0</td>\n",
       "      <td>0</td>\n",
       "    </tr>\n",
       "    <tr>\n",
       "      <th>759733</th>\n",
       "      <td>5</td>\n",
       "      <td>14</td>\n",
       "      <td>6080</td>\n",
       "      <td>358774</td>\n",
       "      <td>55.805342</td>\n",
       "      <td>37.515023</td>\n",
       "      <td>55.819329</td>\n",
       "      <td>37.466398</td>\n",
       "      <td>18.802</td>\n",
       "      <td>25.217</td>\n",
       "      <td>2</td>\n",
       "      <td>3</td>\n",
       "      <td>0</td>\n",
       "      <td>0</td>\n",
       "      <td>0</td>\n",
       "    </tr>\n",
       "  </tbody>\n",
       "</table>\n",
       "</div>"
      ],
      "text/plain": [
       "          weekday_key  hour_key  driver_gk  order_gk  driver_latitude  \\\n",
       "offer_gk                                                                \n",
       "1105373             5        20       6080    174182        55.818842   \n",
       "759733              5        14       6080    358774        55.805342   \n",
       "\n",
       "          driver_longitude  origin_order_latitude  origin_order_longitude  \\\n",
       "offer_gk                                                                    \n",
       "1105373          37.334562              55.814567               37.355010   \n",
       "759733           37.515023              55.819329               37.466398   \n",
       "\n",
       "          distance_km  duration_min  offer_class_group  ride_type_desc  \\\n",
       "offer_gk                                                                 \n",
       "1105373        -1.000        -1.000                  1               3   \n",
       "759733         18.802        25.217                  2               3   \n",
       "\n",
       "          Delivery  Kids  XL  \n",
       "offer_gk                      \n",
       "1105373          0     0   0  \n",
       "759733           0     0   0  "
      ]
     },
     "execution_count": 261,
     "metadata": {},
     "output_type": "execute_result"
    }
   ],
   "source": [
    "X.head(2)"
   ]
  },
  {
   "cell_type": "code",
   "execution_count": 207,
   "metadata": {},
   "outputs": [
    {
     "data": {
      "text/plain": [
       "15"
      ]
     },
     "execution_count": 207,
     "metadata": {},
     "output_type": "execute_result"
    }
   ],
   "source": [
    "feature_list = list(X.columns)\n",
    "len(feature_list)"
   ]
  },
  {
   "cell_type": "code",
   "execution_count": 208,
   "metadata": {},
   "outputs": [],
   "source": [
    "y = df.driver_response"
   ]
  },
  {
   "cell_type": "code",
   "execution_count": 209,
   "metadata": {},
   "outputs": [
    {
     "data": {
      "text/plain": [
       "offer_gk\n",
       "1105373    0\n",
       "759733     1\n",
       "416977     0\n",
       "889660     1\n",
       "1120055    1\n",
       "Name: driver_response, dtype: int64"
      ]
     },
     "execution_count": 209,
     "metadata": {},
     "output_type": "execute_result"
    }
   ],
   "source": [
    "y.head()"
   ]
  },
  {
   "cell_type": "markdown",
   "metadata": {},
   "source": [
    "#### Собрал данные для моделей, начинаю предсказывать."
   ]
  },
  {
   "cell_type": "markdown",
   "metadata": {},
   "source": [
    "### Импортируем библиотеки и делим данные (25/75)."
   ]
  },
  {
   "cell_type": "code",
   "execution_count": 262,
   "metadata": {},
   "outputs": [],
   "source": [
    "from sklearn.model_selection import train_test_split\n",
    "from sklearn.metrics import auc, roc_curve, roc_auc_score\n",
    "from sklearn.metrics import confusion_matrix\n",
    "from sklearn.metrics import classification_report\n",
    "from sklearn.metrics import accuracy_score"
   ]
  },
  {
   "cell_type": "code",
   "execution_count": 263,
   "metadata": {},
   "outputs": [],
   "source": [
    "X_train, X_test, y_train, y_test = train_test_split(X, y, test_size=0.25)"
   ]
  },
  {
   "cell_type": "markdown",
   "metadata": {},
   "source": [
    "### Импользуем RandomForestClassifier как модель прогнозирования таргета и оценки важности признаков<a class=\"anchor\" id=\"rnf\"></a>\n",
    "[к навигации](#contents)"
   ]
  },
  {
   "cell_type": "code",
   "execution_count": 212,
   "metadata": {},
   "outputs": [],
   "source": [
    "from sklearn.ensemble import RandomForestClassifier"
   ]
  },
  {
   "cell_type": "markdown",
   "metadata": {},
   "source": [
    "#### Возму функцию для определения важности признаков отсюда: [build a forest and compute the feature importances](https://scikit-learn.org/stable/auto_examples/ensemble/plot_forest_importances.html)."
   ]
  },
  {
   "cell_type": "code",
   "execution_count": 342,
   "metadata": {
    "scrolled": true
   },
   "outputs": [
    {
     "name": "stdout",
     "output_type": "stream",
     "text": [
      "Feature ranking:\n",
      "1. driver_latitude (0.155849)\n",
      "2. origin_order_latitude (0.154046)\n",
      "3. driver_longitude (0.130788)\n",
      "4. origin_order_longitude (0.116430)\n",
      "5. driver_gk (0.099679)\n",
      "6. order_gk (0.076490)\n",
      "7. distance_km (0.074221)\n",
      "8. duration_min (0.069944)\n",
      "9. hour_key (0.059580)\n",
      "10. weekday_key (0.033048)\n",
      "11. offer_class_group (0.021835)\n",
      "12. ride_type_desc (0.004689)\n",
      "13. Delivery (0.001232)\n",
      "14. XL (0.001150)\n",
      "15. Kids (0.001021)\n"
     ]
    },
    {
     "data": {
      "image/png": "[encoded data removed]",
      "text/plain": [
       "<Figure size 1008x432 with 1 Axes>"
      ]
     },
     "metadata": {
      "needs_background": "light"
     },
     "output_type": "display_data"
    }
   ],
   "source": [
    "clf_RF = RandomForestClassifier(n_estimators=250,\n",
    "                              random_state=10,\n",
    "                              n_jobs=-1)\n",
    "\n",
    "clf_RF.fit(X_train, y_train)\n",
    "importances = forest.feature_importances_\n",
    "std = np.std([tree.feature_importances_ for tree in clf_RF.estimators_],\n",
    "             axis=0)\n",
    "indices = np.argsort(importances)[::-1]\n",
    "\n",
    "# Print the feature ranking\n",
    "print(\"Feature ranking:\")\n",
    "\n",
    "for f in range(X_train.shape[1]):\n",
    "    print(\"%d. %s (%f)\" % (f + 1, feature_list[indices[f]], importances[indices[f]]))\n",
    "    \n",
    "\n",
    "# Plot the feature importances of the forest\n",
    "plt.figure()\n",
    "plt.title(\"Feature importances\")\n",
    "plt.bar(range(X_train.shape[1]), importances[indices],\n",
    "       color=\"r\", yerr=std[indices], align=\"center\")\n",
    "plt.xticks(range(X_train.shape[1]), indices)\n",
    "plt.xlim([-1, X_train.shape[1]])\n",
    "plt.show()"
   ]
  },
  {
   "cell_type": "markdown",
   "metadata": {},
   "source": [
    "#### Видим, что RF наиболее значимыми прзнаками определил координаты водителя и места откуда предполагается начало поездки. Логично. К самым незначительным отнесены временные показатели, опции класса машин и тип поездки.\n",
    "\n",
    "#### Оценим качество модели с помощью ROC-кривой и матрицы ошибок."
   ]
  },
  {
   "cell_type": "code",
   "execution_count": 343,
   "metadata": {},
   "outputs": [],
   "source": [
    "def show_auc(y, y_pred, plot_label='', prin=True):    \n",
    "    fpr, tpr, _ = roc_curve(y, y_pred)\n",
    "    auc_val = auc(fpr, tpr)\n",
    "    if prin:\n",
    "        print('ROC AUC: {0:.4f}'.format(auc_val))\n",
    "    if plot_label:\n",
    "        plt.plot(fpr, tpr, label=plot_label)\n",
    "        plt.plot([0, 1], [0, 1])\n",
    "        plt.xlabel('False Positive Rate')\n",
    "        plt.ylabel('True Positive Rate')\n",
    "        plt.xlabel\n",
    "        plt.title('ROC curve')\n",
    "        plt.savefig(\"ROC.png\")\n",
    "    return auc_val"
   ]
  },
  {
   "cell_type": "code",
   "execution_count": 344,
   "metadata": {},
   "outputs": [
    {
     "name": "stdout",
     "output_type": "stream",
     "text": [
      "Train:\n",
      "ROC AUC: 0.9900\n",
      "Test:\n",
      "ROC AUC: 0.9902\n"
     ]
    },
    {
     "data": {
      "text/plain": [
       "0.9902231281360201"
      ]
     },
     "execution_count": 344,
     "metadata": {},
     "output_type": "execute_result"
    },
    {
     "data": {
      "image/png": "[encoded data removed]",
      "text/plain": [
       "<Figure size 1008x432 with 1 Axes>"
      ]
     },
     "metadata": {
      "needs_background": "light"
     },
     "output_type": "display_data"
    }
   ],
   "source": [
    "y_RF_pred_train = forest.predict_proba(X_train)[:,1]\n",
    "y_RF_pred_test = forest.predict_proba(X_test)[:,1]\n",
    "\n",
    "print('Train:')\n",
    "show_auc(y_train, y_RF_pred_train, 'train')\n",
    "         \n",
    "print('Test:')\n",
    "show_auc(y_test, y_RF_pred_test, 'test')"
   ]
  },
  {
   "cell_type": "code",
   "execution_count": 345,
   "metadata": {},
   "outputs": [],
   "source": [
    "# округлим ответы модели, чтобы вывести отчет по классификации\n",
    "y_RF_pred_test_round = np.around(y_RF_pred_test)"
   ]
  },
  {
   "cell_type": "code",
   "execution_count": 346,
   "metadata": {},
   "outputs": [
    {
     "name": "stdout",
     "output_type": "stream",
     "text": [
      "                   precision    recall  f1-score   support\n",
      "\n",
      "такси не работает       0.98      0.95      0.96     12747\n",
      "         поехали!       0.95      0.98      0.96     12251\n",
      "\n",
      "        micro avg       0.96      0.96      0.96     24998\n",
      "        macro avg       0.96      0.96      0.96     24998\n",
      "     weighted avg       0.96      0.96      0.96     24998\n",
      "\n"
     ]
    }
   ],
   "source": [
    "target_names = ['такси не работает', 'поехали!']\n",
    "print(classification_report(y_test, y_RF_pred_test_round, target_names=target_names))"
   ]
  },
  {
   "cell_type": "code",
   "execution_count": 347,
   "metadata": {},
   "outputs": [
    {
     "name": "stdout",
     "output_type": "stream",
     "text": [
      "Normalized confusion matrix\n",
      "[[0.94932141 0.05067859]\n",
      " [0.02399804 0.97600196]]\n"
     ]
    },
    {
     "data": {
      "image/png": "[encoded data removed]",
      "text/plain": [
       "<Figure size 720x1368 with 1 Axes>"
      ]
     },
     "metadata": {
      "needs_background": "light"
     },
     "output_type": "display_data"
    }
   ],
   "source": [
    "from itertools import product\n",
    "\n",
    "def plot_confusion_matrix(cm, classes,\n",
    "                          normalize=True,\n",
    "                          title='Confusion matrix',\n",
    "                          cmap=plt.cm.Blues):\n",
    "    \"\"\"\n",
    "    This function prints and plots the confusion matrix.\n",
    "    Normalization can be applied by setting `normalize=True`.\n",
    "    \"\"\"\n",
    "    plt.imshow(cm, interpolation='nearest', cmap=cmap)\n",
    "#     plt.title(title, {'verticalalignment': 'top'})\n",
    "\n",
    "    tick_marks = np.arange(len(classes))\n",
    "    plt.xticks(tick_marks, classes, rotation=25)\n",
    "    plt.yticks(tick_marks, classes, )\n",
    "\n",
    "    if normalize:\n",
    "        cm = cm.astype('float') / cm.sum(axis=1)[:, np.newaxis]\n",
    "        print(\"Normalized confusion matrix\")\n",
    "    else:\n",
    "        print('Confusion matrix, without normalization')\n",
    "\n",
    "    print(cm)\n",
    "\n",
    "    thresh = cm.max() / 2.\n",
    "    for i in range (cm.shape[0]):\n",
    "        for j in range (cm.shape[1]):\n",
    "            plt.text(j, i, cm[i, j],\n",
    "                     horizontalalignment=\"center\",\n",
    "                     verticalalignment = 'baseline',\n",
    "                     color=\"black\" if cm[i, j] > thresh else \"red\")\n",
    "\n",
    "    plt.tight_layout()\n",
    "    plt.ylabel('True label')\n",
    "    plt.xlabel('Predicted label')\n",
    "\n",
    "font = {'size' : 18}\n",
    "\n",
    "plt.rc('font', **font)\n",
    "\n",
    "\n",
    "\n",
    "cnf_matrix = confusion_matrix(y_test, y_RF_pred_test_round)\n",
    "\n",
    "plt.figure(figsize=(10,19))\n",
    "\n",
    "\n",
    "plot_confusion_matrix(cnf_matrix, classes=['такси не работает', 'поехали!'],\n",
    "                      title='Confusion matrix')\n",
    "\n",
    "plt.show()"
   ]
  },
  {
   "cell_type": "code",
   "execution_count": 348,
   "metadata": {},
   "outputs": [
    {
     "data": {
      "text/plain": [
       "0.9623969917593408"
      ]
     },
     "execution_count": 348,
     "metadata": {},
     "output_type": "execute_result"
    }
   ],
   "source": [
    "accuracy_score(y_test, y_RF_pred_test_round)"
   ]
  },
  {
   "cell_type": "markdown",
   "metadata": {},
   "source": [
    "#### Случайный лес показал отличные результаты со всех ракурсов."
   ]
  },
  {
   "cell_type": "markdown",
   "metadata": {},
   "source": [
    "## Посмотрим как с той же задачей справится LogisticRegression<a class=\"anchor\" id=\"lr\"></a>\n",
    "[к навигации](#contents)"
   ]
  },
  {
   "cell_type": "code",
   "execution_count": 349,
   "metadata": {},
   "outputs": [],
   "source": [
    "from sklearn.linear_model import LogisticRegression"
   ]
  },
  {
   "cell_type": "markdown",
   "metadata": {},
   "source": [
    "#### Стандартизирую признаки."
   ]
  },
  {
   "cell_type": "code",
   "execution_count": 350,
   "metadata": {},
   "outputs": [
    {
     "name": "stderr",
     "output_type": "stream",
     "text": [
      "C:\\Users\\Asus\\Anaconda3\\lib\\site-packages\\ipykernel_launcher.py:5: DataConversionWarning: Data with input dtype int64, float64 were all converted to float64 by StandardScaler.\n",
      "  \"\"\"\n",
      "C:\\Users\\Asus\\Anaconda3\\lib\\site-packages\\ipykernel_launcher.py:6: DataConversionWarning: Data with input dtype int64, float64 were all converted to float64 by StandardScaler.\n",
      "  \n"
     ]
    }
   ],
   "source": [
    "from sklearn.preprocessing import StandardScaler\n",
    "scaler = StandardScaler()\n",
    "scaler.fit(X_train.values)\n",
    "\n",
    "X_LR_train = scaler.transform(X_train)\n",
    "X_LR_test = scaler.transform(X_test)"
   ]
  },
  {
   "cell_type": "code",
   "execution_count": 352,
   "metadata": {},
   "outputs": [
    {
     "data": {
      "text/plain": [
       "array([[-0.07797691,  1.11571553,  0.22219277,  1.00797998,  0.02488356,\n",
       "         0.08318136, -0.01741368,  0.17388792, -0.41451065, -0.52973112,\n",
       "        -0.83763968,  0.30511741, -0.11254373, -0.07778303, -0.06668363],\n",
       "       [ 0.89552068,  0.70491374, -1.40625359,  0.07896784,  0.01032224,\n",
       "        -0.02895714, -0.07560979, -0.21053852, -0.14341266,  0.05121154,\n",
       "         0.85725685,  0.30511741, -0.11254373, -0.07778303, -0.06668363],\n",
       "       [-1.53822329,  0.29411196,  1.51387132,  0.73043709,  0.07249045,\n",
       "        -0.01635902,  0.16790401, -0.20233069, -0.097224  , -0.11116772,\n",
       "        -0.83763968,  0.30511741, -0.11254373, -0.07778303, -0.06668363]])"
      ]
     },
     "execution_count": 352,
     "metadata": {},
     "output_type": "execute_result"
    }
   ],
   "source": [
    "X_LR_train[:3]"
   ]
  },
  {
   "cell_type": "code",
   "execution_count": 353,
   "metadata": {},
   "outputs": [
    {
     "name": "stderr",
     "output_type": "stream",
     "text": [
      "C:\\Users\\Asus\\Anaconda3\\lib\\site-packages\\sklearn\\linear_model\\logistic.py:433: FutureWarning: Default solver will be changed to 'lbfgs' in 0.22. Specify a solver to silence this warning.\n",
      "  FutureWarning)\n"
     ]
    },
    {
     "data": {
      "text/plain": [
       "LogisticRegression(C=1.0, class_weight=None, dual=False, fit_intercept=True,\n",
       "          intercept_scaling=1, max_iter=100, multi_class='warn',\n",
       "          n_jobs=None, penalty='l2', random_state=8, solver='warn',\n",
       "          tol=0.0001, verbose=0, warm_start=False)"
      ]
     },
     "execution_count": 353,
     "metadata": {},
     "output_type": "execute_result"
    }
   ],
   "source": [
    "clf_LR = LogisticRegression(random_state=8)\n",
    "clf_LR.fit(X_LR_train, y_train)"
   ]
  },
  {
   "cell_type": "code",
   "execution_count": 354,
   "metadata": {},
   "outputs": [
    {
     "data": {
      "text/plain": [
       "array([ 0.01716242,  0.0367966 , -0.03848262,  0.01232173, -4.85420714,\n",
       "        2.35650935,  0.20258629, -0.23170353, -2.64386806,  1.1610527 ,\n",
       "        0.24649489,  0.01762366,  0.12016562,  0.17310562,  0.0959504 ])"
      ]
     },
     "execution_count": 354,
     "metadata": {},
     "output_type": "execute_result"
    }
   ],
   "source": [
    "clf_LR.coef_[0]"
   ]
  },
  {
   "cell_type": "code",
   "execution_count": 355,
   "metadata": {},
   "outputs": [
    {
     "data": {
      "text/plain": [
       "[('driver_longitude', 2.356509349005559),\n",
       " ('duration_min', 1.1610526996084243),\n",
       " ('offer_class_group', 0.2464948890612462),\n",
       " ('origin_order_latitude', 0.20258628654190794),\n",
       " ('Kids', 0.17310562215543215),\n",
       " ('Delivery', 0.12016562191037954),\n",
       " ('XL', 0.09595040411464265),\n",
       " ('hour_key', 0.03679659505690758),\n",
       " ('ride_type_desc', 0.017623655097723862),\n",
       " ('weekday_key', 0.01716241989539708),\n",
       " ('order_gk', 0.012321729582977302),\n",
       " ('driver_gk', -0.038482622320442576),\n",
       " ('origin_order_longitude', -0.23170352774181754),\n",
       " ('distance_km', -2.6438680568561774),\n",
       " ('driver_latitude', -4.854207141186515)]"
      ]
     },
     "execution_count": 355,
     "metadata": {},
     "output_type": "execute_result"
    }
   ],
   "source": [
    "d = dict(zip(feature_list, clf_LR.coef_[0]))\n",
    "sorted(d.items(), key=lambda x: x[1], reverse=True)"
   ]
  },
  {
   "cell_type": "markdown",
   "metadata": {},
   "source": [
    "#### LR очень странным образом выделила значимые признаки, не наблюдаю логики."
   ]
  },
  {
   "cell_type": "code",
   "execution_count": 356,
   "metadata": {},
   "outputs": [
    {
     "name": "stdout",
     "output_type": "stream",
     "text": [
      "Train:\n",
      "ROC AUC: 0.7405\n",
      "Test:\n",
      "ROC AUC: 0.7424\n"
     ]
    },
    {
     "data": {
      "text/plain": [
       "0.7424197410230895"
      ]
     },
     "execution_count": 356,
     "metadata": {},
     "output_type": "execute_result"
    },
    {
     "data": {
      "image/png": "[encoded data removed]",
      "text/plain": [
       "<Figure size 1008x432 with 1 Axes>"
      ]
     },
     "metadata": {
      "needs_background": "light"
     },
     "output_type": "display_data"
    }
   ],
   "source": [
    "y_LR_pred_train = clf_LR.predict_proba(X_LR_train)[:,1]\n",
    "y_LR_pred_test = clf_LR.predict_proba(X_LR_test)[:,1]\n",
    "\n",
    "print('Train:')\n",
    "show_auc(y_train, y_LR_pred_train, 'train')\n",
    "         \n",
    "print('Test:')\n",
    "show_auc(y_test, y_LR_pred_test, 'test')"
   ]
  },
  {
   "cell_type": "code",
   "execution_count": 283,
   "metadata": {},
   "outputs": [],
   "source": [
    "# округлим ответы модели, чтобы вывести отчет по классификации\n",
    "y_LR_pred_test_round = np.around(y_LR_pred_test)"
   ]
  },
  {
   "cell_type": "code",
   "execution_count": 284,
   "metadata": {},
   "outputs": [
    {
     "name": "stdout",
     "output_type": "stream",
     "text": [
      "                   precision    recall  f1-score   support\n",
      "\n",
      "такси не работает       0.73      0.62      0.67     12747\n",
      "          поехали       0.66      0.76      0.70     12251\n",
      "\n",
      "        micro avg       0.69      0.69      0.69     24998\n",
      "        macro avg       0.69      0.69      0.69     24998\n",
      "     weighted avg       0.69      0.69      0.69     24998\n",
      "\n"
     ]
    }
   ],
   "source": [
    "target_names = ['такси не работает', 'поехали']\n",
    "print(classification_report(y_test, y_LR_pred_test_round, target_names=target_names))"
   ]
  },
  {
   "cell_type": "code",
   "execution_count": 341,
   "metadata": {},
   "outputs": [
    {
     "name": "stdout",
     "output_type": "stream",
     "text": [
      "Normalized confusion matrix\n",
      "[[0.62147956 0.37852044]\n",
      " [0.24291895 0.75708105]]\n"
     ]
    },
    {
     "data": {
      "image/png": "[encoded data removed]",
      "text/plain": [
       "<Figure size 720x864 with 1 Axes>"
      ]
     },
     "metadata": {
      "needs_background": "light"
     },
     "output_type": "display_data"
    }
   ],
   "source": [
    "LR_cnf_matrix = confusion_matrix(y_test, y_LR_pred_test_round)\n",
    "plt.figure(figsize=(10,12))\n",
    "plot_confusion_matrix(LR_cnf_matrix, classes=['такси не работает', 'поехали!'],\n",
    "                      title='Confusion matrix')\n",
    "\n",
    "plt.show()"
   ]
  },
  {
   "cell_type": "code",
   "execution_count": 357,
   "metadata": {},
   "outputs": [
    {
     "data": {
      "text/plain": [
       "0.6879350348027842"
      ]
     },
     "execution_count": 357,
     "metadata": {},
     "output_type": "execute_result"
    }
   ],
   "source": [
    "accuracy_score(y_test, y_LR_pred_test_round)"
   ]
  },
  {
   "cell_type": "code",
   "execution_count": 358,
   "metadata": {},
   "outputs": [],
   "source": [
    "def LR_coin(y_LR_pred_test, minimum=0.45, maximum=0.55):\n",
    "    qty = 0\n",
    "    for i in y_LR_pred_test:\n",
    "        if minimum <= i <= maximum:\n",
    "            qty += 1\n",
    "\n",
    "    print(f'Всего наблюдений: {y_LR_pred_test.shape},\\n',\n",
    "    '{0:.0%}'.format(qty / y_LR_pred_test.shape[0]),\n",
    "    f'({qty}) ответов регрессии в диапазоне от {minimum} до {maximum}')"
   ]
  },
  {
   "cell_type": "code",
   "execution_count": 359,
   "metadata": {},
   "outputs": [
    {
     "name": "stdout",
     "output_type": "stream",
     "text": [
      "Всего наблюдений: (24998,),\n",
      " 22% (5526) ответов регрессии в диапазоне от 0.45 до 0.55\n"
     ]
    }
   ],
   "source": [
    "LR_coin(y_LR_pred_test, minimum=0.45, maximum=0.55)"
   ]
  },
  {
   "cell_type": "markdown",
   "metadata": {},
   "source": [
    "#### Модель странно взвесила признаки и дала малую точность. Видим что в 22% случаев предсказание имеет почти случайный характер."
   ]
  },
  {
   "cell_type": "markdown",
   "metadata": {},
   "source": [
    "## Классифицируем на kNN<a class=\"anchor\" id=\"knn\"></a>\n",
    "[к навигации](#contents)"
   ]
  },
  {
   "cell_type": "code",
   "execution_count": 360,
   "metadata": {},
   "outputs": [],
   "source": [
    "from sklearn.neighbors import KNeighborsClassifier"
   ]
  },
  {
   "cell_type": "code",
   "execution_count": 361,
   "metadata": {},
   "outputs": [
    {
     "data": {
      "text/plain": [
       "KNeighborsClassifier(algorithm='auto', leaf_size=30, metric='minkowski',\n",
       "           metric_params=None, n_jobs=-1, n_neighbors=16, p=2,\n",
       "           weights='uniform')"
      ]
     },
     "execution_count": 361,
     "metadata": {},
     "output_type": "execute_result"
    }
   ],
   "source": [
    "clf_kNN = KNeighborsClassifier(n_neighbors=16, n_jobs=-1)\n",
    "clf_kNN.fit(X_train, y_train)"
   ]
  },
  {
   "cell_type": "code",
   "execution_count": 362,
   "metadata": {},
   "outputs": [
    {
     "name": "stdout",
     "output_type": "stream",
     "text": [
      "Train:\n",
      "ROC AUC: 0.6904\n",
      "Test:\n",
      "ROC AUC: 0.5830\n"
     ]
    },
    {
     "data": {
      "text/plain": [
       "0.583040215857871"
      ]
     },
     "execution_count": 362,
     "metadata": {},
     "output_type": "execute_result"
    },
    {
     "data": {
      "image/png": "[encoded data removed]",
      "text/plain": [
       "<Figure size 1008x432 with 1 Axes>"
      ]
     },
     "metadata": {
      "needs_background": "light"
     },
     "output_type": "display_data"
    }
   ],
   "source": [
    "y_kNN_pred_train = clf_kNN.predict_proba(X_train)[:,1]\n",
    "y_kNN_pred_test = clf_kNN.predict_proba(X_test)[:,1]\n",
    "\n",
    "print('Train:')\n",
    "show_auc(y_train, y_kNN_pred_train, 'train')\n",
    "         \n",
    "print('Test:')\n",
    "show_auc(y_test, y_kNN_pred_test, 'test')"
   ]
  },
  {
   "cell_type": "code",
   "execution_count": 363,
   "metadata": {},
   "outputs": [],
   "source": [
    "y_kNN_pred_test_round = np.around(y_kNN_pred_test)"
   ]
  },
  {
   "cell_type": "code",
   "execution_count": 364,
   "metadata": {},
   "outputs": [
    {
     "name": "stdout",
     "output_type": "stream",
     "text": [
      "                   precision    recall  f1-score   support\n",
      "\n",
      "такси не работает       0.56      0.66      0.60     12747\n",
      "          поехали       0.56      0.46      0.50     12251\n",
      "\n",
      "        micro avg       0.56      0.56      0.56     24998\n",
      "        macro avg       0.56      0.56      0.55     24998\n",
      "     weighted avg       0.56      0.56      0.55     24998\n",
      "\n"
     ]
    }
   ],
   "source": [
    "print(classification_report(y_test, y_kNN_pred_test_round, target_names=target_names))"
   ]
  },
  {
   "cell_type": "code",
   "execution_count": 365,
   "metadata": {},
   "outputs": [
    {
     "name": "stdout",
     "output_type": "stream",
     "text": [
      "Normalized confusion matrix\n",
      "[[0.65678199 0.34321801]\n",
      " [0.54362909 0.45637091]]\n"
     ]
    },
    {
     "data": {
      "image/png": "[encoded data removed]",
      "text/plain": [
       "<Figure size 720x864 with 1 Axes>"
      ]
     },
     "metadata": {
      "needs_background": "light"
     },
     "output_type": "display_data"
    }
   ],
   "source": [
    "kNN_cnf_matrix = confusion_matrix(y_test, y_kNN_pred_test_round)\n",
    "\n",
    "plt.figure(figsize=(10,12))\n",
    "\n",
    "\n",
    "plot_confusion_matrix(kNN_cnf_matrix, classes=['такси не работает', 'поехали!'],\n",
    "                      title='Confusion matrix')\n",
    "\n",
    "plt.show()"
   ]
  },
  {
   "cell_type": "code",
   "execution_count": 366,
   "metadata": {},
   "outputs": [
    {
     "data": {
      "text/plain": [
       "0.558564685174814"
      ]
     },
     "execution_count": 366,
     "metadata": {},
     "output_type": "execute_result"
    }
   ],
   "source": [
    "accuracy_score(y_test, y_kNN_pred_test_round)"
   ]
  },
  {
   "cell_type": "markdown",
   "metadata": {},
   "source": [
    "#### [Наихудшее качество среди всех моделей, узнаем можно ли оптимизировать меняя количество соседей.](https://datascienceplus.com/k-nearest-neighbors-knn-with-python/)"
   ]
  },
  {
   "cell_type": "code",
   "execution_count": 367,
   "metadata": {},
   "outputs": [],
   "source": [
    "error_rate = []\n",
    "# Might take some time\n",
    "for i in range(1,40):\n",
    "    \n",
    "    knn = KNeighborsClassifier(n_neighbors=i)\n",
    "    knn.fit(X_train,y_train)\n",
    "    pred_i = knn.predict(X_test)\n",
    "    error_rate.append(np.mean(pred_i != y_test))"
   ]
  },
  {
   "cell_type": "code",
   "execution_count": 368,
   "metadata": {},
   "outputs": [
    {
     "data": {
      "text/plain": [
       "Text(0, 0.5, 'Error Rate')"
      ]
     },
     "execution_count": 368,
     "metadata": {},
     "output_type": "execute_result"
    },
    {
     "data": {
      "image/png": "[encoded data removed]",
      "text/plain": [
       "<Figure size 720x432 with 1 Axes>"
      ]
     },
     "metadata": {
      "needs_background": "light"
     },
     "output_type": "display_data"
    }
   ],
   "source": [
    "plt.figure(figsize=(10,6))\n",
    "plt.plot(range(1,40),error_rate,color='blue', linestyle='dashed', marker='o',\n",
    "         markerfacecolor='red', markersize=10)\n",
    "plt.title('Error Rate vs. K Value')\n",
    "plt.xlabel('K')\n",
    "plt.ylabel('Error Rate')"
   ]
  },
  {
   "cell_type": "code",
   "execution_count": 369,
   "metadata": {},
   "outputs": [
    {
     "data": {
      "text/plain": [
       "[0.441435314825186,\n",
       " 0.437515001200096,\n",
       " 0.4415553244259541,\n",
       " 0.4391951356108489,\n",
       " 0.4441555324425954]"
      ]
     },
     "execution_count": 369,
     "metadata": {},
     "output_type": "execute_result"
    }
   ],
   "source": [
    "error_rate[15:20]"
   ]
  },
  {
   "cell_type": "markdown",
   "metadata": {},
   "source": [
    "#### Видим, что оптимальное количество соседей = 16, но качество предсказаний низкое все равно. Попробуем прогнать kNN на стандартизированных данных."
   ]
  },
  {
   "cell_type": "code",
   "execution_count": 370,
   "metadata": {},
   "outputs": [
    {
     "name": "stdout",
     "output_type": "stream",
     "text": [
      "Train:\n",
      "ROC AUC: 0.8547\n",
      "Test:\n",
      "ROC AUC: 0.8104\n"
     ]
    },
    {
     "data": {
      "text/plain": [
       "0.8104370703225223"
      ]
     },
     "execution_count": 370,
     "metadata": {},
     "output_type": "execute_result"
    },
    {
     "data": {
      "image/png": "[encoded data removed]",
      "text/plain": [
       "<Figure size 1008x432 with 1 Axes>"
      ]
     },
     "metadata": {
      "needs_background": "light"
     },
     "output_type": "display_data"
    }
   ],
   "source": [
    "clf_kNN_opt = KNeighborsClassifier(n_neighbors=16, n_jobs=-1)\n",
    "clf_kNN_opt.fit(X_LR_train, y_train)\n",
    "\n",
    "y_kNN_pred_train_2 = clf_kNN_opt.predict_proba(X_LR_train)[:,1]\n",
    "y_kNN_pred_test_2 = clf_kNN_opt.predict_proba(X_LR_test)[:,1]\n",
    "\n",
    "print('Train:')\n",
    "show_auc(y_train, y_kNN_pred_train_2, 'train')\n",
    "         \n",
    "print('Test:')\n",
    "show_auc(y_test, y_kNN_pred_test_2, 'test')"
   ]
  },
  {
   "cell_type": "code",
   "execution_count": 372,
   "metadata": {},
   "outputs": [
    {
     "name": "stdout",
     "output_type": "stream",
     "text": [
      "                   precision    recall  f1-score   support\n",
      "\n",
      "такси не работает       0.75      0.73      0.74     12747\n",
      "          поехали       0.73      0.74      0.74     12251\n",
      "\n",
      "        micro avg       0.74      0.74      0.74     24998\n",
      "        macro avg       0.74      0.74      0.74     24998\n",
      "     weighted avg       0.74      0.74      0.74     24998\n",
      "\n"
     ]
    }
   ],
   "source": [
    "y_kNN_pred_test_2_round = np.around(y_kNN_pred_test_2)\n",
    "\n",
    "print(classification_report(y_test, y_kNN_pred_test_2_round, target_names=target_names))"
   ]
  },
  {
   "cell_type": "code",
   "execution_count": 373,
   "metadata": {},
   "outputs": [
    {
     "data": {
      "text/plain": [
       "0.738259060724858"
      ]
     },
     "execution_count": 373,
     "metadata": {},
     "output_type": "execute_result"
    }
   ],
   "source": [
    "accuracy_score(y_test, y_kNN_pred_test_2_round)"
   ]
  },
  {
   "cell_type": "markdown",
   "metadata": {},
   "source": [
    "#### Выполнив ряд преобразований, удалось поднять качество классификации kNN до 73% и обогнать логистическую регрессию по качеству."
   ]
  },
  {
   "cell_type": "markdown",
   "metadata": {},
   "source": [
    "## Вернуться к разделам:\n",
    "\n",
    "### 1. [Первичная оценка](#intro)\n",
    "### 2. [Изучение признаков](#features)\n",
    "### 3. [Графики](#plots)\n",
    "### 4. [Предобработка признаков](#fe)\n",
    "### 5. [Модели](#rnf)\n",
    "#### 5.1. [RandomForestClassifier](#rnf)\n",
    "#### 5.2. [LogisticRegression](#lr)\n",
    "#### 5.3. [kNN (K-Nearest Neighbors)](#knn)"
   ]
  }
 ],
 "metadata": {
  "kernelspec": {
   "display_name": "Python 3",
   "language": "python",
   "name": "python3"
  },
  "language_info": {
   "codemirror_mode": {
    "name": "ipython",
    "version": 3
   },
   "file_extension": ".py",
   "mimetype": "text/x-python",
   "name": "python",
   "nbconvert_exporter": "python",
   "pygments_lexer": "ipython3",
   "version": "3.7.3"
  }
 },
 "nbformat": 4,
 "nbformat_minor": 2
}
