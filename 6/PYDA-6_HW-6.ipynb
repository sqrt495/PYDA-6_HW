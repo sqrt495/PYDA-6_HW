{
 "cells": [
  {
   "cell_type": "markdown",
   "metadata": {},
   "source": [
    "# Домашнее задание к лекции \"Регулярные выражения\"\n",
    "Для зачета необходимо выполнить 4 задания.  \n",
    "Для зачета с отличием – все."
   ]
  },
  {
   "cell_type": "markdown",
   "metadata": {},
   "source": [
    "## Задание 1"
   ]
  },
  {
   "cell_type": "markdown",
   "metadata": {},
   "source": [
    "Напишите функцию, которая принимает на вход строку и проверяет является ли она валидным транспортным номером. Если да, то функция должна возвращать отдельно номер и регион."
   ]
  },
  {
   "cell_type": "code",
   "execution_count": 2,
   "metadata": {},
   "outputs": [],
   "source": [
    "import re"
   ]
  },
  {
   "cell_type": "code",
   "execution_count": 22,
   "metadata": {},
   "outputs": [],
   "source": [
    "def check_auto_num():\n",
    "    \"\"\"\n",
    "    Проверка работает с актуальными российскими номерами из 8 или 9 символов.\n",
    "    Пример: а223ра17 или а223ра177.\n",
    "    Буквы кириллицей имеющие графические аналоги в латинском алфавите. Ре\n",
    "    Цифры в связке 3+2 или 3+3. Это совсем неверно, но быстро.\n",
    "    \"\"\"\n",
    "    n =''\n",
    "    r=''\n",
    "    auto_num = input('Введите номер слитно для проверки:\\n')\n",
    "    if re.match('([авекмнорстухАВЕКМНОРСТУХ]\\d{3}[авекмнорстухАВЕКМНОРСТУХ]{2})(\\d{2,3})',auto_num):\n",
    "        n = re.findall(r'^([авекмнорстухАВЕКМНОРСТУХ]\\d{3}[авекмнорстухАВЕКМНОРСТУХ]{2})', auto_num)\n",
    "        r = re.findall(r'\\d{2,3}$', auto_num)\n",
    "        \n",
    "        return f'Номер АТС: {n}, код региона: {r}' \n",
    "    return 'Данные указаны некорректно.'"
   ]
  },
  {
   "cell_type": "code",
   "execution_count": 26,
   "metadata": {},
   "outputs": [
    {
     "name": "stdout",
     "output_type": "stream",
     "text": [
      "Введите номер слитно для проверки:\n",
      "а223ра177\n"
     ]
    },
    {
     "data": {
      "text/plain": [
       "\"Номер АТС: ['а223ра'], код региона: ['177']\""
      ]
     },
     "execution_count": 26,
     "metadata": {},
     "output_type": "execute_result"
    }
   ],
   "source": [
    "check_auto_num()"
   ]
  },
  {
   "cell_type": "markdown",
   "metadata": {},
   "source": [
    "## Задание 2"
   ]
  },
  {
   "cell_type": "markdown",
   "metadata": {},
   "source": [
    "Напишите функцию, которая проверяет e-mail адрес на валидность по стандарту RFC822: http://www.w3.org/Protocols/rfc822/. Для этого постарайтесь написать (в крайнем случае найти) самый полный шаблон для проверки e-mail адресов через регулярное выражение. Разберитесь и напишите примеры, какие ваш шаблон может не охватить."
   ]
  },
  {
   "cell_type": "code",
   "execution_count": 76,
   "metadata": {},
   "outputs": [],
   "source": [
    "def mail_check(mail):\n",
    "    \"\"\"\n",
    "    Логика валидности: только один символ @,\n",
    "    отсутствие подряд идущих точек, максимум 2 точки после @,\n",
    "    обязательно буквенные символы в конце строки.\n",
    "    Это не соответствуе RFC822 - но наиболее часто встречаемый на практике шаблон.\n",
    "    \"\"\"     \n",
    "    mail_checker = re.compile(r'[\\w]+@[\\w]+\\.[\\w]+\\.?[a-zA-Zа-яёА-ЯЁ]*$')\n",
    "    if not mail_checker.match(mail):\n",
    "        return 'invalid adress'\n",
    "    return 'valid adress'"
   ]
  },
  {
   "cell_type": "code",
   "execution_count": 77,
   "metadata": {},
   "outputs": [
    {
     "data": {
      "text/plain": [
       "'valid adress'"
      ]
     },
     "execution_count": 77,
     "metadata": {},
     "output_type": "execute_result"
    }
   ],
   "source": [
    "mail_check('asa66_sf@saf99a.sewr12.sы')"
   ]
  },
  {
   "cell_type": "markdown",
   "metadata": {},
   "source": [
    "## Задание 3\n",
    "При помощи регулярных выражений напишите функцию, которая будет возвращать акроним переданного в нее текста."
   ]
  },
  {
   "cell_type": "code",
   "execution_count": 17,
   "metadata": {},
   "outputs": [
    {
     "data": {
      "text/plain": [
       "'ASЫRRSSЫS'"
      ]
     },
     "execution_count": 17,
     "metadata": {},
     "output_type": "execute_result"
    }
   ],
   "source": [
    "text = '55asff !safsf ыфафы :::reggre rewbw SAF sfda _ыфаафы !345! -saf'\n",
    "def acronym_func(text):\n",
    "    res = ''\n",
    "    words = re.findall('[a-zA-Zа-яёА-ЯЁ]+', text)\n",
    "    for c in words:\n",
    "        res += c[0]\n",
    "    return res.upper()\n",
    "\n",
    "acronym_func(text)"
   ]
  },
  {
   "cell_type": "markdown",
   "metadata": {},
   "source": [
    "## Задание 4\n",
    "Напишите функцию, которая будет удалять все последовательные повторы слов из заданной строки."
   ]
  },
  {
   "cell_type": "code",
   "execution_count": 28,
   "metadata": {},
   "outputs": [],
   "source": [
    "text = 'ewrwre. ewr  44erw! 44erw! 44erw ! 4erw  44erw iij!! iij iij  фаа iij iij фаа фаа фаа фаа01'"
   ]
  },
  {
   "cell_type": "code",
   "execution_count": 29,
   "metadata": {},
   "outputs": [
    {
     "data": {
      "text/plain": [
       "'ewrwre ewr 4 44erw iij фаа фаа фаа01'"
      ]
     },
     "execution_count": 29,
     "metadata": {},
     "output_type": "execute_result"
    }
   ],
   "source": [
    "def del_repeats(text):\n",
    "    \"\"\"Сложный случай с цифрами и пунктуацией:\"\"\"\n",
    "# снимаю пунктуацию\n",
    "    new_text = re.sub(r'[^\\w\\s]','', text)\n",
    "# избавляюсь от лишних пробелов\n",
    "    new_text = re.sub(r'\\s+',' ', new_text)\n",
    "# избавимся от повторов\n",
    "    new_text = re.sub(r'(\\w+\\s)\\1', ' ', new_text) # здесь не понимаю как работает '\\1' - удаляет только кратные? как указать 'quote'\n",
    "# избавляюсь от лишних пробелов, которые образуются в следствии предыдущей операции\n",
    "    new_text = re.sub(r'\\s+',' ', new_text)\n",
    "    return new_text\n",
    "\n",
    "del_repeats(text)"
   ]
  },
  {
   "cell_type": "code",
   "execution_count": 30,
   "metadata": {},
   "outputs": [
    {
     "data": {
      "text/plain": [
       "'ewrwre. ewr 44erw ! 4erw 44erw iij!! фаа01'"
      ]
     },
     "execution_count": 30,
     "metadata": {},
     "output_type": "execute_result"
    }
   ],
   "source": [
    "def del_repeats(text):\n",
    "    \"\"\"простой рабочий способ:\"\"\"\n",
    "# избавляюсь от лишних пробелов\n",
    "    new_text = re.sub(r'\\s+',' ', text)\n",
    "# избавимся от повторов\n",
    "    new_text = re.sub(r'(\\w+[\\S\\W]+\\s)\\1', '', new_text)\n",
    "    return new_text\n",
    "\n",
    "del_repeats(text)"
   ]
  },
  {
   "cell_type": "markdown",
   "metadata": {},
   "source": [
    "## Задание 5\n",
    "Напишите функцию, которая будет проверять номер сотового телефона на валидность, если он валиден, то переводить его в формат:   \n",
    "+7(xxx)-xxx-xx-xx  \n",
    "Постарайтесь предусмотреть как можно больше адекватных форматов изначального ввода номера.\n",
    "Примеры правильных и неправильных форматов:\n",
    "- +1 555 555-55-55;\n",
    "- 5555555555;\n",
    "- 555555555;\n",
    "- 8(555)555-55-55;\n",
    "- +7 555 555 55 55;\n",
    "- 7(555) 555-55-55;\n",
    "- +7 555+555+55+55."
   ]
  },
  {
   "cell_type": "code",
   "execution_count": 172,
   "metadata": {},
   "outputs": [],
   "source": [
    "tel_list = [\n",
    "'+1 555 555-55-55',\n",
    "'555 555 55 55',\n",
    "'55 555 55 55',\n",
    "'8(555)555-55-55',\n",
    "'+7 555 555 55 55',\n",
    "'7(555) 555-55  -55',\n",
    "'+7 555+555+55+55'\n",
    "]"
   ]
  },
  {
   "cell_type": "code",
   "execution_count": 47,
   "metadata": {},
   "outputs": [
    {
     "name": "stdout",
     "output_type": "stream",
     "text": [
      "Input number:  1955) 555-55  -55\n",
      "It should be mistake: first digit is 7 or 8 usually.\n"
     ]
    },
    {
     "data": {
      "text/plain": [
       "('Check number: ', '+7(955)-555-55-55')"
      ]
     },
     "execution_count": 47,
     "metadata": {},
     "output_type": "execute_result"
    }
   ],
   "source": [
    "number = '1955) 555-55  -55'\n",
    "\n",
    "def tel_check(tel_list):\n",
    "    \"\"\"\n",
    "    Отталкиваясь от российских реалий:\n",
    "    номер можно указать из 10 или 11 цифр,\n",
    "    остальное полагаю за опечатку.\n",
    "    \"\"\"\n",
    "    print('Input number: ', number)\n",
    "#     оставляю только цифры\n",
    "    clear_number = re.sub(r'[^\\w]','', number)\n",
    "# 11-значный номер\n",
    "    if len(clear_number) == 11:\n",
    "# утверждаю, что начинается с 7 или 8\n",
    "        if clear_number[0] not in '78':\n",
    "            print('It should be mistake: first digit is 7 or 8 usually.')\n",
    "# код оператора начинается с 9, как утвердили в лекции\n",
    "        if clear_number[1] == '9':\n",
    "            return 'Check number: ', re.sub(r'(\\d)(\\d{3})(\\d{3})(\\d{2})(\\d{2})', r'+7(\\2)-\\3-\\4-\\5', clear_number)\n",
    "        else: return 'Invalid prefix, second digit should be 9'\n",
    "# 10-значный номер\n",
    "    elif len(clear_number) == 10:\n",
    "        if clear_number[0] == '9':\n",
    "            return 'Check number: ', re.sub(r'(\\d{3})(\\d{3})(\\d{2})(\\d{2})', r'+7(\\1)-\\2-\\3-\\4', clear_number)\n",
    "        else: return 'Invalid prefix, first digit should be 9'\n",
    "# если номер короток или слишком длинный\n",
    "    elif len(clear_number) < 10: return 'Invalid prefix, less 10 digit.'\n",
    "    elif len(clear_number) > 11: return 'Invalid prefix, more 11 digit.'\n",
    "                \n",
    "tel_check(number)"
   ]
  }
 ],
 "metadata": {
  "kernelspec": {
   "display_name": "Python 3",
   "language": "python",
   "name": "python3"
  },
  "language_info": {
   "codemirror_mode": {
    "name": "ipython",
    "version": 3
   },
   "file_extension": ".py",
   "mimetype": "text/x-python",
   "name": "python",
   "nbconvert_exporter": "python",
   "pygments_lexer": "ipython3",
   "version": "3.7.3"
  }
 },
 "nbformat": 4,
 "nbformat_minor": 2
}
