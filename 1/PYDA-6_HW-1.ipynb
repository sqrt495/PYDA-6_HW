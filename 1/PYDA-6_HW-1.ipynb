{
 "cells": [
  {
   "cell_type": "markdown",
   "metadata": {},
   "source": [
    "**Задание 1**"
   ]
  },
  {
   "cell_type": "markdown",
   "metadata": {},
   "source": [
    "Даны 2 строки: *long_phrase* и *short_phrase*. \n",
    "Напишите код, который проверяет действительно ли длинная фраза *long_phrase* длиннее короткой *short_phrase*. И выводит *True* или *False* в зависимости от результата сравнения."
   ]
  },
  {
   "cell_type": "code",
   "execution_count": 8,
   "metadata": {},
   "outputs": [],
   "source": [
    "long_phrase = 'Насколько проще было бы писать программы, если бы не заказчики'\n",
    "short_phrase = '640Кб должно хватить для любых задач. Билл Гейтс (по легенде)'"
   ]
  },
  {
   "cell_type": "code",
   "execution_count": 9,
   "metadata": {},
   "outputs": [
    {
     "name": "stdout",
     "output_type": "stream",
     "text": [
      "True\n"
     ]
    }
   ],
   "source": [
    "a = len(long_phrase) > len(short_phrase)\n",
    "print(a)"
   ]
  },
  {
   "cell_type": "markdown",
   "metadata": {},
   "source": [
    "**Задание 2**"
   ]
  },
  {
   "cell_type": "markdown",
   "metadata": {},
   "source": [
    "Дано значение объема файла в байтах. Напишите перевод этого значения в мегабайты в формате: \"*Объем файла равен 213.68Mb*\""
   ]
  },
  {
   "cell_type": "code",
   "execution_count": 10,
   "metadata": {},
   "outputs": [
    {
     "name": "stdout",
     "output_type": "stream",
     "text": [
      "Впишите объем файла в байтах:500000000\n",
      "Объем файла равен  476.837158203125 Mb\n"
     ]
    }
   ],
   "source": [
    "b = int(input('Впишите объем файла в байтах:'))\n",
    "        \n",
    "c = b / 2 ** 20\n",
    "print ('Объем файла равен ', c,'Mb')"
   ]
  },
  {
   "cell_type": "markdown",
   "metadata": {},
   "source": [
    "**Задание 3**"
   ]
  },
  {
   "cell_type": "markdown",
   "metadata": {},
   "source": [
    "Разработать приложение для определения знака зодиака по дате рождения. Пример:\n",
    "\n",
    "Введите месяц: март\n",
    "\n",
    "Введите число: 6\n",
    "\n",
    "Вывод:\n",
    "Рыбы"
   ]
  },
  {
   "cell_type": "code",
   "execution_count": 2,
   "metadata": {},
   "outputs": [
    {
     "name": "stdout",
     "output_type": "stream",
     "text": [
      "Давайте определим знак зодиака по дате рождения:\n",
      "\n",
      "Введите месяц рождения: июль\n",
      "\n",
      "Введите число рождения: 12\n",
      "\n",
      "В этот день родился:  Рак\n"
     ]
    }
   ],
   "source": [
    "import pandas as pd\n",
    "df = [\n",
    "[21, 'март', 20, 'апрель', 'Овен'],\n",
    "[21, 'апрель', 21, 'май', 'Телец'],\n",
    "[22, 'май', 21, 'июнь', 'Близнецы'],\n",
    "[22, 'июнь', 22, 'июль', 'Рак'],\n",
    "[23, 'июль', 23, 'август', 'Лев'],\n",
    "[24, 'август', 22, 'сентябрь', 'Дева'],\n",
    "[23, 'сентябрь', 22, 'октябрь', 'Весы'],\n",
    "[23, 'октябрь', 22, 'ноябрь', 'Скорпион'],\n",
    "[22, 'ноябрь', 21, 'декабрь', 'Стрелец'],\n",
    "[22, 'декабрь', 20, 'январь', 'Козерог'],\n",
    "[21, 'январь', 19, 'февраль', 'Водолей'],\n",
    "[20, 'февраль', 20, 'март', 'Рыбы']\n",
    "]\n",
    "column_names = ['first_date', 'first_month', 'second_date', 'second_month', 'zodiac']\n",
    "calendar = pd.DataFrame(data = df , columns = column_names)\n",
    "print('Давайте определим знак зодиака по дате рождения:')\n",
    "print()\n",
    "month_value = input('Введите месяц рождения: ').lower()\n",
    "print()\n",
    "for i_month in calendar.loc[:, 'first_month']:\n",
    "   if month_value == i_month:\n",
    "       date_value = int(input('Введите число рождения: '))\n",
    "       break\n",
    "else:\n",
    "   print ('Ошибка при написании месяца, попробуйте кириллицей.')\n",
    "print()\n",
    "first_hypothesis = calendar.loc[calendar['first_month'] == month_value]\n",
    "second_hypothesis = calendar.loc[calendar['second_month'] == month_value]\n",
    "second_step = first_hypothesis['first_date'].astype('int')\n",
    "if int(date_value) >= int(second_step):\n",
    "   zodiak = str(first_hypothesis.iloc[0].at['zodiac'])\n",
    "else:\n",
    "   zodiak = str(second_hypothesis.iloc[0].at['zodiac'])\n",
    "print('В этот день родился: ', zodiak)"
   ]
  },
  {
   "cell_type": "markdown",
   "metadata": {},
   "source": [
    "**Задание 4**"
   ]
  },
  {
   "cell_type": "markdown",
   "metadata": {},
   "source": [
    "Нужно разработать приложение для финансового планирования.\n",
    "Приложение учитывает сколько уходит на ипотеку, \"на жизнь\" и сколько нужно отложить на пенсию.\n",
    "Пользователь вводит:\n",
    "- заработанную плату в месяц.\n",
    "- сколько процентов от ЗП уходит на ипотеку.\n",
    "- сколько процентов от ЗП уходит \"на жизнь\".\n",
    "- сколько раз приходит премия в год.\n",
    "\n",
    "Остальная часть заработанной платы откладывается на пенсию.\n",
    "\n",
    "Также пользователю приходит премия в размере зарплаты, от которой половина уходит на отпуск, а вторая половина откладывается.\n",
    "\n",
    "Программа должна учитывать сколько премий было в год.\n",
    "\n",
    "Нужно вывести сколько денег тратит пользователь на ипотеку и сколько он накопит за год.\n",
    "\n",
    "Пример:\n",
    "\n",
    "Введите заработанную плату в месяц: 100000\n",
    "\n",
    "Введите сколько процентов уходит на ипотеку: 30\n",
    "\n",
    "Введите сколько процентов уходит на жизнь: 50\n",
    "\n",
    "Введите количество премий за год: 2\n",
    "\n",
    "Вывод:\n",
    "На ипотеку было потрачено: 360000 рублей\n",
    "Было накоплено: 340000 рублей"
   ]
  },
  {
   "cell_type": "code",
   "execution_count": 19,
   "metadata": {},
   "outputs": [
    {
     "name": "stdout",
     "output_type": "stream",
     "text": [
      "Здесь мы поможем вам посчитать баланс своих накоплений и распланировать бюджет. Укажмите ниже суммы доходов/расходов за месяц.\n",
      "                                              \n",
      "Укажите заработанную плату: 100000\n",
      "Укажите сколько процентов от ЗП уходит на ипотеку: 30\n",
      "Укажите сколько процентов от ЗП уходит \"на жизнь\": 50\n",
      "Тоже важно учесть! Сколько раз в году вы получаете премию? 2\n",
      "                                              \n",
      "За год вы потратите 360000 рублей на ипотеку, и накопите на счастливую старость 340000 рублей.\n"
     ]
    }
   ],
   "source": [
    "print('Здесь мы поможем вам посчитать баланс своих накоплений и распланировать бюджет. \\\n",
    "Укажмите ниже суммы доходов/расходов за месяц.')\n",
    "print('                                              ')\n",
    "income = int(input('Укажите заработанную плату: '))\n",
    "mortgage = int(input('Укажите сколько процентов от ЗП уходит на ипотеку: '))\n",
    "pocket_money = int(input('Укажите сколько процентов от ЗП уходит \"на жизнь\": '))\n",
    "the_prize = int(input('Тоже важно учесть! Сколько раз в году вы получаете премию? '))\n",
    "\n",
    "def percen_calc(a):\n",
    "    b = a * income / 100\n",
    "    return b\n",
    "mortgage_per_month = percen_calc(mortgage)\n",
    "mortgage_per_year = mortgage_per_month * 12\n",
    "pocket_money_per_month = percen_calc(pocket_money)\n",
    "accumulation = (income - mortgage_per_month - pocket_money_per_month)*12 + (income * the_prize / 2)\n",
    "print('                                              ')\n",
    "print('За год вы потратите', int(mortgage_per_year),'рублей на ипотеку, и накопите на счастливую старость', int(accumulation),'рублей.')"
   ]
  },
  {
   "cell_type": "markdown",
   "metadata": {},
   "source": [
    "# Задание дополнительное"
   ]
  },
  {
   "cell_type": "markdown",
   "metadata": {},
   "source": [
    "**Задание 1**"
   ]
  },
  {
   "cell_type": "markdown",
   "metadata": {},
   "source": [
    "\n",
    "https://ru.wikipedia.org/wiki/Fizz_buzz\n",
    "Начинающий произносит число “1”, и каждый следующий игрок прибавляет к предыдущему значению единицу. Когда число делится на три оно заменяется на fizz, если число делится на пять, то произносится buzz. Числа, делящиеся на три и пять одновременно заменяются на fizz buzz. Сделавший ошибку игрок исключается из игры.\n",
    "\n",
    "Типичная партия в fizz buzz выглядит так:\n",
    "1, 2, Fizz, 4, Buzz, Fizz, 7, 8, Fizz, Buzz, 11, Fizz, 13, 14, Fizz Buzz, 16, 17, Fizz, 19, Buzz, Fizz, 22, 23, Fizz, Buzz, 26, Fizz, 28, 29, Fizz Buzz, 31, 32, Fizz, 34, Buzz, Fizz, …\n",
    "\n",
    "Напишите код, выводящий на экран первые n элементов этой игры (естественно, корректные)."
   ]
  },
  {
   "cell_type": "code",
   "execution_count": 13,
   "metadata": {},
   "outputs": [
    {
     "name": "stdout",
     "output_type": "stream",
     "text": [
      "Какое оличество ходов игры выводим? 32\n",
      "1\n",
      "2\n",
      "Fizz\n",
      "4\n",
      "Buzz\n",
      "Fizz\n",
      "7\n",
      "8\n",
      "Fizz\n",
      "Buzz\n",
      "11\n",
      "Fizz\n",
      "13\n",
      "14\n",
      "Fizz-Buzz\n",
      "16\n",
      "17\n",
      "Fizz\n",
      "19\n",
      "Buzz\n",
      "Fizz\n",
      "22\n",
      "23\n",
      "Fizz\n",
      "Buzz\n",
      "26\n",
      "Fizz\n",
      "28\n",
      "29\n",
      "Fizz-Buzz\n",
      "31\n",
      "32\n"
     ]
    }
   ],
   "source": [
    "elements_qw = int(input('Какое оличество ходов игры выводим? ')) + 1\n",
    "for i in range(1, elements_qw):\n",
    "    if i % 15 == 0:\n",
    "        print('Fizz-Buzz')\n",
    "    elif i % 3 == 0:\n",
    "        print('Fizz')\n",
    "    elif i % 5 == 0:\n",
    "        print('Buzz')\n",
    "    else:\n",
    "        print(i)"
   ]
  },
  {
   "cell_type": "markdown",
   "metadata": {},
   "source": [
    "**Задание 2**"
   ]
  },
  {
   "cell_type": "markdown",
   "metadata": {},
   "source": [
    "\n",
    "Датчик принимает сигнал, состоящий из 0 и 1. Известно, что сигнал имеет периодичность, не превышающей натурального числа n. Напишите код, который вычисляет периодичность сигнала. Считайте, что 3 < n < 1000, а общая длина сигнала значительно превышает n.\n",
    "\n",
    "Пример сигнала с периодичностью 4 (повторяющийся элемент 1011):\n",
    "1011101110111011101110111011101110111011\n",
    "\n",
    "Еще одна интерпретация задачи, но без кода: https://tproger.ru/problems/endless-train/"
   ]
  },
  {
   "cell_type": "code",
   "execution_count": 9,
   "metadata": {},
   "outputs": [
    {
     "name": "stdout",
     "output_type": "stream",
     "text": [
      "Частота сиганала = 7, signal_part = 1110011\n"
     ]
    }
   ],
   "source": [
    "full_signal = '11100111110011111001111100111110011111001111100111110011'\n",
    "\n",
    "for n in range(3, 1000, 1):\n",
    "    if full_signal[:n] == full_signal[n: 2 * n] ==  full_signal[-n:]:\n",
    "        print (f'Частота сиганала = {str(len(full_signal[:n]))}, signal_part = {full_signal[:n]}')\n",
    "        break\n",
    "    else:\n",
    "        n += 1"
   ]
  },
  {
   "cell_type": "markdown",
   "metadata": {},
   "source": [
    "**Задание 3**"
   ]
  },
  {
   "cell_type": "markdown",
   "metadata": {},
   "source": [
    "Дано слово из латинских букв. Напишите скрипт, который выводит на экран букву из середины слова (если число букв нечетное). Если букв четное число, то на экран выводятся две буквы из середины.\n",
    "\n",
    "Для ‘test’ - 'es’\n",
    "Для ‘testing’ - ‘t’"
   ]
  },
  {
   "cell_type": "code",
   "execution_count": 11,
   "metadata": {},
   "outputs": [
    {
     "name": "stdout",
     "output_type": "stream",
     "text": [
      "Введите слово латиницей: patoka\n",
      "Две буквы по центру слова: to\n"
     ]
    }
   ],
   "source": [
    "word = input('Введите слово латиницей: ')\n",
    "w_middle = int(len(word) / 2)\n",
    "if len(word) % 2 == 0:\n",
    "    print(f'Две буквы по центру слова: ' + word[w_middle - 1] + word[w_middle])\n",
    "else:\n",
    "    print(f'Буква а центре слова: ' + word[w_middle])"
   ]
  }
 ],
 "metadata": {
  "kernelspec": {
   "display_name": "Python 3",
   "language": "python",
   "name": "python3"
  },
  "language_info": {
   "codemirror_mode": {
    "name": "ipython",
    "version": 3
   },
   "file_extension": ".py",
   "mimetype": "text/x-python",
   "name": "python",
   "nbconvert_exporter": "python",
   "pygments_lexer": "ipython3",
   "version": "3.7.3"
  }
 },
 "nbformat": 4,
 "nbformat_minor": 2
}
