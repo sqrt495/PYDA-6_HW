{
 "cells": [
  {
   "cell_type": "markdown",
   "metadata": {},
   "source": [
    "# Задание к лекции \"Функции\".\n",
    "Для зачета необходимо правильно выполнить 4 заданий из 6.  \n",
    "Для зачета с отличием – все 6."
   ]
  },
  {
   "cell_type": "markdown",
   "metadata": {},
   "source": [
    "## Задание 1"
   ]
  },
  {
   "cell_type": "markdown",
   "metadata": {},
   "source": [
    "Дан список вида:"
   ]
  },
  {
   "cell_type": "code",
   "execution_count": 1,
   "metadata": {},
   "outputs": [],
   "source": [
    "data = [\n",
    "    [13, 25, 23, 34],\n",
    "    [45, 32, 44, 47],\n",
    "    [12, 33, 23, 95],\n",
    "    [13, 53, 34, 35]\n",
    "]"
   ]
  },
  {
   "cell_type": "markdown",
   "metadata": {},
   "source": [
    "Напишите функцию, которая возвращает сумму элементов на диагонали. Т. е. 13+32+23+35.  \n",
    "Список может быть любой длины, но всегда является \"квадратным\" (количество элементов во вложенных списках равно их количеству)."
   ]
  },
  {
   "cell_type": "code",
   "execution_count": 2,
   "metadata": {},
   "outputs": [
    {
     "name": "stdout",
     "output_type": "stream",
     "text": [
      "Сумма по диогонали =  103\n"
     ]
    }
   ],
   "source": [
    "def sum_diagonal(data):\n",
    "    l = len(data)\n",
    "    a = sum(data[i][i] for i in range(l))\n",
    "    return a\n",
    "print('Сумма по диогонали = ', sum_diagonal(data))"
   ]
  },
  {
   "cell_type": "markdown",
   "metadata": {},
   "source": [
    "## Задание 2"
   ]
  },
  {
   "cell_type": "markdown",
   "metadata": {},
   "source": [
    "Напишите функцию, возвращающую сумму первых n чисел Фибоначчи (для этого вам может понадобится ознакомиться с рекурсией)."
   ]
  },
  {
   "cell_type": "code",
   "execution_count": 100,
   "metadata": {},
   "outputs": [],
   "source": [
    "def fib(n):\n",
    "    if n == 0:\n",
    "        return 0 \n",
    "    elif n == 1:\n",
    "        return 1\n",
    "    else:\n",
    "        return fib(n-1) + fib(n-2) + 1\n"
   ]
  },
  {
   "cell_type": "code",
   "execution_count": 107,
   "metadata": {},
   "outputs": [
    {
     "data": {
      "text/plain": [
       "1596"
      ]
     },
     "execution_count": 107,
     "metadata": {},
     "output_type": "execute_result"
    }
   ],
   "source": [
    "fib(15)"
   ]
  },
  {
   "cell_type": "markdown",
   "metadata": {},
   "source": [
    "## Задание 3"
   ]
  },
  {
   "cell_type": "markdown",
   "metadata": {},
   "source": [
    "Напишите программу (она может состоять из нескольких функций), которая будет запрашивать у пользователя количество гостей и список блюд, которые будут подаваться каждому гостю. В результате программа должна выдавать список покупок, состоящий из ингредиентов, которые нужно купить в магазине (если ингредиенты повторяются, то их нужно записать одной строкой, а не отдельно).\n",
    "\n",
    "Пример:\n",
    "\n",
    "вызов\\_главной\\_функций()\n",
    "\n",
    "Введите количество гостей: 3  \n",
    "Введите блюда через пробел: пицца пицца лимонад\n",
    "\n",
    "Список покупок:  \n",
    "сыр 120 гр  \n",
    "колбаса 180 гр  \n",
    "бекон 180 гр  \n",
    "оливки 60 гр  \n",
    "томаты 120 гр  \n",
    "тесто 600 гр  \n",
    "лимон 3 шт  \n",
    "вода 600 мл  \n",
    "сахар 30 гр  \n",
    "лайм 60 гр  "
   ]
  },
  {
   "cell_type": "markdown",
   "metadata": {},
   "source": [
    "### Комментарии:\n",
    "* в задании с блюдами ваш код не учитывает то, что ингредиенты в блюдах могут повторятся. Если вы попробуете ввести 2 одинаковых блюда, либо блюда, у которых пересекаются ингредиенты, то увидите, что расчет происходит неверно. Это нужно исправить.\n",
    "* в этой задаче код можно декомпозировать более атомарно, особенно после того, как вы его дополните. Разбейте его на отдельные задачи и вынесите их в отдельные функции. Глобальных переменных (кроме самих данных) оставлять не надо;"
   ]
  },
  {
   "cell_type": "code",
   "execution_count": 62,
   "metadata": {},
   "outputs": [],
   "source": [
    "cook_book = {\n",
    "  'салат': [\n",
    "     {'ingridient_name': 'сыр', 'quantity': 50, 'measure': 'гр'},\n",
    "     {'ingridient_name': 'томаты', 'quantity': 20, 'measure': 'гр'},\n",
    "     {'ingridient_name': 'огурцы', 'quantity': 20, 'measure': 'гр'},\n",
    "     {'ingridient_name': 'маслины', 'quantity': 10, 'measure': 'гр'},\n",
    "     {'ingridient_name': 'оливковое масло', 'quantity': 20, 'measure': 'мл'},\n",
    "     {'ingridient_name': 'салат', 'quantity': 10, 'measure': 'гр'},\n",
    "     {'ingridient_name': 'перец', 'quantity': 20, 'measure': 'гр'}\n",
    "    ],\n",
    "  'пицца': [\n",
    "     {'ingridient_name': 'сыр', 'quantity': 20, 'measure': 'гр'},\n",
    "     {'ingridient_name': 'колбаса', 'quantity': 30, 'measure': 'гр'},\n",
    "     {'ingridient_name': 'бекон', 'quantity': 30, 'measure': 'гр'},\n",
    "     {'ingridient_name': 'оливки', 'quantity': 10, 'measure': 'гр'},\n",
    "     {'ingridient_name': 'томаты', 'quantity': 20, 'measure': 'гр'},\n",
    "     {'ingridient_name': 'тесто', 'quantity': 100, 'measure': 'гр'},   \n",
    "    ],\n",
    "  'лимонад': [\n",
    "     {'ingridient_name': 'лимон', 'quantity': 1, 'measure': 'шт'},\n",
    "     {'ingridient_name': 'вода', 'quantity': 200, 'measure': 'мл'},\n",
    "     {'ingridient_name': 'сахар', 'quantity': 10, 'measure': 'гр'},\n",
    "     {'ingridient_name': 'лайм', 'quantity': 20, 'measure': 'гр'},    \n",
    "    ]\n",
    "}"
   ]
  },
  {
   "cell_type": "code",
   "execution_count": 66,
   "metadata": {},
   "outputs": [
    {
     "name": "stdout",
     "output_type": "stream",
     "text": [
      "Введите количество гостей:\n",
      "3\n",
      "Введите блюда через запятую (салат, пицца, лимонад):\n",
      "салат, пицца, лимонад\n",
      "Готовим ужин на 3 гостя/ей, блюда: ['салат', 'пицца', 'лимонад']. \n",
      "Cписок покупок:\n",
      "сыр 210 гр\n",
      "томаты 120 гр\n",
      "огурцы 60 гр\n",
      "маслины 30 гр\n",
      "оливковое масло 60 мл\n",
      "салат 30 гр\n",
      "перец 60 гр\n",
      "колбаса 90 гр\n",
      "бекон 90 гр\n",
      "оливки 30 гр\n",
      "тесто 300 гр\n",
      "лимон 3 шт\n",
      "вода 600 мл\n",
      "сахар 30 гр\n",
      "лайм 60 гр\n"
     ]
    }
   ],
   "source": [
    "def choice_list():\n",
    "    guests = int(input('Введите количество гостей:\\n'))\n",
    "    dishes_list = list(input('Введите блюда через запятую (салат, пицца, лимонад):\\n').split(', '))\n",
    "    for i in dishes_list:\n",
    "        if i not in cook_book.keys():\n",
    "            print(f'Блюда {i} нет в меню!')\n",
    "            dishes_list.pop(dishes_list.index(i))\n",
    "    print (f'Готовим ужин на {guests} гостя/ей, блюда: {dishes_list}. \\nCписок покупок:')\n",
    "    \n",
    "    ingridients = {}\n",
    "    for dish in dishes_list:\n",
    "        for ingridient in cook_book[dish]:\n",
    "            ingridients.setdefault(ingridient['ingridient_name'], 0)\n",
    "            ingridients[ingridient['ingridient_name']] += ingridient['quantity'] * guests\n",
    "    return ingridients\n",
    "\n",
    "def get_measure(ingridient, cook_book):\n",
    "    for el in cook_book.values():\n",
    "        for ing in el:\n",
    "            if ing['ingridient_name'] == ingridient:\n",
    "                return ing['measure']\n",
    "\n",
    "for ingridient, quantity in choice_list().items():\n",
    "    print(ingridient, quantity, get_measure(ingridient,cook_book))"
   ]
  },
  {
   "cell_type": "markdown",
   "metadata": {},
   "source": [
    "## Задание 4"
   ]
  },
  {
   "cell_type": "markdown",
   "metadata": {},
   "source": [
    "Вы работаете секретарем и вам постоянно приходят различные документы. Вы должны быть очень внимательны, чтобы не потерять ни один документ. Каталог документов хранится в следующем виде:"
   ]
  },
  {
   "cell_type": "code",
   "execution_count": 1,
   "metadata": {},
   "outputs": [],
   "source": [
    "documents = [\n",
    "    {'type': 'passport', 'number': '2207 876234', 'name': 'Василий Гупкин'},\n",
    "    {'type': 'invoice', 'number': '11-2', 'name': 'Геннадий Покемонов'},\n",
    "    {'type': 'insurance', 'number': '10006', 'name': 'Аристарх Павлов'}\n",
    "]"
   ]
  },
  {
   "cell_type": "markdown",
   "metadata": {},
   "source": [
    "Перечень полок, на которых находятся документы хранится в следующем виде:"
   ]
  },
  {
   "cell_type": "code",
   "execution_count": 2,
   "metadata": {},
   "outputs": [],
   "source": [
    "directories = {\n",
    "    '1': ['2207 876234', '11-2', '5455 028765'],\n",
    "    '2': ['10006', '5400 028765', '5455 002299'],\n",
    "    '3': []\n",
    "}"
   ]
  },
  {
   "cell_type": "markdown",
   "metadata": {},
   "source": [
    "Необходимо реализовать пользовательские команды (внимание! это не название функций, которые должны быть выразительными, а команды, которые вводит пользователь, чтобы получить необходимый результат):\n",
    "  \n",
    "- p – people – команда, которая спросит номер документа и выведет имя человека, которому он принадлежит;  \n",
    "- s – shelf – команда, которая спросит номер документа и выведет номер полки, на которой он находится  \n",
    "Правильно обработайте ситуацию, когда пользователь будет вводить несуществующий документ."
   ]
  },
  {
   "cell_type": "markdown",
   "metadata": {},
   "source": [
    "### Комментарии:\n",
    "* при поиске владельца несуществующего документа желательнов ыводить предупреждение, а не просто завершать работу программы;\n",
    "* поиск владельца работает некорректно:\n",
    "* Введите команду: p\n",
    "* Введите номер документа чтобы узнать владельца: 10006\n",
    "* результата нет\n",
    "\n",
    "* Введите команду: p\n",
    "* Введите номер документа чтобы узнать владельца: 10006\n",
    "* результата нет, хотя эти документы у нас точно есть;\n",
    "\n",
    "* аналогичная ситуация с поиском полки - он просто не работает при вообще существующих документов;\n",
    "* ситуация с декомпозицией кода - аналогичная предыдущему заданию. Абсолютно всю реализацию запихить в одну функцию не имеет особого смысла, нужно разбить логику на атомарную. Самый простой способ - у каждой команды своя отдельная функция + функция для обработки пользовательского ввода и вызова функций-команд."
   ]
  },
  {
   "cell_type": "code",
   "execution_count": 10,
   "metadata": {},
   "outputs": [],
   "source": [
    "def storage(documents, directories):\n",
    "    \n",
    "    comand_list = ['p', 'people', 's', 'shelf']\n",
    "    \n",
    "    def search_owner(documents, req):\n",
    "        for doc in documents:\n",
    "            if doc['number'] == req:\n",
    "                return f\"Владелец: {doc['name']}\"\n",
    "        return 'Вы указываете неверные данные!'\n",
    "\n",
    "\n",
    "    def search_d_num(directories, req):\n",
    "        for shelf, d_num in directories.items():\n",
    "            if req in d_num:\n",
    "                return f'Полка №{shelf}'\n",
    "        return 'Вы указываете неверные данные!'\n",
    "\n",
    "     \n",
    "\n",
    "    req_com = input(f'Введите команду из списка {comand_list}:\\n')\n",
    "    if req_com not in comand_list:\n",
    "        return 'Команды не существует!'\n",
    "    else:\n",
    "        req = input(f'Введите номер документа:\\n')           \n",
    "        if req_com in comand_list[:2]:\n",
    "            return search_owner(documents, req)\n",
    "        else: return search_d_num(directories, req)  \n",
    "\n",
    "\n",
    "    ask(comand_list)"
   ]
  },
  {
   "cell_type": "code",
   "execution_count": 16,
   "metadata": {},
   "outputs": [
    {
     "name": "stdout",
     "output_type": "stream",
     "text": [
      "Введите команду из списка ['p', 'people', 's', 'shelf']:\n",
      "people\n",
      "Введите номер документа:\n",
      "2207 876234\n"
     ]
    },
    {
     "data": {
      "text/plain": [
       "'Владелец: Василий Гупкин'"
      ]
     },
     "execution_count": 16,
     "metadata": {},
     "output_type": "execute_result"
    }
   ],
   "source": [
    "storage(documents, directories)"
   ]
  },
  {
   "cell_type": "markdown",
   "metadata": {},
   "source": [
    "## Задание 5"
   ]
  },
  {
   "cell_type": "markdown",
   "metadata": {},
   "source": [
    "К условию из задания 5 реализуйте следующие команды:\n",
    "  \n",
    "- l – list – команда, которая выведет список всех документов в формате   \n",
    "**passport \"2207 876234\" \"Василий Гупкин\"**  \n",
    "- as – add shelf – команда, которая спросит номер новой полки и добавит ее в перечень"
   ]
  },
  {
   "cell_type": "markdown",
   "metadata": {},
   "source": [
    "## Задание 6"
   ]
  },
  {
   "cell_type": "markdown",
   "metadata": {},
   "source": [
    "К условию из задания 5 реализуйте следующие команды:  \n",
    "  \n",
    "- d – delete – команда, которая спросит номер документа и удалит его из каталога и из перечня полок. Предусмотрите сценарий, когда пользователь вводит несуществующий документ;  \n",
    "- m – move – команда, которая спросит номер документа и целевую полку и переместит его с текущей полки на целевую. Корректно обработайте кейсы, когда пользователь пытается переместить несуществующий документ или переместить документ на несуществующую полку;  \n",
    "- a – add – команда, которая добавит новый документ в каталог и в перечень полок, спросив его номер, тип, имя владельца и номер полки, на котором он будет храниться."
   ]
  }
 ],
 "metadata": {
  "kernelspec": {
   "display_name": "Python 3",
   "language": "python",
   "name": "python3"
  },
  "language_info": {
   "codemirror_mode": {
    "name": "ipython",
    "version": 3
   },
   "file_extension": ".py",
   "mimetype": "text/x-python",
   "name": "python",
   "nbconvert_exporter": "python",
   "pygments_lexer": "ipython3",
   "version": "3.7.3"
  }
 },
 "nbformat": 4,
 "nbformat_minor": 2
}
