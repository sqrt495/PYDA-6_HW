{
 "cells": [
  {
   "cell_type": "markdown",
   "metadata": {},
   "source": [
    "## Задание 1"
   ]
  },
  {
   "cell_type": "code",
   "execution_count": 1,
   "metadata": {},
   "outputs": [],
   "source": [
    "from datetime import datetime\n",
    "from datetime import timedelta"
   ]
  },
  {
   "cell_type": "markdown",
   "metadata": {},
   "source": [
    "Напишите функцию date_range, которая возвращает список дней между датами start_date и end_date. Даты должны вводиться в формате YYYY-MM-DD."
   ]
  },
  {
   "cell_type": "code",
   "execution_count": 19,
   "metadata": {},
   "outputs": [
    {
     "name": "stdout",
     "output_type": "stream",
     "text": [
      "Введите начальную дату в формате \"YYYY-MM-DD\".\n",
      "1980-03-15\n",
      "Введите конечную дату в формате \"YYYY-MM-DD\".\n",
      "1980-03-22\n"
     ]
    },
    {
     "data": {
      "text/plain": [
       "['1980-03-16',\n",
       " '1980-03-17',\n",
       " '1980-03-18',\n",
       " '1980-03-19',\n",
       " '1980-03-20',\n",
       " '1980-03-21']"
      ]
     },
     "execution_count": 19,
     "metadata": {},
     "output_type": "execute_result"
    }
   ],
   "source": [
    "start_date = input('Введите начальную дату в формате \"YYYY-MM-DD\".\\n')\n",
    "end_date = input('Введите конечную дату в формате \"YYYY-MM-DD\".\\n')\n",
    "\n",
    "def date_range(start_date, end_date):\n",
    "    date_list = []\n",
    "    \n",
    "    current_dt = datetime.strptime(start_date, '%Y-%m-%d')\n",
    "    while current_dt < datetime.strptime(end_date, '%Y-%m-%d'):\n",
    "        current_dt += timedelta(days=1)\n",
    "        date_list.append(current_dt.strftime('%Y-%m-%d'))\n",
    "        \n",
    "    return date_list[:-1]\n",
    "\n",
    "date_range(start_date, end_date)"
   ]
  },
  {
   "cell_type": "markdown",
   "metadata": {},
   "source": [
    "## Задание 2"
   ]
  },
  {
   "cell_type": "markdown",
   "metadata": {},
   "source": [
    "Дополните функцию из первого задания проверкой на корректность дат. В случае неверного формата или если start_date > end_date должен возвращаться пустой список."
   ]
  },
  {
   "cell_type": "code",
   "execution_count": 16,
   "metadata": {},
   "outputs": [],
   "source": [
    "start_date = '1980-03-18'\n",
    "end_date = '1980-03-15'"
   ]
  },
  {
   "cell_type": "code",
   "execution_count": 17,
   "metadata": {},
   "outputs": [
    {
     "data": {
      "text/plain": [
       "[]"
      ]
     },
     "execution_count": 17,
     "metadata": {},
     "output_type": "execute_result"
    }
   ],
   "source": [
    "def date_range_with_check(start_date, end_date):\n",
    "    date_list_2 = []\n",
    "    \n",
    "    try:\n",
    "        datetime.strptime(start_date, '%Y-%m-%d') < datetime.strptime(end_date, '%Y-%m-%d')\n",
    "        \n",
    "        current_dt = datetime.strptime(start_date, '%Y-%m-%d')\n",
    "        while current_dt < datetime.strptime(end_date, '%Y-%m-%d'):\n",
    "            current_dt += timedelta(days=1)\n",
    "            date_list_2.append(current_dt.strftime('%Y-%m-%d'))\n",
    "            \n",
    "        return date_list_2[:-1]  \n",
    "    \n",
    "    except ValueError: \n",
    "        return date_list_2\n",
    "    \n",
    "date_range_with_check(start_date, end_date)"
   ]
  },
  {
   "cell_type": "markdown",
   "metadata": {},
   "source": [
    "## Задание 3"
   ]
  },
  {
   "cell_type": "markdown",
   "metadata": {},
   "source": [
    "Дан поток дат в формате YYYY-MM-DD, в которых встречаются некорректные значения:\n",
    "stream = [‘2018-04-02’, ‘2018-02-29’, ‘2018-19-02’]\n",
    "\n",
    "Напишите функцию, которая проверяет эти даты на корректность. Т. е. для каждой даты возвращает True (дата корректна) или False (некорректная дата)."
   ]
  },
  {
   "cell_type": "code",
   "execution_count": 41,
   "metadata": {},
   "outputs": [],
   "source": [
    "stream = ['2018-04-02', '2018-02-28', '2018-19-02', '2018-24-02', '2018-02-29', '2018-11-32', '2018-02-19', '2018-14-14']"
   ]
  },
  {
   "cell_type": "code",
   "execution_count": 42,
   "metadata": {},
   "outputs": [
    {
     "name": "stdout",
     "output_type": "stream",
     "text": [
      "2018-04-02 True\n",
      "2018-02-28 True\n",
      "2018-19-02 False\n",
      "2018-24-02 False\n",
      "2018-02-29 False\n",
      "2018-11-32 False\n",
      "2018-02-19 True\n",
      "2018-14-14 False\n"
     ]
    }
   ],
   "source": [
    "def date_checker(stream):\n",
    "    for d in stream:\n",
    "        try:\n",
    "            datetime.strptime(d, '%Y-%m-%d')\n",
    "            print(d, True)\n",
    "        except ValueError:\n",
    "            print(d, False)\n",
    "            \n",
    "date_checker(stream)"
   ]
  },
  {
   "cell_type": "markdown",
   "metadata": {},
   "source": [
    "## Задание 4 (бонусное)"
   ]
  },
  {
   "cell_type": "markdown",
   "metadata": {},
   "source": [
    "Ваш коллега прислал код функции:"
   ]
  },
  {
   "cell_type": "code",
   "execution_count": 6,
   "metadata": {},
   "outputs": [],
   "source": [
    "DEFAULT_USER_COUNT = 3\n",
    "\n",
    "def delete_and_return_last_user(region, default_list=['A100', 'A101', 'A102']):\n",
    "    \"\"\"\n",
    "    Удаляет из списка default_list последнего пользователя\n",
    "    и возвращает ID нового последнего пользователя.\n",
    "    \"\"\"\n",
    "    element_to_delete = default_list[-1]\n",
    "    default_list.remove(element_to_delete)\n",
    "    return default_list[DEFAULT_USER_COUNT-2]"
   ]
  },
  {
   "cell_type": "markdown",
   "metadata": {},
   "source": [
    "При однократном вызове этой функции все работает корректно:\n",
    "delete_and_return_last_user(1)\n",
    "‘A101’\n",
    "\n",
    "Однако, при повторном вызове получается ошибка IndexError: list index out of range.\n",
    "\n",
    "Задание:\n",
    "\n",
    "* Что значит ошибка list index out of range?\n",
    "* Почему при первом запуске функция работает корректно, а при втором - нет?"
   ]
  },
  {
   "cell_type": "code",
   "execution_count": 72,
   "metadata": {},
   "outputs": [],
   "source": [
    "DEFAULT_USER_COUNT = 3\n",
    "\n",
    "def delete_and_return_last_user(region, default_list=['A100', 'A101', 'A102']):\n",
    "    \"\"\"\n",
    "    Удаляет из списка default_list последнего пользователя\n",
    "    и возвращает ID нового последнего пользователя.\n",
    "    \"\"\"\n",
    "    element_to_delete = default_list[-1]\n",
    "    default_list.remove(element_to_delete)\n",
    "    return default_list[DEFAULT_USER_COUNT-2]"
   ]
  },
  {
   "cell_type": "code",
   "execution_count": 73,
   "metadata": {},
   "outputs": [
    {
     "data": {
      "text/plain": [
       "'A101'"
      ]
     },
     "execution_count": 73,
     "metadata": {},
     "output_type": "execute_result"
    }
   ],
   "source": [
    "delete_and_return_last_user(1)"
   ]
  },
  {
   "cell_type": "markdown",
   "metadata": {},
   "source": [
    "### Ответ:\n",
    "\n",
    "* Все расказано на лекции, переменные надо копировать а не переназначть. Думаю, можно решать такого рода задачу через объявление глобальной переменной, но в этом коде все криво))\n",
    "\n",
    "\n",
    "* 'list index out of range' - указывает на то, что элемент с требуемым индексом отсутствует в генераторе.\n",
    "\n",
    "\n",
    "* При повторном запуске функции мы обращаемся к элементу с индкесом '1', этот элемент будет удален в процессе выполнения функции (второй раз), поэтому происходит ошибка."
   ]
  },
  {
   "cell_type": "code",
   "execution_count": null,
   "metadata": {},
   "outputs": [],
   "source": []
  }
 ],
 "metadata": {
  "kernelspec": {
   "display_name": "Python 3",
   "language": "python",
   "name": "python3"
  },
  "language_info": {
   "codemirror_mode": {
    "name": "ipython",
    "version": 3
   },
   "file_extension": ".py",
   "mimetype": "text/x-python",
   "name": "python",
   "nbconvert_exporter": "python",
   "pygments_lexer": "ipython3",
   "version": "3.7.3"
  }
 },
 "nbformat": 4,
 "nbformat_minor": 2
}
