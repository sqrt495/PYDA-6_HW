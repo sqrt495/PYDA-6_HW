{
 "cells": [
  {
   "cell_type": "markdown",
   "metadata": {},
   "source": [
    "**Задание 1**"
   ]
  },
  {
   "cell_type": "markdown",
   "metadata": {},
   "source": [
    "Дан список с визитами по городам и странам. \n",
    "Напишите код, который возвращает отфильтрованный список geo_logs, содержащий только визиты из России."
   ]
  },
  {
   "cell_type": "code",
   "execution_count": 37,
   "metadata": {},
   "outputs": [],
   "source": [
    "geo_logs = [\n",
    "    {'visit1': ['Москва', 'Россия']},\n",
    "    {'visit2': ['Дели', 'Индия']},\n",
    "    {'visit3': ['Владимир', 'Россия']},\n",
    "    {'visit4': ['Лиссабон', 'Португалия']},\n",
    "    {'visit5': ['Париж', 'Франция']},\n",
    "    {'visit6': ['Лиссабон', 'Португалия']},\n",
    "    {'visit7': ['Тула', 'Россия']},\n",
    "    {'visit8': ['Тула', 'Россия']},\n",
    "    {'visit9': ['Курск', 'Россия']},\n",
    "    {'visit10': ['Архангельск', 'Россия']}\n",
    "]"
   ]
  },
  {
   "cell_type": "code",
   "execution_count": 39,
   "metadata": {},
   "outputs": [
    {
     "data": {
      "text/plain": [
       "[{'visit1': ['Москва', 'Россия']},\n",
       " {'visit3': ['Владимир', 'Россия']},\n",
       " {'visit7': ['Тула', 'Россия']},\n",
       " {'visit8': ['Тула', 'Россия']},\n",
       " {'visit9': ['Курск', 'Россия']},\n",
       " {'visit10': ['Архангельск', 'Россия']}]"
      ]
     },
     "execution_count": 39,
     "metadata": {},
     "output_type": "execute_result"
    }
   ],
   "source": [
    "list(filter(lambda visit: 'Россия' in list(visit.values())[0], geo_logs))"
   ]
  },
  {
   "cell_type": "markdown",
   "metadata": {},
   "source": [
    "**Задание 2**"
   ]
  },
  {
   "cell_type": "markdown",
   "metadata": {},
   "source": [
    "Выведите на экран все уникальные гео-ID из значений словаря ids. Т. е. список вида [213, 15, 54, 119, 98, 35]"
   ]
  },
  {
   "cell_type": "code",
   "execution_count": 40,
   "metadata": {},
   "outputs": [],
   "source": [
    "ids = {'user1': [213, 213, 213, 15, 213], \n",
    "       'user2': [54, 54, 119, 119, 119], \n",
    "       'user3': [213, 98, 98, 35]}"
   ]
  },
  {
   "cell_type": "code",
   "execution_count": 42,
   "metadata": {},
   "outputs": [
    {
     "name": "stdout",
     "output_type": "stream",
     "text": [
      "[98, 35, 15, 213, 54, 119]\n"
     ]
    }
   ],
   "source": [
    "result = []\n",
    "unique = []\n",
    "for lists in ids.values():\n",
    "    result.extend(lists)\n",
    "print(list(set(result)))"
   ]
  },
  {
   "cell_type": "markdown",
   "metadata": {},
   "source": [
    "**Задание 3**"
   ]
  },
  {
   "cell_type": "markdown",
   "metadata": {},
   "source": [
    "Дан список поисковых запросов. Получить распределение количества слов в них. \n",
    "Т. е. поисковых запросов из одного - слова 5%, из двух - 7%, из трех - 3% и т.д."
   ]
  },
  {
   "cell_type": "code",
   "execution_count": 1,
   "metadata": {},
   "outputs": [],
   "source": [
    "queries = [\n",
    "    'смотреть сериалы онлайн',\n",
    "    'новости спорта',\n",
    "    'афиша кино',\n",
    "    'курс доллара',\n",
    "    'сериалы этим летом',\n",
    "    'курс по питону',\n",
    "    'сериалы про спорт',\n",
    "]"
   ]
  },
  {
   "cell_type": "code",
   "execution_count": 3,
   "metadata": {},
   "outputs": [
    {
     "name": "stdout",
     "output_type": "stream",
     "text": [
      "Всего запросов из 2 слов: 3 шт.\n",
      "Поисковых запросов из 2 слов 42.86 % от общего числа.\n",
      "\n",
      "Всего запросов из 3 слов: 4 шт.\n",
      "Поисковых запросов из 3 слов 57.14 % от общего числа.\n",
      "\n"
     ]
    }
   ],
   "source": [
    "qw_words = []\n",
    "for our_str in queries:\n",
    "    q_o_s = len(our_str.split(' '))\n",
    "    qw_words += [q_o_s]\n",
    "\n",
    "uniq_qw_words = set(qw_words)\n",
    "list_of_uniq = (list(uniq_qw_words))\n",
    "\n",
    "for i in list_of_uniq:\n",
    "    counter = qw_words.count(i)\n",
    "    print(f'Всего запросов из {i} слов: {counter} шт.')\n",
    "    percent = counter / len(queries) *100\n",
    "    print(f'Поисковых запросов из {i} слов {percent:.2f} % от общего числа.')\n",
    "    print()"
   ]
  },
  {
   "cell_type": "markdown",
   "metadata": {},
   "source": [
    "**Дополнительное задание - по желанию**\n",
    "\n",
    "**Задание 4 (бонусное)**"
   ]
  },
  {
   "cell_type": "markdown",
   "metadata": {},
   "source": [
    "Дан поток логов по количеству просмотренных страниц для каждого пользователя. Список отсортирован по ID пользователя. Вам необходимо написать алгоритм, который считает среднее значение просмотров на пользователя. Т. е. надо посчитать отношение суммы всех просмотров к количеству уникальных пользователей. Учтите, что весь список stream не помещается в оперативную память, т. е. его нужно обрабатывать поэлементно в цикле."
   ]
  },
  {
   "cell_type": "code",
   "execution_count": 8,
   "metadata": {},
   "outputs": [],
   "source": [
    "stream = [\n",
    "    '2018-01-01,user1,3',\n",
    "    '2018-01-07,user1,4',\n",
    "    '2018-03-29,user1,1',\n",
    "    '2018-04-04,user1,13',\n",
    "    '2018-01-05,user2,7',\n",
    "    '2018-06-14,user3,4',\n",
    "    '2018-07-02,user3,10',\n",
    "    '2018-03-21,user4,19',\n",
    "    '2018-03-22,user4,4',\n",
    "    '2018-04-22,user4,8',\n",
    "    '2018-05-03,user4,9',\n",
    "    '2018-05-11,user4,11',\n",
    "]"
   ]
  },
  {
   "cell_type": "code",
   "execution_count": 14,
   "metadata": {},
   "outputs": [
    {
     "name": "stdout",
     "output_type": "stream",
     "text": [
      "Отношение суммы всех просмотров к количеству уникальных пользователей = 23.25.\n"
     ]
    }
   ],
   "source": [
    "def spliter_list(my_list):\n",
    "    new_list = []\n",
    "    for strings in my_list:\n",
    "        all_strings = strings.split(',')\n",
    "        del all_strings[0]\n",
    "        all_strings[1] = int(all_strings[1])\n",
    "        new_list.append(all_strings)\n",
    "    return new_list\n",
    "\n",
    "new_list = spliter_list(stream)\n",
    "\n",
    "total_requests = 0\n",
    "for i in new_list:\n",
    "    total_requests += i[1]\n",
    "    \n",
    "new_list = dict(new_list)\n",
    "solution = total_requests / len(new_list)\n",
    "print(f'Отношение суммы всех просмотров к количеству уникальных пользователей = {solution}.')"
   ]
  }
 ],
 "metadata": {
  "kernelspec": {
   "display_name": "Python 3",
   "language": "python",
   "name": "python3"
  },
  "language_info": {
   "codemirror_mode": {
    "name": "ipython",
    "version": 3
   },
   "file_extension": ".py",
   "mimetype": "text/x-python",
   "name": "python",
   "nbconvert_exporter": "python",
   "pygments_lexer": "ipython3",
   "version": "3.7.3"
  }
 },
 "nbformat": 4,
 "nbformat_minor": 2
}
