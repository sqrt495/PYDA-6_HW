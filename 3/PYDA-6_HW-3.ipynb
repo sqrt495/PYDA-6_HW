{
 "cells": [
  {
   "cell_type": "markdown",
   "metadata": {},
   "source": [
    "**Задание 1**"
   ]
  },
  {
   "cell_type": "markdown",
   "metadata": {},
   "source": [
    "Дана статистика рекламных каналов по объемам продаж. Напишите скрипт, который возвращает название канала с максимальным объемом.\n",
    "Т. е. в данном примере скрипт должен возвращать 'yandex'."
   ]
  },
  {
   "cell_type": "code",
   "execution_count": 16,
   "metadata": {},
   "outputs": [],
   "source": [
    "stats = {'facebook': 55, 'yandex': 120, 'vk': 115, 'google': 99, 'email': 42, 'ok': 98}"
   ]
  },
  {
   "cell_type": "code",
   "execution_count": 17,
   "metadata": {},
   "outputs": [
    {
     "data": {
      "text/plain": [
       "'yandex'"
      ]
     },
     "execution_count": 17,
     "metadata": {},
     "output_type": "execute_result"
    }
   ],
   "source": [
    "sorted_stats = sorted(list(stats.items()), reverse = True)[0][0]\n",
    "sorted_stats"
   ]
  },
  {
   "cell_type": "markdown",
   "metadata": {},
   "source": [
    "**Задание 2**"
   ]
  },
  {
   "cell_type": "markdown",
   "metadata": {},
   "source": [
    "Дан список описаний товаров descriptions.\n",
    "\n",
    "Есть подозрение, что некоторые описания содержат много дубликатов одних и тех же слов. Т. е. могут быть переоптимизированными. Для каждого описания товара выведите на экран разницу между количеством уникальных слов и общим количеством слов в этом описании."
   ]
  },
  {
   "cell_type": "code",
   "execution_count": 2,
   "metadata": {},
   "outputs": [],
   "source": [
    "descriptions = [\n",
    "['браслет', 'xiaomi', 'mi', 'band', '2.', 'умный', 'браслет', 'xiaomi', 'mi', 'лидер', 'в', 'линейке', 'xiaomi.', 'фитнес', 'браслет', 'для', 'android', '4.4,', 'ios', '7,', 'экран', 'oled.', 'лучший', 'выбор', 'xiaomi'],\n",
    "['браслет', 'huawei', 'honor', 'band', '3.', 'фитнес', 'браслет', 'влагозащищенный', 'сенсорный', 'экран', 'android,', 'ios', 'мониторинг', 'сна'],\n",
    "['браслет', 'samsung', 'gear', 'fit2', 'pro.', 'влагозащищенный', 'сенсорный', 'amoled-экран', 'мониторинг', 'сна,', 'калорий,', 'новинка', 'samsung']\n",
    "]"
   ]
  },
  {
   "cell_type": "code",
   "execution_count": 120,
   "metadata": {},
   "outputs": [
    {
     "name": "stdout",
     "output_type": "stream",
     "text": [
      "общее количество слов в описании: 25\n",
      "количество уникальных слов cлов в описании: 19\n",
      "разница в общем количестве слов в описании и уникальных 6\n",
      "\n",
      "общее количество слов в описании: 14\n",
      "количество уникальных слов cлов в описании: 13\n",
      "разница в общем количестве слов в описании и уникальных 1\n",
      "\n",
      "общее количество слов в описании: 13\n",
      "количество уникальных слов cлов в описании: 12\n",
      "разница в общем количестве слов в описании и уникальных 1\n",
      "\n"
     ]
    }
   ],
   "source": [
    "import string\n",
    "\n",
    "clear_descriptions_list = []\n",
    "temporary_lists = []\n",
    "\n",
    "set_for_check = ()\n",
    "\n",
    "for i in descriptions:\n",
    "    print(f'общее количество слов в описании: {len(i)}')\n",
    "    \n",
    "    for el in i:\n",
    "        a = el.rstrip(string.punctuation)\n",
    "        temporary_lists.append(a)\n",
    "\n",
    "    clear_descriptions_list.append(temporary_lists.copy())\n",
    "    set_for_check = set(temporary_lists)\n",
    "    print(f'количество уникальных слов cлов в описании: {len(set_for_check)}')\n",
    "    temporary_lists.clear()\n",
    "    print(f'разница в общем количестве слов в описании и уникальных: {len(i) - len(set_for_check)}')\n",
    "    print()"
   ]
  },
  {
   "cell_type": "markdown",
   "metadata": {},
   "source": [
    "**Задание 3**"
   ]
  },
  {
   "cell_type": "markdown",
   "metadata": {},
   "source": [
    "В примере поиска с помощью кортежей мы использовали 3 столбца. Напишите функцию, которая формирует словарь для поиска по n столбцам."
   ]
  },
  {
   "cell_type": "code",
   "execution_count": 21,
   "metadata": {},
   "outputs": [],
   "source": [
    "# создам список 10 х 10\n",
    "import numpy as np\n",
    "df = np.random.random((10,10))\n",
    "# df"
   ]
  },
  {
   "cell_type": "code",
   "execution_count": 59,
   "metadata": {},
   "outputs": [
    {
     "data": {
      "text/plain": [
       "[0.07917970466805024,\n",
       " 0.05797118473854612,\n",
       " 0.17860676783396046,\n",
       " 0.7123832224931904,\n",
       " 0.0068499067661697,\n",
       " 0.49400693921408045,\n",
       " 0.8459325636203935,\n",
       " 0.3579628398121991,\n",
       " 0.23235814776351293,\n",
       " 0.6040815776405551]"
      ]
     },
     "execution_count": 59,
     "metadata": {},
     "output_type": "execute_result"
    }
   ],
   "source": [
    "my_list = np.array(df).tolist()\n",
    "my_list[0]"
   ]
  },
  {
   "cell_type": "code",
   "execution_count": 64,
   "metadata": {},
   "outputs": [],
   "source": [
    "def searcher_by_dict(your_list, n):\n",
    "    search_dict = {}\n",
    "    for line in your_list:\n",
    "        search_dict[tuple(line[:n])] = line[-n:]\n",
    "        for key, value in search_dict.items():\n",
    "            return key, value"
   ]
  },
  {
   "cell_type": "code",
   "execution_count": 65,
   "metadata": {},
   "outputs": [
    {
     "data": {
      "text/plain": [
       "((0.07917970466805024,\n",
       "  0.05797118473854612,\n",
       "  0.17860676783396046,\n",
       "  0.7123832224931904,\n",
       "  0.0068499067661697,\n",
       "  0.49400693921408045),\n",
       " [0.0068499067661697,\n",
       "  0.49400693921408045,\n",
       "  0.8459325636203935,\n",
       "  0.3579628398121991,\n",
       "  0.23235814776351293,\n",
       "  0.6040815776405551])"
      ]
     },
     "execution_count": 65,
     "metadata": {},
     "output_type": "execute_result"
    }
   ],
   "source": [
    "searcher_by_dict(my_list, 6)"
   ]
  }
 ],
 "metadata": {
  "kernelspec": {
   "display_name": "Python 3",
   "language": "python",
   "name": "python3"
  },
  "language_info": {
   "codemirror_mode": {
    "name": "ipython",
    "version": 3
   },
   "file_extension": ".py",
   "mimetype": "text/x-python",
   "name": "python",
   "nbconvert_exporter": "python",
   "pygments_lexer": "ipython3",
   "version": "3.7.3"
  }
 },
 "nbformat": 4,
 "nbformat_minor": 2
}
